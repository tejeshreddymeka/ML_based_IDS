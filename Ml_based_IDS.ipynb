{
  "nbformat": 4,
  "nbformat_minor": 0,
  "metadata": {
    "kernelspec": {
      "name": "python3",
      "display_name": "Python 3"
    },
    "language_info": {
      "codemirror_mode": {
        "name": "ipython",
        "version": 3
      },
      "file_extension": ".py",
      "mimetype": "text/x-python",
      "name": "python",
      "nbconvert_exporter": "python",
      "pygments_lexer": "ipython3",
      "version": "3.7.4"
    },
    "colab": {
      "name": "Ml_based_IDS.ipynb",
      "provenance": [],
      "collapsed_sections": [],
      "toc_visible": true,
      "include_colab_link": true
    },
    "accelerator": "GPU"
  },
  "cells": [
    {
      "cell_type": "markdown",
      "metadata": {
        "id": "view-in-github",
        "colab_type": "text"
      },
      "source": [
        "<a href=\"https://colab.research.google.com/github/tejeshreddymeka/ML_based_IDS/blob/master/Ml_based_IDS.ipynb\" target=\"_parent\"><img src=\"https://colab.research.google.com/assets/colab-badge.svg\" alt=\"Open In Colab\"/></a>"
      ]
    },
    {
      "cell_type": "code",
      "metadata": {
        "id": "nfUvRbBxt40V",
        "colab_type": "code",
        "outputId": "1f672987-d384-4f3b-c9b5-8b47a878baf2",
        "colab": {
          "base_uri": "https://localhost:8080/",
          "height": 363
        }
      },
      "source": [
        "from google.colab import files\n",
        "files.upload()"
      ],
      "execution_count": 0,
      "outputs": [
        {
          "output_type": "display_data",
          "data": {
            "text/html": [
              "\n",
              "     <input type=\"file\" id=\"files-8074c4b6-7f8b-4f61-8f02-6953132f42a9\" name=\"files[]\" multiple disabled />\n",
              "     <output id=\"result-8074c4b6-7f8b-4f61-8f02-6953132f42a9\">\n",
              "      Upload widget is only available when the cell has been executed in the\n",
              "      current browser session. Please rerun this cell to enable.\n",
              "      </output>\n",
              "      <script src=\"/nbextensions/google.colab/files.js\"></script> "
            ],
            "text/plain": [
              "<IPython.core.display.HTML object>"
            ]
          },
          "metadata": {
            "tags": []
          }
        },
        {
          "output_type": "error",
          "ename": "MessageError",
          "evalue": "ignored",
          "traceback": [
            "\u001b[0;31m---------------------------------------------------------------------------\u001b[0m",
            "\u001b[0;31mMessageError\u001b[0m                              Traceback (most recent call last)",
            "\u001b[0;32m<ipython-input-1-5c2e8a8d365b>\u001b[0m in \u001b[0;36m<module>\u001b[0;34m()\u001b[0m\n\u001b[1;32m      1\u001b[0m \u001b[0;32mfrom\u001b[0m \u001b[0mgoogle\u001b[0m\u001b[0;34m.\u001b[0m\u001b[0mcolab\u001b[0m \u001b[0;32mimport\u001b[0m \u001b[0mfiles\u001b[0m\u001b[0;34m\u001b[0m\u001b[0;34m\u001b[0m\u001b[0m\n\u001b[0;32m----> 2\u001b[0;31m \u001b[0mfiles\u001b[0m\u001b[0;34m.\u001b[0m\u001b[0mupload\u001b[0m\u001b[0;34m(\u001b[0m\u001b[0;34m)\u001b[0m\u001b[0;34m\u001b[0m\u001b[0;34m\u001b[0m\u001b[0m\n\u001b[0m",
            "\u001b[0;32m/usr/local/lib/python3.6/dist-packages/google/colab/files.py\u001b[0m in \u001b[0;36mupload\u001b[0;34m()\u001b[0m\n\u001b[1;32m     62\u001b[0m   result = _output.eval_js(\n\u001b[1;32m     63\u001b[0m       'google.colab._files._uploadFiles(\"{input_id}\", \"{output_id}\")'.format(\n\u001b[0;32m---> 64\u001b[0;31m           input_id=input_id, output_id=output_id))\n\u001b[0m\u001b[1;32m     65\u001b[0m   \u001b[0mfiles\u001b[0m \u001b[0;34m=\u001b[0m \u001b[0m_collections\u001b[0m\u001b[0;34m.\u001b[0m\u001b[0mdefaultdict\u001b[0m\u001b[0;34m(\u001b[0m\u001b[0m_six\u001b[0m\u001b[0;34m.\u001b[0m\u001b[0mbinary_type\u001b[0m\u001b[0;34m)\u001b[0m\u001b[0;34m\u001b[0m\u001b[0;34m\u001b[0m\u001b[0m\n\u001b[1;32m     66\u001b[0m   \u001b[0;31m# Mapping from original filename to filename as saved locally.\u001b[0m\u001b[0;34m\u001b[0m\u001b[0;34m\u001b[0m\u001b[0;34m\u001b[0m\u001b[0m\n",
            "\u001b[0;32m/usr/local/lib/python3.6/dist-packages/google/colab/output/_js.py\u001b[0m in \u001b[0;36meval_js\u001b[0;34m(script, ignore_result)\u001b[0m\n\u001b[1;32m     37\u001b[0m   \u001b[0;32mif\u001b[0m \u001b[0mignore_result\u001b[0m\u001b[0;34m:\u001b[0m\u001b[0;34m\u001b[0m\u001b[0;34m\u001b[0m\u001b[0m\n\u001b[1;32m     38\u001b[0m     \u001b[0;32mreturn\u001b[0m\u001b[0;34m\u001b[0m\u001b[0;34m\u001b[0m\u001b[0m\n\u001b[0;32m---> 39\u001b[0;31m   \u001b[0;32mreturn\u001b[0m \u001b[0m_message\u001b[0m\u001b[0;34m.\u001b[0m\u001b[0mread_reply_from_input\u001b[0m\u001b[0;34m(\u001b[0m\u001b[0mrequest_id\u001b[0m\u001b[0;34m)\u001b[0m\u001b[0;34m\u001b[0m\u001b[0;34m\u001b[0m\u001b[0m\n\u001b[0m\u001b[1;32m     40\u001b[0m \u001b[0;34m\u001b[0m\u001b[0m\n\u001b[1;32m     41\u001b[0m \u001b[0;34m\u001b[0m\u001b[0m\n",
            "\u001b[0;32m/usr/local/lib/python3.6/dist-packages/google/colab/_message.py\u001b[0m in \u001b[0;36mread_reply_from_input\u001b[0;34m(message_id, timeout_sec)\u001b[0m\n\u001b[1;32m    104\u001b[0m         reply.get('colab_msg_id') == message_id):\n\u001b[1;32m    105\u001b[0m       \u001b[0;32mif\u001b[0m \u001b[0;34m'error'\u001b[0m \u001b[0;32min\u001b[0m \u001b[0mreply\u001b[0m\u001b[0;34m:\u001b[0m\u001b[0;34m\u001b[0m\u001b[0;34m\u001b[0m\u001b[0m\n\u001b[0;32m--> 106\u001b[0;31m         \u001b[0;32mraise\u001b[0m \u001b[0mMessageError\u001b[0m\u001b[0;34m(\u001b[0m\u001b[0mreply\u001b[0m\u001b[0;34m[\u001b[0m\u001b[0;34m'error'\u001b[0m\u001b[0;34m]\u001b[0m\u001b[0;34m)\u001b[0m\u001b[0;34m\u001b[0m\u001b[0;34m\u001b[0m\u001b[0m\n\u001b[0m\u001b[1;32m    107\u001b[0m       \u001b[0;32mreturn\u001b[0m \u001b[0mreply\u001b[0m\u001b[0;34m.\u001b[0m\u001b[0mget\u001b[0m\u001b[0;34m(\u001b[0m\u001b[0;34m'data'\u001b[0m\u001b[0;34m,\u001b[0m \u001b[0;32mNone\u001b[0m\u001b[0;34m)\u001b[0m\u001b[0;34m\u001b[0m\u001b[0;34m\u001b[0m\u001b[0m\n\u001b[1;32m    108\u001b[0m \u001b[0;34m\u001b[0m\u001b[0m\n",
            "\u001b[0;31mMessageError\u001b[0m: TypeError: Cannot read property '_uploadFiles' of undefined"
          ]
        }
      ]
    },
    {
      "cell_type": "markdown",
      "metadata": {
        "id": "FprHwaQivqxL",
        "colab_type": "text"
      },
      "source": [
        "# Environment Setup"
      ]
    },
    {
      "cell_type": "code",
      "metadata": {
        "id": "LU98RIUet7dA",
        "colab_type": "code",
        "outputId": "18782e9e-b2cc-4b80-a965-a9a63ef55b62",
        "colab": {
          "base_uri": "https://localhost:8080/",
          "height": 289
        }
      },
      "source": [
        "!mkdir -p ~/.kaggle\n",
        "!cp kaggle.json ~/.kaggle/\n",
        "!chmod 600 ~/.kaggle/kaggle.json\n",
        "!pip install -q kaggle\n",
        "!kaggle datasets list -s UNSW_NB15\n",
        "!kaggle datasets download -d mrwellsdavid/unsw-nb15\n",
        "!mkdir unsw-nb15\n",
        "!unzip unsw-nb15.zip -d unsw-nb15/\n"
      ],
      "execution_count": 0,
      "outputs": [
        {
          "output_type": "stream",
          "text": [
            "Warning: Looks like you're using an outdated API Version, please consider updating (server 1.5.6 / client 1.5.4)\n",
            "ref                     title       size  lastUpdated          downloadCount  \n",
            "----------------------  ---------  -----  -------------------  -------------  \n",
            "mrwellsdavid/unsw-nb15  UNSW_NB15  149MB  2019-01-29 01:06:31            687  \n",
            "Downloading unsw-nb15.zip to /content\n",
            " 99% 147M/149M [00:02<00:00, 87.7MB/s]\n",
            "100% 149M/149M [00:02<00:00, 75.4MB/s]\n",
            "Archive:  unsw-nb15.zip\n",
            "  inflating: unsw-nb15/NUSW-NB15_features.csv  \n",
            "  inflating: unsw-nb15/UNSW-NB15_1.csv  \n",
            "  inflating: unsw-nb15/UNSW-NB15_2.csv  \n",
            "  inflating: unsw-nb15/UNSW-NB15_3.csv  \n",
            "  inflating: unsw-nb15/UNSW-NB15_4.csv  \n",
            "  inflating: unsw-nb15/UNSW-NB15_LIST_EVENTS.csv  \n",
            "  inflating: unsw-nb15/UNSW_NB15_testing-set.csv  \n",
            "  inflating: unsw-nb15/UNSW_NB15_training-set.csv  \n"
          ],
          "name": "stdout"
        }
      ]
    },
    {
      "cell_type": "code",
      "metadata": {
        "id": "sCM2vfPnwOLk",
        "colab_type": "code",
        "outputId": "53dd2bee-7763-4c11-e5f3-369636e5d4fd",
        "colab": {
          "base_uri": "https://localhost:8080/",
          "height": 666
        }
      },
      "source": [
        "!pip install tensorflow==1.14.0"
      ],
      "execution_count": 0,
      "outputs": [
        {
          "output_type": "stream",
          "text": [
            "Collecting tensorflow==1.14.0\n",
            "\u001b[?25l  Downloading https://files.pythonhosted.org/packages/de/f0/96fb2e0412ae9692dbf400e5b04432885f677ad6241c088ccc5fe7724d69/tensorflow-1.14.0-cp36-cp36m-manylinux1_x86_64.whl (109.2MB)\n",
            "\u001b[K     |████████████████████████████████| 109.2MB 31.5MB/s \n",
            "\u001b[?25hRequirement already satisfied: numpy<2.0,>=1.14.5 in /usr/local/lib/python3.6/dist-packages (from tensorflow==1.14.0) (1.16.5)\n",
            "Requirement already satisfied: protobuf>=3.6.1 in /usr/local/lib/python3.6/dist-packages (from tensorflow==1.14.0) (3.10.0)\n",
            "Requirement already satisfied: astor>=0.6.0 in /usr/local/lib/python3.6/dist-packages (from tensorflow==1.14.0) (0.8.0)\n",
            "Requirement already satisfied: six>=1.10.0 in /usr/local/lib/python3.6/dist-packages (from tensorflow==1.14.0) (1.12.0)\n",
            "Requirement already satisfied: wrapt>=1.11.1 in /usr/local/lib/python3.6/dist-packages (from tensorflow==1.14.0) (1.11.2)\n",
            "Requirement already satisfied: wheel>=0.26 in /usr/local/lib/python3.6/dist-packages (from tensorflow==1.14.0) (0.33.6)\n",
            "Requirement already satisfied: keras-preprocessing>=1.0.5 in /usr/local/lib/python3.6/dist-packages (from tensorflow==1.14.0) (1.1.0)\n",
            "Requirement already satisfied: termcolor>=1.1.0 in /usr/local/lib/python3.6/dist-packages (from tensorflow==1.14.0) (1.1.0)\n",
            "Requirement already satisfied: keras-applications>=1.0.6 in /usr/local/lib/python3.6/dist-packages (from tensorflow==1.14.0) (1.0.8)\n",
            "Requirement already satisfied: grpcio>=1.8.6 in /usr/local/lib/python3.6/dist-packages (from tensorflow==1.14.0) (1.15.0)\n",
            "Requirement already satisfied: absl-py>=0.7.0 in /usr/local/lib/python3.6/dist-packages (from tensorflow==1.14.0) (0.8.1)\n",
            "Collecting tensorboard<1.15.0,>=1.14.0 (from tensorflow==1.14.0)\n",
            "\u001b[?25l  Downloading https://files.pythonhosted.org/packages/91/2d/2ed263449a078cd9c8a9ba50ebd50123adf1f8cfbea1492f9084169b89d9/tensorboard-1.14.0-py3-none-any.whl (3.1MB)\n",
            "\u001b[K     |████████████████████████████████| 3.2MB 41.0MB/s \n",
            "\u001b[?25hRequirement already satisfied: google-pasta>=0.1.6 in /usr/local/lib/python3.6/dist-packages (from tensorflow==1.14.0) (0.1.7)\n",
            "Collecting tensorflow-estimator<1.15.0rc0,>=1.14.0rc0 (from tensorflow==1.14.0)\n",
            "\u001b[?25l  Downloading https://files.pythonhosted.org/packages/3c/d5/21860a5b11caf0678fbc8319341b0ae21a07156911132e0e71bffed0510d/tensorflow_estimator-1.14.0-py2.py3-none-any.whl (488kB)\n",
            "\u001b[K     |████████████████████████████████| 491kB 45.7MB/s \n",
            "\u001b[?25hRequirement already satisfied: gast>=0.2.0 in /usr/local/lib/python3.6/dist-packages (from tensorflow==1.14.0) (0.2.2)\n",
            "Requirement already satisfied: setuptools in /usr/local/lib/python3.6/dist-packages (from protobuf>=3.6.1->tensorflow==1.14.0) (41.4.0)\n",
            "Requirement already satisfied: h5py in /usr/local/lib/python3.6/dist-packages (from keras-applications>=1.0.6->tensorflow==1.14.0) (2.8.0)\n",
            "Requirement already satisfied: werkzeug>=0.11.15 in /usr/local/lib/python3.6/dist-packages (from tensorboard<1.15.0,>=1.14.0->tensorflow==1.14.0) (0.16.0)\n",
            "Requirement already satisfied: markdown>=2.6.8 in /usr/local/lib/python3.6/dist-packages (from tensorboard<1.15.0,>=1.14.0->tensorflow==1.14.0) (3.1.1)\n",
            "Installing collected packages: tensorboard, tensorflow-estimator, tensorflow\n",
            "  Found existing installation: tensorboard 1.15.0\n",
            "    Uninstalling tensorboard-1.15.0:\n",
            "      Successfully uninstalled tensorboard-1.15.0\n",
            "  Found existing installation: tensorflow-estimator 1.15.1\n",
            "    Uninstalling tensorflow-estimator-1.15.1:\n",
            "      Successfully uninstalled tensorflow-estimator-1.15.1\n",
            "  Found existing installation: tensorflow 1.15.0\n",
            "    Uninstalling tensorflow-1.15.0:\n",
            "      Successfully uninstalled tensorflow-1.15.0\n",
            "Successfully installed tensorboard-1.14.0 tensorflow-1.14.0 tensorflow-estimator-1.14.0\n"
          ],
          "name": "stdout"
        }
      ]
    },
    {
      "cell_type": "code",
      "metadata": {
        "id": "nDS2gnpZSEdH",
        "colab_type": "code",
        "outputId": "78cc6c11-cab8-4380-aa83-6231b0517a47",
        "colab": {
          "base_uri": "https://localhost:8080/",
          "height": 445
        }
      },
      "source": [
        "!pip install tensorflow-gpu==1.14.0\n"
      ],
      "execution_count": 0,
      "outputs": [
        {
          "output_type": "stream",
          "text": [
            "Collecting tensorflow-gpu==1.14.0\n",
            "\u001b[?25l  Downloading https://files.pythonhosted.org/packages/76/04/43153bfdfcf6c9a4c38ecdb971ca9a75b9a791bb69a764d652c359aca504/tensorflow_gpu-1.14.0-cp36-cp36m-manylinux1_x86_64.whl (377.0MB)\n",
            "\u001b[K     |████████████████████████████████| 377.0MB 79kB/s \n",
            "\u001b[?25hRequirement already satisfied: absl-py>=0.7.0 in /usr/local/lib/python3.6/dist-packages (from tensorflow-gpu==1.14.0) (0.8.1)\n",
            "Requirement already satisfied: six>=1.10.0 in /usr/local/lib/python3.6/dist-packages (from tensorflow-gpu==1.14.0) (1.12.0)\n",
            "Requirement already satisfied: termcolor>=1.1.0 in /usr/local/lib/python3.6/dist-packages (from tensorflow-gpu==1.14.0) (1.1.0)\n",
            "Requirement already satisfied: wrapt>=1.11.1 in /usr/local/lib/python3.6/dist-packages (from tensorflow-gpu==1.14.0) (1.11.2)\n",
            "Requirement already satisfied: google-pasta>=0.1.6 in /usr/local/lib/python3.6/dist-packages (from tensorflow-gpu==1.14.0) (0.1.7)\n",
            "Requirement already satisfied: gast>=0.2.0 in /usr/local/lib/python3.6/dist-packages (from tensorflow-gpu==1.14.0) (0.2.2)\n",
            "Requirement already satisfied: numpy<2.0,>=1.14.5 in /usr/local/lib/python3.6/dist-packages (from tensorflow-gpu==1.14.0) (1.16.5)\n",
            "Requirement already satisfied: wheel>=0.26 in /usr/local/lib/python3.6/dist-packages (from tensorflow-gpu==1.14.0) (0.33.6)\n",
            "Requirement already satisfied: tensorboard<1.15.0,>=1.14.0 in /usr/local/lib/python3.6/dist-packages (from tensorflow-gpu==1.14.0) (1.14.0)\n",
            "Requirement already satisfied: keras-preprocessing>=1.0.5 in /usr/local/lib/python3.6/dist-packages (from tensorflow-gpu==1.14.0) (1.1.0)\n",
            "Requirement already satisfied: tensorflow-estimator<1.15.0rc0,>=1.14.0rc0 in /usr/local/lib/python3.6/dist-packages (from tensorflow-gpu==1.14.0) (1.14.0)\n",
            "Requirement already satisfied: grpcio>=1.8.6 in /usr/local/lib/python3.6/dist-packages (from tensorflow-gpu==1.14.0) (1.15.0)\n",
            "Requirement already satisfied: astor>=0.6.0 in /usr/local/lib/python3.6/dist-packages (from tensorflow-gpu==1.14.0) (0.8.0)\n",
            "Requirement already satisfied: keras-applications>=1.0.6 in /usr/local/lib/python3.6/dist-packages (from tensorflow-gpu==1.14.0) (1.0.8)\n",
            "Requirement already satisfied: protobuf>=3.6.1 in /usr/local/lib/python3.6/dist-packages (from tensorflow-gpu==1.14.0) (3.10.0)\n",
            "Requirement already satisfied: setuptools>=41.0.0 in /usr/local/lib/python3.6/dist-packages (from tensorboard<1.15.0,>=1.14.0->tensorflow-gpu==1.14.0) (41.4.0)\n",
            "Requirement already satisfied: markdown>=2.6.8 in /usr/local/lib/python3.6/dist-packages (from tensorboard<1.15.0,>=1.14.0->tensorflow-gpu==1.14.0) (3.1.1)\n",
            "Requirement already satisfied: werkzeug>=0.11.15 in /usr/local/lib/python3.6/dist-packages (from tensorboard<1.15.0,>=1.14.0->tensorflow-gpu==1.14.0) (0.16.0)\n",
            "Requirement already satisfied: h5py in /usr/local/lib/python3.6/dist-packages (from keras-applications>=1.0.6->tensorflow-gpu==1.14.0) (2.8.0)\n",
            "Installing collected packages: tensorflow-gpu\n",
            "Successfully installed tensorflow-gpu-1.14.0\n"
          ],
          "name": "stdout"
        }
      ]
    },
    {
      "cell_type": "code",
      "metadata": {
        "id": "d2pqvzgZSX7C",
        "colab_type": "code",
        "outputId": "b4ad6ade-e5cf-4f5b-da1c-0a594ba795d4",
        "colab": {
          "base_uri": "https://localhost:8080/",
          "height": 34
        }
      },
      "source": [
        "import tensorflow as tf\n",
        "print(tf.__version__)"
      ],
      "execution_count": 0,
      "outputs": [
        {
          "output_type": "stream",
          "text": [
            "1.14.0\n"
          ],
          "name": "stdout"
        }
      ]
    },
    {
      "cell_type": "code",
      "metadata": {
        "id": "UzBolFPVSTlZ",
        "colab_type": "code",
        "outputId": "8a54e31b-4133-41ac-aedb-ca9c1db7c18c",
        "colab": {
          "base_uri": "https://localhost:8080/",
          "height": 1000
        }
      },
      "source": [
        "!wget https://developer.nvidia.com/compute/cuda/9.0/Prod/local_installers/cuda-repo-ubuntu1604-9-0-local_9.0.176-1_amd64-deb\n",
        "!dpkg -i cuda-repo-ubuntu1604-9-0-local_9.0.176-1_amd64-deb\n",
        "!apt-key add /var/cuda-repo-9-0-local/7fa2af80.pub\n",
        "!apt-get update\n",
        "!apt-get install cuda=9.0.176-1"
      ],
      "execution_count": 0,
      "outputs": [
        {
          "output_type": "stream",
          "text": [
            "--2019-10-23 13:40:36--  https://developer.nvidia.com/compute/cuda/9.0/Prod/local_installers/cuda-repo-ubuntu1604-9-0-local_9.0.176-1_amd64-deb\n",
            "Resolving developer.nvidia.com (developer.nvidia.com)... 192.229.162.216\n",
            "Connecting to developer.nvidia.com (developer.nvidia.com)|192.229.162.216|:443... connected.\n",
            "HTTP request sent, awaiting response... 302 Found\n",
            "Location: https://developer.download.nvidia.com/compute/cuda/9.0/secure/Prod/local_installers/cuda-repo-ubuntu1604-9-0-local_9.0.176-1_amd64.deb?p7UMd-zmjBlAVVJ87cgT_1vfsakFcGUrCgg3M4nxLJikLmCFkBUQAv3VGr2nEnMsquqrYAwY4mwtdjbVd8cppnihlSxZaYkIH6mPetQaMBFXnnxR2kzVQ_huq4mXEIG7HFypPAedYoD1hizCM-V2AIODeAYQuPvAhB9ymVgQoK49HGdSJ99tohYylAjmA6UMdyZL3V9F1mbiwLXV79PN [following]\n",
            "--2019-10-23 13:40:37--  https://developer.download.nvidia.com/compute/cuda/9.0/secure/Prod/local_installers/cuda-repo-ubuntu1604-9-0-local_9.0.176-1_amd64.deb?p7UMd-zmjBlAVVJ87cgT_1vfsakFcGUrCgg3M4nxLJikLmCFkBUQAv3VGr2nEnMsquqrYAwY4mwtdjbVd8cppnihlSxZaYkIH6mPetQaMBFXnnxR2kzVQ_huq4mXEIG7HFypPAedYoD1hizCM-V2AIODeAYQuPvAhB9ymVgQoK49HGdSJ99tohYylAjmA6UMdyZL3V9F1mbiwLXV79PN\n",
            "Resolving developer.download.nvidia.com (developer.download.nvidia.com)... 192.229.211.70, 2606:2800:21f:3aa:dcf:37b:1ed6:1fb\n",
            "Connecting to developer.download.nvidia.com (developer.download.nvidia.com)|192.229.211.70|:443... connected.\n",
            "HTTP request sent, awaiting response... 200 OK\n",
            "Length: 1212738714 (1.1G) [application/x-deb]\n",
            "Saving to: ‘cuda-repo-ubuntu1604-9-0-local_9.0.176-1_amd64-deb’\n",
            "\n",
            "cuda-repo-ubuntu160 100%[===================>]   1.13G   207MB/s    in 5.6s    \n",
            "\n",
            "2019-10-23 13:40:43 (207 MB/s) - ‘cuda-repo-ubuntu1604-9-0-local_9.0.176-1_amd64-deb’ saved [1212738714/1212738714]\n",
            "\n",
            "Selecting previously unselected package cuda-repo-ubuntu1604-9-0-local.\n",
            "(Reading database ... 132681 files and directories currently installed.)\n",
            "Preparing to unpack cuda-repo-ubuntu1604-9-0-local_9.0.176-1_amd64-deb ...\n",
            "Unpacking cuda-repo-ubuntu1604-9-0-local (9.0.176-1) ...\n",
            "Setting up cuda-repo-ubuntu1604-9-0-local (9.0.176-1) ...\n",
            "OK\n",
            "Get:1 file:/var/cuda-repo-9-0-local  InRelease\n",
            "Ign:1 file:/var/cuda-repo-9-0-local  InRelease\n",
            "Get:2 file:/var/cuda-repo-9-0-local  Release [574 B]\n",
            "Get:2 file:/var/cuda-repo-9-0-local  Release [574 B]\n",
            "Get:3 file:/var/cuda-repo-9-0-local  Release.gpg [819 B]\n",
            "Get:3 file:/var/cuda-repo-9-0-local  Release.gpg [819 B]\n",
            "Ign:4 https://developer.download.nvidia.com/compute/cuda/repos/ubuntu1804/x86_64  InRelease\n",
            "Ign:5 https://developer.download.nvidia.com/compute/machine-learning/repos/ubuntu1804/x86_64  InRelease\n",
            "Hit:6 http://ppa.launchpad.net/graphics-drivers/ppa/ubuntu bionic InRelease\n",
            "Hit:7 https://developer.download.nvidia.com/compute/cuda/repos/ubuntu1804/x86_64  Release\n",
            "Hit:8 https://developer.download.nvidia.com/compute/machine-learning/repos/ubuntu1804/x86_64  Release\n",
            "Get:9 file:/var/cuda-repo-9-0-local  Packages [15.4 kB]\n",
            "Hit:10 http://archive.ubuntu.com/ubuntu bionic InRelease\n",
            "Get:11 http://security.ubuntu.com/ubuntu bionic-security InRelease [88.7 kB]\n",
            "Hit:12 http://ppa.launchpad.net/marutter/c2d4u3.5/ubuntu bionic InRelease\n",
            "Get:13 http://archive.ubuntu.com/ubuntu bionic-updates InRelease [88.7 kB]\n",
            "Get:14 https://cloud.r-project.org/bin/linux/ubuntu bionic-cran35/ InRelease [3,626 B]\n",
            "Get:17 http://archive.ubuntu.com/ubuntu bionic-backports InRelease [74.6 kB]\n",
            "Get:18 http://security.ubuntu.com/ubuntu bionic-security/multiverse amd64 Packages [5,945 B]\n",
            "Get:19 http://security.ubuntu.com/ubuntu bionic-security/main amd64 Packages [695 kB]\n",
            "Get:20 http://archive.ubuntu.com/ubuntu bionic-updates/main amd64 Packages [990 kB]\n",
            "Get:21 http://security.ubuntu.com/ubuntu bionic-security/universe amd64 Packages [782 kB]\n",
            "Get:22 http://archive.ubuntu.com/ubuntu bionic-updates/universe amd64 Packages [1,299 kB]\n",
            "Get:23 http://security.ubuntu.com/ubuntu bionic-security/restricted amd64 Packages [12.6 kB]\n",
            "Get:24 http://archive.ubuntu.com/ubuntu bionic-updates/restricted amd64 Packages [23.2 kB]\n",
            "Fetched 4,064 kB in 4s (1,140 kB/s)\n",
            "Reading package lists... Done\n",
            "Reading package lists... Done\n",
            "Building dependency tree       \n",
            "Reading state information... Done\n",
            "The following additional packages will be installed:\n",
            "  cuda-9-0 cuda-command-line-tools-9-0 cuda-core-9-0 cuda-cublas-9-0\n",
            "  cuda-cublas-dev-9-0 cuda-cudart-9-0 cuda-cudart-dev-9-0 cuda-cufft-9-0\n",
            "  cuda-cufft-dev-9-0 cuda-curand-9-0 cuda-curand-dev-9-0 cuda-cusolver-9-0\n",
            "  cuda-cusolver-dev-9-0 cuda-cusparse-9-0 cuda-cusparse-dev-9-0\n",
            "  cuda-demo-suite-9-0 cuda-documentation-9-0 cuda-driver-dev-9-0\n",
            "  cuda-libraries-9-0 cuda-libraries-dev-9-0 cuda-license-9-0\n",
            "  cuda-misc-headers-9-0 cuda-npp-9-0 cuda-npp-dev-9-0 cuda-nvgraph-9-0\n",
            "  cuda-nvgraph-dev-9-0 cuda-nvml-dev-9-0 cuda-nvrtc-9-0 cuda-nvrtc-dev-9-0\n",
            "  cuda-runtime-9-0 cuda-samples-9-0 cuda-toolkit-9-0 cuda-visual-tools-9-0\n",
            "The following NEW packages will be installed:\n",
            "  cuda cuda-9-0 cuda-command-line-tools-9-0 cuda-core-9-0 cuda-cublas-9-0\n",
            "  cuda-cublas-dev-9-0 cuda-cudart-9-0 cuda-cudart-dev-9-0 cuda-cufft-9-0\n",
            "  cuda-cufft-dev-9-0 cuda-curand-9-0 cuda-curand-dev-9-0 cuda-cusolver-9-0\n",
            "  cuda-cusolver-dev-9-0 cuda-cusparse-9-0 cuda-cusparse-dev-9-0\n",
            "  cuda-demo-suite-9-0 cuda-documentation-9-0 cuda-driver-dev-9-0\n",
            "  cuda-libraries-9-0 cuda-libraries-dev-9-0 cuda-license-9-0\n",
            "  cuda-misc-headers-9-0 cuda-npp-9-0 cuda-npp-dev-9-0 cuda-nvgraph-9-0\n",
            "  cuda-nvgraph-dev-9-0 cuda-nvml-dev-9-0 cuda-nvrtc-9-0 cuda-nvrtc-dev-9-0\n",
            "  cuda-runtime-9-0 cuda-samples-9-0 cuda-toolkit-9-0 cuda-visual-tools-9-0\n",
            "0 upgraded, 34 newly installed, 0 to remove and 29 not upgraded.\n",
            "Need to get 0 B/1,097 MB of archives.\n",
            "After this operation, 2,315 MB of additional disk space will be used.\n",
            "Get:1 file:/var/cuda-repo-9-0-local  cuda-license-9-0 9.0.176-1 [22.0 kB]\n",
            "Get:2 file:/var/cuda-repo-9-0-local  cuda-misc-headers-9-0 9.0.176-1 [684 kB]\n",
            "Get:3 file:/var/cuda-repo-9-0-local  cuda-core-9-0 9.0.176-1 [16.9 MB]\n",
            "Get:4 file:/var/cuda-repo-9-0-local  cuda-cudart-9-0 9.0.176-1 [106 kB]\n",
            "Get:5 file:/var/cuda-repo-9-0-local  cuda-driver-dev-9-0 9.0.176-1 [10.9 kB]\n",
            "Get:6 file:/var/cuda-repo-9-0-local  cuda-cudart-dev-9-0 9.0.176-1 [767 kB]\n",
            "Get:7 file:/var/cuda-repo-9-0-local  cuda-command-line-tools-9-0 9.0.176-1 [25.4 MB]\n",
            "Get:8 file:/var/cuda-repo-9-0-local  cuda-nvrtc-9-0 9.0.176-1 [6,348 kB]\n",
            "Get:9 file:/var/cuda-repo-9-0-local  cuda-nvrtc-dev-9-0 9.0.176-1 [9,334 B]\n",
            "Get:10 file:/var/cuda-repo-9-0-local  cuda-cusolver-9-0 9.0.176-1 [26.2 MB]\n",
            "Get:11 file:/var/cuda-repo-9-0-local  cuda-cusolver-dev-9-0 9.0.176-1 [5,317 kB]\n",
            "Get:12 file:/var/cuda-repo-9-0-local  cuda-cublas-9-0 9.0.176-1 [25.0 MB]\n",
            "Get:13 file:/var/cuda-repo-9-0-local  cuda-cublas-dev-9-0 9.0.176-1 [49.4 MB]\n",
            "Get:14 file:/var/cuda-repo-9-0-local  cuda-cufft-9-0 9.0.176-1 [84.1 MB]\n",
            "Get:15 file:/var/cuda-repo-9-0-local  cuda-cufft-dev-9-0 9.0.176-1 [73.7 MB]\n",
            "Get:16 file:/var/cuda-repo-9-0-local  cuda-curand-9-0 9.0.176-1 [38.8 MB]\n",
            "Get:17 file:/var/cuda-repo-9-0-local  cuda-curand-dev-9-0 9.0.176-1 [57.9 MB]\n",
            "Get:18 file:/var/cuda-repo-9-0-local  cuda-cusparse-9-0 9.0.176-1 [25.2 MB]\n",
            "Get:19 file:/var/cuda-repo-9-0-local  cuda-cusparse-dev-9-0 9.0.176-1 [25.3 MB]\n",
            "Get:20 file:/var/cuda-repo-9-0-local  cuda-npp-9-0 9.0.176-1 [46.6 MB]\n",
            "Get:21 file:/var/cuda-repo-9-0-local  cuda-npp-dev-9-0 9.0.176-1 [46.6 MB]\n",
            "Get:22 file:/var/cuda-repo-9-0-local  cuda-nvgraph-9-0 9.0.176-1 [6,081 kB]\n",
            "Get:23 file:/var/cuda-repo-9-0-local  cuda-nvgraph-dev-9-0 9.0.176-1 [5,658 kB]\n",
            "Get:24 file:/var/cuda-repo-9-0-local  cuda-samples-9-0 9.0.176-1 [75.9 MB]\n",
            "Get:25 file:/var/cuda-repo-9-0-local  cuda-documentation-9-0 9.0.176-1 [53.1 MB]\n",
            "Get:26 file:/var/cuda-repo-9-0-local  cuda-libraries-dev-9-0 9.0.176-1 [2,596 B]\n",
            "Get:27 file:/var/cuda-repo-9-0-local  cuda-nvml-dev-9-0 9.0.176-1 [47.6 kB]\n",
            "Get:28 file:/var/cuda-repo-9-0-local  cuda-visual-tools-9-0 9.0.176-1 [398 MB]\n",
            "Get:29 file:/var/cuda-repo-9-0-local  cuda-toolkit-9-0 9.0.176-1 [2,836 B]\n",
            "Get:30 file:/var/cuda-repo-9-0-local  cuda-libraries-9-0 9.0.176-1 [2,566 B]\n",
            "Get:31 file:/var/cuda-repo-9-0-local  cuda-runtime-9-0 9.0.176-1 [2,526 B]\n",
            "Get:32 file:/var/cuda-repo-9-0-local  cuda-demo-suite-9-0 9.0.176-1 [3,880 kB]\n",
            "Get:33 file:/var/cuda-repo-9-0-local  cuda-9-0 9.0.176-1 [2,552 B]\n",
            "Get:34 file:/var/cuda-repo-9-0-local  cuda 9.0.176-1 [2,504 B]\n",
            "Extracting templates from packages: 100%\n",
            "Selecting previously unselected package cuda-license-9-0.\n",
            "(Reading database ... 132740 files and directories currently installed.)\n",
            "Preparing to unpack .../00-cuda-license-9-0_9.0.176-1_amd64.deb ...\n",
            "Unpacking cuda-license-9-0 (9.0.176-1) ...\n",
            "Selecting previously unselected package cuda-misc-headers-9-0.\n",
            "Preparing to unpack .../01-cuda-misc-headers-9-0_9.0.176-1_amd64.deb ...\n",
            "Unpacking cuda-misc-headers-9-0 (9.0.176-1) ...\n",
            "Selecting previously unselected package cuda-core-9-0.\n",
            "Preparing to unpack .../02-cuda-core-9-0_9.0.176-1_amd64.deb ...\n",
            "Unpacking cuda-core-9-0 (9.0.176-1) ...\n",
            "Selecting previously unselected package cuda-cudart-9-0.\n",
            "Preparing to unpack .../03-cuda-cudart-9-0_9.0.176-1_amd64.deb ...\n",
            "Unpacking cuda-cudart-9-0 (9.0.176-1) ...\n",
            "Selecting previously unselected package cuda-driver-dev-9-0.\n",
            "Preparing to unpack .../04-cuda-driver-dev-9-0_9.0.176-1_amd64.deb ...\n",
            "Unpacking cuda-driver-dev-9-0 (9.0.176-1) ...\n",
            "Selecting previously unselected package cuda-cudart-dev-9-0.\n",
            "Preparing to unpack .../05-cuda-cudart-dev-9-0_9.0.176-1_amd64.deb ...\n",
            "Unpacking cuda-cudart-dev-9-0 (9.0.176-1) ...\n",
            "Selecting previously unselected package cuda-command-line-tools-9-0.\n",
            "Preparing to unpack .../06-cuda-command-line-tools-9-0_9.0.176-1_amd64.deb ...\n",
            "Unpacking cuda-command-line-tools-9-0 (9.0.176-1) ...\n",
            "Selecting previously unselected package cuda-nvrtc-9-0.\n",
            "Preparing to unpack .../07-cuda-nvrtc-9-0_9.0.176-1_amd64.deb ...\n",
            "Unpacking cuda-nvrtc-9-0 (9.0.176-1) ...\n",
            "Selecting previously unselected package cuda-nvrtc-dev-9-0.\n",
            "Preparing to unpack .../08-cuda-nvrtc-dev-9-0_9.0.176-1_amd64.deb ...\n",
            "Unpacking cuda-nvrtc-dev-9-0 (9.0.176-1) ...\n",
            "Selecting previously unselected package cuda-cusolver-9-0.\n",
            "Preparing to unpack .../09-cuda-cusolver-9-0_9.0.176-1_amd64.deb ...\n",
            "Unpacking cuda-cusolver-9-0 (9.0.176-1) ...\n",
            "Selecting previously unselected package cuda-cusolver-dev-9-0.\n",
            "Preparing to unpack .../10-cuda-cusolver-dev-9-0_9.0.176-1_amd64.deb ...\n",
            "Unpacking cuda-cusolver-dev-9-0 (9.0.176-1) ...\n",
            "Selecting previously unselected package cuda-cublas-9-0.\n",
            "Preparing to unpack .../11-cuda-cublas-9-0_9.0.176-1_amd64.deb ...\n",
            "Unpacking cuda-cublas-9-0 (9.0.176-1) ...\n",
            "Selecting previously unselected package cuda-cublas-dev-9-0.\n",
            "Preparing to unpack .../12-cuda-cublas-dev-9-0_9.0.176-1_amd64.deb ...\n",
            "Unpacking cuda-cublas-dev-9-0 (9.0.176-1) ...\n",
            "Selecting previously unselected package cuda-cufft-9-0.\n",
            "Preparing to unpack .../13-cuda-cufft-9-0_9.0.176-1_amd64.deb ...\n",
            "Unpacking cuda-cufft-9-0 (9.0.176-1) ...\n",
            "Selecting previously unselected package cuda-cufft-dev-9-0.\n",
            "Preparing to unpack .../14-cuda-cufft-dev-9-0_9.0.176-1_amd64.deb ...\n",
            "Unpacking cuda-cufft-dev-9-0 (9.0.176-1) ...\n",
            "Selecting previously unselected package cuda-curand-9-0.\n",
            "Preparing to unpack .../15-cuda-curand-9-0_9.0.176-1_amd64.deb ...\n",
            "Unpacking cuda-curand-9-0 (9.0.176-1) ...\n",
            "Selecting previously unselected package cuda-curand-dev-9-0.\n",
            "Preparing to unpack .../16-cuda-curand-dev-9-0_9.0.176-1_amd64.deb ...\n",
            "Unpacking cuda-curand-dev-9-0 (9.0.176-1) ...\n",
            "Selecting previously unselected package cuda-cusparse-9-0.\n",
            "Preparing to unpack .../17-cuda-cusparse-9-0_9.0.176-1_amd64.deb ...\n",
            "Unpacking cuda-cusparse-9-0 (9.0.176-1) ...\n",
            "Selecting previously unselected package cuda-cusparse-dev-9-0.\n",
            "Preparing to unpack .../18-cuda-cusparse-dev-9-0_9.0.176-1_amd64.deb ...\n",
            "Unpacking cuda-cusparse-dev-9-0 (9.0.176-1) ...\n",
            "Selecting previously unselected package cuda-npp-9-0.\n",
            "Preparing to unpack .../19-cuda-npp-9-0_9.0.176-1_amd64.deb ...\n",
            "Unpacking cuda-npp-9-0 (9.0.176-1) ...\n",
            "Selecting previously unselected package cuda-npp-dev-9-0.\n",
            "Preparing to unpack .../20-cuda-npp-dev-9-0_9.0.176-1_amd64.deb ...\n",
            "Unpacking cuda-npp-dev-9-0 (9.0.176-1) ...\n",
            "Selecting previously unselected package cuda-nvgraph-9-0.\n",
            "Preparing to unpack .../21-cuda-nvgraph-9-0_9.0.176-1_amd64.deb ...\n",
            "Unpacking cuda-nvgraph-9-0 (9.0.176-1) ...\n",
            "Selecting previously unselected package cuda-nvgraph-dev-9-0.\n",
            "Preparing to unpack .../22-cuda-nvgraph-dev-9-0_9.0.176-1_amd64.deb ...\n",
            "Unpacking cuda-nvgraph-dev-9-0 (9.0.176-1) ...\n",
            "Selecting previously unselected package cuda-samples-9-0.\n",
            "Preparing to unpack .../23-cuda-samples-9-0_9.0.176-1_amd64.deb ...\n",
            "Unpacking cuda-samples-9-0 (9.0.176-1) ...\n",
            "Selecting previously unselected package cuda-documentation-9-0.\n",
            "Preparing to unpack .../24-cuda-documentation-9-0_9.0.176-1_amd64.deb ...\n",
            "Unpacking cuda-documentation-9-0 (9.0.176-1) ...\n",
            "Selecting previously unselected package cuda-libraries-dev-9-0.\n",
            "Preparing to unpack .../25-cuda-libraries-dev-9-0_9.0.176-1_amd64.deb ...\n",
            "Unpacking cuda-libraries-dev-9-0 (9.0.176-1) ...\n",
            "Selecting previously unselected package cuda-nvml-dev-9-0.\n",
            "Preparing to unpack .../26-cuda-nvml-dev-9-0_9.0.176-1_amd64.deb ...\n",
            "Unpacking cuda-nvml-dev-9-0 (9.0.176-1) ...\n",
            "Selecting previously unselected package cuda-visual-tools-9-0.\n",
            "Preparing to unpack .../27-cuda-visual-tools-9-0_9.0.176-1_amd64.deb ...\n",
            "Unpacking cuda-visual-tools-9-0 (9.0.176-1) ...\n",
            "Selecting previously unselected package cuda-toolkit-9-0.\n",
            "Preparing to unpack .../28-cuda-toolkit-9-0_9.0.176-1_amd64.deb ...\n",
            "Unpacking cuda-toolkit-9-0 (9.0.176-1) ...\n",
            "Selecting previously unselected package cuda-libraries-9-0.\n",
            "Preparing to unpack .../29-cuda-libraries-9-0_9.0.176-1_amd64.deb ...\n",
            "Unpacking cuda-libraries-9-0 (9.0.176-1) ...\n",
            "Selecting previously unselected package cuda-runtime-9-0.\n",
            "Preparing to unpack .../30-cuda-runtime-9-0_9.0.176-1_amd64.deb ...\n",
            "Unpacking cuda-runtime-9-0 (9.0.176-1) ...\n",
            "Selecting previously unselected package cuda-demo-suite-9-0.\n",
            "Preparing to unpack .../31-cuda-demo-suite-9-0_9.0.176-1_amd64.deb ...\n",
            "Unpacking cuda-demo-suite-9-0 (9.0.176-1) ...\n",
            "Selecting previously unselected package cuda-9-0.\n",
            "Preparing to unpack .../32-cuda-9-0_9.0.176-1_amd64.deb ...\n",
            "Unpacking cuda-9-0 (9.0.176-1) ...\n",
            "Selecting previously unselected package cuda.\n",
            "Preparing to unpack .../33-cuda_9.0.176-1_amd64.deb ...\n",
            "Unpacking cuda (9.0.176-1) ...\n",
            "Setting up cuda-license-9-0 (9.0.176-1) ...\n",
            "*** LICENSE AGREEMENT ***\n",
            "By using this software you agree to fully comply with the terms and \n",
            "conditions of the EULA (End User License Agreement). The EULA is located\n",
            "at /usr/local/cuda-9.0/doc/EULA.txt. The EULA can also be found at\n",
            "http://docs.nvidia.com/cuda/eula/index.html. If you do not agree to the\n",
            "terms and conditions of the EULA, do not use the software.\n",
            "\n",
            "Setting up cuda-cusparse-9-0 (9.0.176-1) ...\n",
            "Setting up cuda-cudart-9-0 (9.0.176-1) ...\n",
            "Setting up cuda-nvrtc-9-0 (9.0.176-1) ...\n",
            "Setting up cuda-cusparse-dev-9-0 (9.0.176-1) ...\n",
            "Setting up cuda-cufft-9-0 (9.0.176-1) ...\n",
            "Setting up cuda-cusolver-9-0 (9.0.176-1) ...\n",
            "Setting up cuda-nvml-dev-9-0 (9.0.176-1) ...\n",
            "Setting up cuda-npp-9-0 (9.0.176-1) ...\n",
            "Setting up cuda-cusolver-dev-9-0 (9.0.176-1) ...\n",
            "Setting up cuda-misc-headers-9-0 (9.0.176-1) ...\n",
            "Setting up cuda-cublas-9-0 (9.0.176-1) ...\n",
            "Setting up cuda-nvrtc-dev-9-0 (9.0.176-1) ...\n",
            "Setting up cuda-driver-dev-9-0 (9.0.176-1) ...\n",
            "Setting up cuda-curand-9-0 (9.0.176-1) ...\n",
            "Setting up cuda-nvgraph-9-0 (9.0.176-1) ...\n",
            "Setting up cuda-core-9-0 (9.0.176-1) ...\n",
            "Setting up cuda-libraries-9-0 (9.0.176-1) ...\n",
            "Setting up cuda-runtime-9-0 (9.0.176-1) ...\n",
            "Setting up cuda-cudart-dev-9-0 (9.0.176-1) ...\n",
            "Setting up cuda-cufft-dev-9-0 (9.0.176-1) ...\n",
            "Setting up cuda-npp-dev-9-0 (9.0.176-1) ...\n",
            "Setting up cuda-curand-dev-9-0 (9.0.176-1) ...\n",
            "Setting up cuda-cublas-dev-9-0 (9.0.176-1) ...\n",
            "Setting up cuda-nvgraph-dev-9-0 (9.0.176-1) ...\n",
            "Setting up cuda-command-line-tools-9-0 (9.0.176-1) ...\n",
            "Setting up cuda-demo-suite-9-0 (9.0.176-1) ...\n",
            "Setting up cuda-visual-tools-9-0 (9.0.176-1) ...\n",
            "Setting up cuda-samples-9-0 (9.0.176-1) ...\n",
            "Setting up cuda-libraries-dev-9-0 (9.0.176-1) ...\n",
            "Setting up cuda-documentation-9-0 (9.0.176-1) ...\n",
            "Setting up cuda-toolkit-9-0 (9.0.176-1) ...\n",
            "Setting up cuda-9-0 (9.0.176-1) ...\n",
            "Setting up cuda (9.0.176-1) ...\n",
            "Processing triggers for libc-bin (2.27-3ubuntu1) ...\n"
          ],
          "name": "stdout"
        }
      ]
    },
    {
      "cell_type": "code",
      "metadata": {
        "id": "13N_DkX4_F2W",
        "colab_type": "code",
        "outputId": "6ec2ee8b-1bc7-45a3-c1c0-e61835e34bf8",
        "colab": {
          "base_uri": "https://localhost:8080/",
          "height": 1000
        }
      },
      "source": [
        "!pip uninstall -y tensorboard\n",
        "!pip install --force-reinstall tf-nightly-2.0-preview\n",
        "#!pip install -q tf-nightly-2.0-preview\n"
      ],
      "execution_count": 0,
      "outputs": [
        {
          "output_type": "stream",
          "text": [
            "Uninstalling tensorboard-1.14.0:\n",
            "  Successfully uninstalled tensorboard-1.14.0\n",
            "Collecting tf-nightly-2.0-preview\n",
            "\u001b[?25l  Downloading https://files.pythonhosted.org/packages/b8/be/e4e2cc0b4896648fe6d5e45dda6d8c3b784823301708cfe4ff96de9e01cf/tf_nightly_2.0_preview-2.0.0.dev20191002-cp36-cp36m-manylinux2010_x86_64.whl (95.2MB)\n",
            "\u001b[K     |████████████████████████████████| 95.2MB 34.1MB/s \n",
            "\u001b[?25hCollecting termcolor>=1.1.0 (from tf-nightly-2.0-preview)\n",
            "  Downloading https://files.pythonhosted.org/packages/8a/48/a76be51647d0eb9f10e2a4511bf3ffb8cc1e6b14e9e4fab46173aa79f981/termcolor-1.1.0.tar.gz\n",
            "Collecting google-pasta>=0.1.6 (from tf-nightly-2.0-preview)\n",
            "\u001b[?25l  Downloading https://files.pythonhosted.org/packages/d0/33/376510eb8d6246f3c30545f416b2263eee461e40940c2a4413c711bdf62d/google_pasta-0.1.7-py3-none-any.whl (52kB)\n",
            "\u001b[K     |████████████████████████████████| 61kB 22.1MB/s \n",
            "\u001b[?25hCollecting numpy<2.0,>=1.16.0 (from tf-nightly-2.0-preview)\n",
            "\u001b[?25l  Downloading https://files.pythonhosted.org/packages/0e/46/ae6773894f7eacf53308086287897ec568eac9768918d913d5b9d366c5db/numpy-1.17.3-cp36-cp36m-manylinux1_x86_64.whl (20.0MB)\n",
            "\u001b[K     |████████████████████████████████| 20.0MB 1.8MB/s \n",
            "\u001b[?25hCollecting gast==0.2.2 (from tf-nightly-2.0-preview)\n",
            "  Downloading https://files.pythonhosted.org/packages/4e/35/11749bf99b2d4e3cceb4d55ca22590b0d7c2c62b9de38ac4a4a7f4687421/gast-0.2.2.tar.gz\n",
            "Collecting opt-einsum>=2.3.2 (from tf-nightly-2.0-preview)\n",
            "\u001b[?25l  Downloading https://files.pythonhosted.org/packages/b8/83/755bd5324777875e9dff19c2e59daec837d0378c09196634524a3d7269ac/opt_einsum-3.1.0.tar.gz (69kB)\n",
            "\u001b[K     |████████████████████████████████| 71kB 20.3MB/s \n",
            "\u001b[?25hCollecting astor>=0.6.0 (from tf-nightly-2.0-preview)\n",
            "  Downloading https://files.pythonhosted.org/packages/d1/4f/950dfae467b384fc96bc6469de25d832534f6b4441033c39f914efd13418/astor-0.8.0-py2.py3-none-any.whl\n",
            "Collecting protobuf>=3.6.1 (from tf-nightly-2.0-preview)\n",
            "\u001b[?25l  Downloading https://files.pythonhosted.org/packages/a8/52/d8d2dbff74b8bf517c42db8d44c3f9ef6555e6f5d6caddfa3f207b9143df/protobuf-3.10.0-cp36-cp36m-manylinux1_x86_64.whl (1.3MB)\n",
            "\u001b[K     |████████████████████████████████| 1.3MB 27.3MB/s \n",
            "\u001b[?25hCollecting tensorflow-estimator-2.0-preview (from tf-nightly-2.0-preview)\n",
            "\u001b[?25l  Downloading https://files.pythonhosted.org/packages/db/f5/790508e193121ab301cb40cada7f451c531404051ac9249f21b1f5484450/tensorflow_estimator_2.0_preview-2.0.0-py2.py3-none-any.whl (449kB)\n",
            "\u001b[K     |████████████████████████████████| 450kB 40.6MB/s \n",
            "\u001b[?25hCollecting wrapt>=1.11.1 (from tf-nightly-2.0-preview)\n",
            "  Downloading https://files.pythonhosted.org/packages/23/84/323c2415280bc4fc880ac5050dddfb3c8062c2552b34c2e512eb4aa68f79/wrapt-1.11.2.tar.gz\n",
            "Collecting keras-applications>=1.0.8 (from tf-nightly-2.0-preview)\n",
            "\u001b[?25l  Downloading https://files.pythonhosted.org/packages/71/e3/19762fdfc62877ae9102edf6342d71b28fbfd9dea3d2f96a882ce099b03f/Keras_Applications-1.0.8-py3-none-any.whl (50kB)\n",
            "\u001b[K     |████████████████████████████████| 51kB 21.6MB/s \n",
            "\u001b[?25hCollecting absl-py>=0.7.0 (from tf-nightly-2.0-preview)\n",
            "\u001b[?25l  Downloading https://files.pythonhosted.org/packages/3b/72/e6e483e2db953c11efa44ee21c5fdb6505c4dffa447b4263ca8af6676b62/absl-py-0.8.1.tar.gz (103kB)\n",
            "\u001b[K     |████████████████████████████████| 112kB 50.4MB/s \n",
            "\u001b[?25hCollecting keras-preprocessing>=1.0.5 (from tf-nightly-2.0-preview)\n",
            "\u001b[?25l  Downloading https://files.pythonhosted.org/packages/28/6a/8c1f62c37212d9fc441a7e26736df51ce6f0e38455816445471f10da4f0a/Keras_Preprocessing-1.1.0-py2.py3-none-any.whl (41kB)\n",
            "\u001b[K     |████████████████████████████████| 51kB 16.6MB/s \n",
            "\u001b[?25hCollecting wheel>=0.26; python_version >= \"3\" (from tf-nightly-2.0-preview)\n",
            "  Downloading https://files.pythonhosted.org/packages/00/83/b4a77d044e78ad1a45610eb88f745be2fd2c6d658f9798a15e384b7d57c9/wheel-0.33.6-py2.py3-none-any.whl\n",
            "Collecting grpcio>=1.8.6 (from tf-nightly-2.0-preview)\n",
            "\u001b[?25l  Downloading https://files.pythonhosted.org/packages/30/54/c9810421e41ec0bca2228c6f06b1b1189b196b69533cbcac9f71b44727f8/grpcio-1.24.3-cp36-cp36m-manylinux2010_x86_64.whl (2.2MB)\n",
            "\u001b[K     |████████████████████████████████| 2.2MB 23.2MB/s \n",
            "\u001b[?25hCollecting tb-nightly<2.2.0a0,>=2.1.0a0 (from tf-nightly-2.0-preview)\n",
            "\u001b[?25l  Downloading https://files.pythonhosted.org/packages/de/a6/a49d5af79a515f5c9552a26b2078d839c40fcf8dccc0d94a1269276ab181/tb_nightly-2.1.0a20191022-py3-none-any.whl (3.8MB)\n",
            "\u001b[K     |████████████████████████████████| 3.8MB 29.7MB/s \n",
            "\u001b[?25hCollecting six>=1.10.0 (from tf-nightly-2.0-preview)\n",
            "  Downloading https://files.pythonhosted.org/packages/73/fb/00a976f728d0d1fecfe898238ce23f502a721c0ac0ecfedb80e0d88c64e9/six-1.12.0-py2.py3-none-any.whl\n",
            "Collecting setuptools (from protobuf>=3.6.1->tf-nightly-2.0-preview)\n",
            "\u001b[?25l  Downloading https://files.pythonhosted.org/packages/6a/9a/50fadfd53ec909e4399b67c74cc7f4e883488035cfcdb90b685758fa8b34/setuptools-41.4.0-py2.py3-none-any.whl (580kB)\n",
            "\u001b[K     |████████████████████████████████| 583kB 40.6MB/s \n",
            "\u001b[?25hCollecting h5py (from keras-applications>=1.0.8->tf-nightly-2.0-preview)\n",
            "\u001b[?25l  Downloading https://files.pythonhosted.org/packages/60/06/cafdd44889200e5438b897388f3075b52a8ef01f28a17366d91de0fa2d05/h5py-2.10.0-cp36-cp36m-manylinux1_x86_64.whl (2.9MB)\n",
            "\u001b[K     |████████████████████████████████| 2.9MB 27.3MB/s \n",
            "\u001b[?25hCollecting markdown>=2.6.8 (from tb-nightly<2.2.0a0,>=2.1.0a0->tf-nightly-2.0-preview)\n",
            "\u001b[?25l  Downloading https://files.pythonhosted.org/packages/c0/4e/fd492e91abdc2d2fcb70ef453064d980688762079397f779758e055f6575/Markdown-3.1.1-py2.py3-none-any.whl (87kB)\n",
            "\u001b[K     |████████████████████████████████| 92kB 18.5MB/s \n",
            "\u001b[?25hCollecting werkzeug>=0.11.15 (from tb-nightly<2.2.0a0,>=2.1.0a0->tf-nightly-2.0-preview)\n",
            "\u001b[?25l  Downloading https://files.pythonhosted.org/packages/ce/42/3aeda98f96e85fd26180534d36570e4d18108d62ae36f87694b476b83d6f/Werkzeug-0.16.0-py2.py3-none-any.whl (327kB)\n",
            "\u001b[K     |████████████████████████████████| 327kB 44.8MB/s \n",
            "\u001b[?25hBuilding wheels for collected packages: termcolor, gast, opt-einsum, wrapt, absl-py\n",
            "  Building wheel for termcolor (setup.py) ... \u001b[?25l\u001b[?25hdone\n",
            "  Created wheel for termcolor: filename=termcolor-1.1.0-cp36-none-any.whl size=4832 sha256=8651c5552088f0d0c8da3959120ec75ee971bf7893340cb606375790e2012745\n",
            "  Stored in directory: /root/.cache/pip/wheels/7c/06/54/bc84598ba1daf8f970247f550b175aaaee85f68b4b0c5ab2c6\n",
            "  Building wheel for gast (setup.py) ... \u001b[?25l\u001b[?25hdone\n",
            "  Created wheel for gast: filename=gast-0.2.2-cp36-none-any.whl size=7540 sha256=8f81a55423023882aa786930792e53c7e881342940886f21bc0be4dd8b1ea066\n",
            "  Stored in directory: /root/.cache/pip/wheels/5c/2e/7e/a1d4d4fcebe6c381f378ce7743a3ced3699feb89bcfbdadadd\n",
            "  Building wheel for opt-einsum (setup.py) ... \u001b[?25l\u001b[?25hdone\n",
            "  Created wheel for opt-einsum: filename=opt_einsum-3.1.0-cp36-none-any.whl size=61682 sha256=cb23bf9f76129f3f9d9f14a2111470c161ee91a0b264cc6e1e5090044c891a94\n",
            "  Stored in directory: /root/.cache/pip/wheels/2c/b1/94/43d03e130b929aae7ba3f8d15cbd7bc0d1cb5bb38a5c721833\n",
            "  Building wheel for wrapt (setup.py) ... \u001b[?25l\u001b[?25hdone\n",
            "  Created wheel for wrapt: filename=wrapt-1.11.2-cp36-cp36m-linux_x86_64.whl size=67520 sha256=b3fe121287fb7c1de866f1050344ccdb3e6ac16f49ed45116a648e748ca87a94\n",
            "  Stored in directory: /root/.cache/pip/wheels/d7/de/2e/efa132238792efb6459a96e85916ef8597fcb3d2ae51590dfd\n",
            "  Building wheel for absl-py (setup.py) ... \u001b[?25l\u001b[?25hdone\n",
            "  Created wheel for absl-py: filename=absl_py-0.8.1-cp36-none-any.whl size=121167 sha256=63d25120bb5ba2d8f8110bd3bf1ff8633cc1f405af64bd6ea39bbfc36ed5fc16\n",
            "  Stored in directory: /root/.cache/pip/wheels/a7/15/a0/0a0561549ad11cdc1bc8fa1191a353efd30facf6bfb507aefc\n",
            "Successfully built termcolor gast opt-einsum wrapt absl-py\n",
            "\u001b[31mERROR: tensorflow 1.14.0 requires tensorboard<1.15.0,>=1.14.0, which is not installed.\u001b[0m\n",
            "\u001b[31mERROR: tensorflow-gpu 1.14.0 requires tensorboard<1.15.0,>=1.14.0, which is not installed.\u001b[0m\n",
            "\u001b[31mERROR: datascience 0.10.6 has requirement folium==0.2.1, but you'll have folium 0.8.3 which is incompatible.\u001b[0m\n",
            "\u001b[31mERROR: albumentations 0.1.12 has requirement imgaug<0.2.7,>=0.2.5, but you'll have imgaug 0.2.9 which is incompatible.\u001b[0m\n",
            "Installing collected packages: termcolor, google-pasta, numpy, gast, opt-einsum, astor, six, setuptools, protobuf, tensorflow-estimator-2.0-preview, wrapt, h5py, keras-applications, absl-py, keras-preprocessing, wheel, grpcio, markdown, werkzeug, tb-nightly, tf-nightly-2.0-preview\n",
            "  Found existing installation: termcolor 1.1.0\n",
            "    Uninstalling termcolor-1.1.0:\n",
            "      Successfully uninstalled termcolor-1.1.0\n",
            "  Found existing installation: google-pasta 0.1.7\n",
            "    Uninstalling google-pasta-0.1.7:\n",
            "      Successfully uninstalled google-pasta-0.1.7\n",
            "  Found existing installation: numpy 1.16.5\n",
            "    Uninstalling numpy-1.16.5:\n",
            "      Successfully uninstalled numpy-1.16.5\n",
            "  Found existing installation: gast 0.2.2\n",
            "    Uninstalling gast-0.2.2:\n",
            "      Successfully uninstalled gast-0.2.2\n",
            "  Found existing installation: opt-einsum 3.1.0\n",
            "    Uninstalling opt-einsum-3.1.0:\n",
            "      Successfully uninstalled opt-einsum-3.1.0\n",
            "  Found existing installation: astor 0.8.0\n",
            "    Uninstalling astor-0.8.0:\n",
            "      Successfully uninstalled astor-0.8.0\n",
            "  Found existing installation: six 1.12.0\n",
            "    Uninstalling six-1.12.0:\n",
            "      Successfully uninstalled six-1.12.0\n",
            "  Found existing installation: setuptools 41.4.0\n",
            "    Uninstalling setuptools-41.4.0:\n",
            "      Successfully uninstalled setuptools-41.4.0\n",
            "  Found existing installation: protobuf 3.10.0\n",
            "    Uninstalling protobuf-3.10.0:\n",
            "      Successfully uninstalled protobuf-3.10.0\n",
            "  Found existing installation: wrapt 1.11.2\n",
            "    Uninstalling wrapt-1.11.2:\n",
            "      Successfully uninstalled wrapt-1.11.2\n",
            "  Found existing installation: h5py 2.8.0\n",
            "    Uninstalling h5py-2.8.0:\n",
            "      Successfully uninstalled h5py-2.8.0\n",
            "  Found existing installation: Keras-Applications 1.0.8\n",
            "    Uninstalling Keras-Applications-1.0.8:\n",
            "      Successfully uninstalled Keras-Applications-1.0.8\n",
            "  Found existing installation: absl-py 0.8.1\n",
            "    Uninstalling absl-py-0.8.1:\n",
            "      Successfully uninstalled absl-py-0.8.1\n",
            "  Found existing installation: Keras-Preprocessing 1.1.0\n",
            "    Uninstalling Keras-Preprocessing-1.1.0:\n",
            "      Successfully uninstalled Keras-Preprocessing-1.1.0\n",
            "  Found existing installation: wheel 0.33.6\n",
            "    Uninstalling wheel-0.33.6:\n",
            "      Successfully uninstalled wheel-0.33.6\n",
            "  Found existing installation: grpcio 1.15.0\n",
            "    Uninstalling grpcio-1.15.0:\n",
            "      Successfully uninstalled grpcio-1.15.0\n",
            "  Found existing installation: Markdown 3.1.1\n",
            "    Uninstalling Markdown-3.1.1:\n",
            "      Successfully uninstalled Markdown-3.1.1\n",
            "  Found existing installation: Werkzeug 0.16.0\n",
            "    Uninstalling Werkzeug-0.16.0:\n",
            "      Successfully uninstalled Werkzeug-0.16.0\n",
            "Successfully installed absl-py-0.8.1 astor-0.8.0 gast-0.2.2 google-pasta-0.1.7 grpcio-1.24.3 h5py-2.10.0 keras-applications-1.0.8 keras-preprocessing-1.1.0 markdown-3.1.1 numpy-1.17.3 opt-einsum-3.1.0 protobuf-3.10.0 setuptools-41.4.0 six-1.12.0 tb-nightly-2.1.0a20191022 tensorflow-estimator-2.0-preview-2.0.0 termcolor-1.1.0 tf-nightly-2.0-preview-2.0.0.dev20191002 werkzeug-0.16.0 wheel-0.33.6 wrapt-1.11.2\n"
          ],
          "name": "stdout"
        },
        {
          "output_type": "display_data",
          "data": {
            "application/vnd.colab-display-data+json": {
              "pip_warning": {
                "packages": [
                  "absl",
                  "astor",
                  "gast",
                  "google",
                  "grpc",
                  "h5py",
                  "keras_applications",
                  "keras_preprocessing",
                  "numpy",
                  "pkg_resources",
                  "six",
                  "tensorboard",
                  "tensorflow",
                  "tensorflow_estimator",
                  "termcolor",
                  "wrapt"
                ]
              }
            }
          },
          "metadata": {
            "tags": []
          }
        }
      ]
    },
    {
      "cell_type": "markdown",
      "metadata": {
        "id": "8Bwh7cUCxQog",
        "colab_type": "text"
      },
      "source": [
        "# Source Code"
      ]
    },
    {
      "cell_type": "code",
      "metadata": {
        "id": "9QO8BXLmIo3v",
        "colab_type": "code",
        "colab": {}
      },
      "source": [
        "import numpy as np \n",
        "import pandas as pd\n",
        "import matplotlib.pyplot as plt\n",
        "import seaborn as sns\n",
        "\n",
        "from sklearn.preprocessing import LabelEncoder\n",
        "from sklearn.preprocessing import MinMaxScaler\n",
        "from collections import defaultdict\n",
        "from sklearn.model_selection import train_test_split\n",
        "\n",
        "import tensorflow as tf\n",
        "\n",
        "\n",
        "\n",
        "\n",
        "from sklearn.model_selection import cross_val_score, GridSearchCV\n",
        "\n",
        "from sklearn.metrics import confusion_matrix,classification_report\n",
        "\n",
        "import pickle\n",
        "\n",
        "import time\n",
        "import datetime\n",
        "import os\n"
      ],
      "execution_count": 0,
      "outputs": []
    },
    {
      "cell_type": "code",
      "metadata": {
        "id": "CZuykoGYmMww",
        "colab_type": "code",
        "colab": {}
      },
      "source": [
        "from tensorflow.python.framework import ops"
      ],
      "execution_count": 0,
      "outputs": []
    },
    {
      "cell_type": "code",
      "metadata": {
        "id": "78FdmIJiYxsy",
        "colab_type": "code",
        "colab": {}
      },
      "source": [
        "\n",
        "ops.reset_default_graph()\n",
        "\n",
        "!rm -rf tensorboard_logs"
      ],
      "execution_count": 0,
      "outputs": []
    },
    {
      "cell_type": "code",
      "metadata": {
        "id": "nRRIjv4mKKX7",
        "colab_type": "code",
        "outputId": "0e9f7852-b2a1-4d5b-935e-5281ad7901c2",
        "colab": {
          "base_uri": "https://localhost:8080/",
          "height": 51
        }
      },
      "source": [
        "\n",
        "# Load the TensorBoard notebook extension\n",
        "%load_ext tensorboard"
      ],
      "execution_count": 0,
      "outputs": [
        {
          "output_type": "stream",
          "text": [
            "The tensorboard extension is already loaded. To reload it, use:\n",
            "  %reload_ext tensorboard\n"
          ],
          "name": "stdout"
        }
      ]
    },
    {
      "cell_type": "code",
      "metadata": {
        "id": "YZyk91SHA516",
        "colab_type": "code",
        "colab": {}
      },
      "source": [
        "from IPython.core.interactiveshell import InteractiveShell\n",
        "InteractiveShell.ast_node_interactivity = \"all\"\n",
        "\n",
        "pd.options.display.max_colwidth = 300\n",
        "pd.options.display.max_columns = None\n",
        "pd.options.display.max_rows = None\n",
        "\n",
        "# from importlib import reload\n",
        "# reload(plt)\n",
        "#%matplotlib inline\n",
        "#%matplotlib auto\n",
        "#plt.style.use('seaborn-whitegrid')\n",
        "#sns.set(style=\"ticks\", color_codes=True)"
      ],
      "execution_count": 0,
      "outputs": []
    },
    {
      "cell_type": "code",
      "metadata": {
        "id": "GbmRdpo9A-MT",
        "colab_type": "code",
        "colab": {}
      },
      "source": [
        "#datasetPath = \"../Datasets/UNSW_NB15/\"\n",
        "datasetPath = \"./unsw-nb15/\""
      ],
      "execution_count": 0,
      "outputs": []
    },
    {
      "cell_type": "code",
      "metadata": {
        "id": "lWnV2O3JKg9U",
        "colab_type": "code",
        "outputId": "15ceac32-1379-468c-a735-61b8bf05d0d2",
        "colab": {
          "base_uri": "https://localhost:8080/",
          "height": 1000
        }
      },
      "source": [
        "featuresFileName = datasetPath + \"NUSW-NB15_features.csv\"\n",
        "#features = pd.read_csv(featuresFileName)\n",
        "    \n",
        "rows = []\n",
        "with open(featuresFileName, 'rb') as csvFile:\n",
        "    for line in csvFile:\n",
        "        line = str(line)[2:-5].split(\",\")\n",
        "        row = [line[1], line[2], \",\".join(line[3:]).replace('\"','')]\n",
        "        rows.append(row)\n",
        "featureHeaders = rows[0]\n",
        "featuresDf = pd.DataFrame(rows[1:], columns=featureHeaders)\n",
        "print(\"features description\")\n",
        "featuresDf"
      ],
      "execution_count": 0,
      "outputs": [
        {
          "output_type": "stream",
          "text": [
            "features description\n"
          ],
          "name": "stdout"
        },
        {
          "output_type": "execute_result",
          "data": {
            "text/html": [
              "<div>\n",
              "<style scoped>\n",
              "    .dataframe tbody tr th:only-of-type {\n",
              "        vertical-align: middle;\n",
              "    }\n",
              "\n",
              "    .dataframe tbody tr th {\n",
              "        vertical-align: top;\n",
              "    }\n",
              "\n",
              "    .dataframe thead th {\n",
              "        text-align: right;\n",
              "    }\n",
              "</style>\n",
              "<table border=\"1\" class=\"dataframe\">\n",
              "  <thead>\n",
              "    <tr style=\"text-align: right;\">\n",
              "      <th></th>\n",
              "      <th>Name</th>\n",
              "      <th>Type</th>\n",
              "      <th>Description</th>\n",
              "    </tr>\n",
              "  </thead>\n",
              "  <tbody>\n",
              "    <tr>\n",
              "      <th>0</th>\n",
              "      <td>srcip</td>\n",
              "      <td>nominal</td>\n",
              "      <td>Source IP address</td>\n",
              "    </tr>\n",
              "    <tr>\n",
              "      <th>1</th>\n",
              "      <td>sport</td>\n",
              "      <td>integer</td>\n",
              "      <td>Source port number</td>\n",
              "    </tr>\n",
              "    <tr>\n",
              "      <th>2</th>\n",
              "      <td>dstip</td>\n",
              "      <td>nominal</td>\n",
              "      <td>Destination IP address</td>\n",
              "    </tr>\n",
              "    <tr>\n",
              "      <th>3</th>\n",
              "      <td>dsport</td>\n",
              "      <td>integer</td>\n",
              "      <td>Destination port number</td>\n",
              "    </tr>\n",
              "    <tr>\n",
              "      <th>4</th>\n",
              "      <td>proto</td>\n",
              "      <td>nominal</td>\n",
              "      <td>Transaction protocol</td>\n",
              "    </tr>\n",
              "    <tr>\n",
              "      <th>5</th>\n",
              "      <td>state</td>\n",
              "      <td>nominal</td>\n",
              "      <td>Indicates to the state and its dependent protocol, e.g. ACC, CLO, CON, ECO, ECR, FIN, INT, MAS, PAR, REQ, RST, TST, TXD, URH, URN, and (-) (if not used state)</td>\n",
              "    </tr>\n",
              "    <tr>\n",
              "      <th>6</th>\n",
              "      <td>dur</td>\n",
              "      <td>Float</td>\n",
              "      <td>Record total duration</td>\n",
              "    </tr>\n",
              "    <tr>\n",
              "      <th>7</th>\n",
              "      <td>sbytes</td>\n",
              "      <td>Integer</td>\n",
              "      <td>Source to destination transaction bytes</td>\n",
              "    </tr>\n",
              "    <tr>\n",
              "      <th>8</th>\n",
              "      <td>dbytes</td>\n",
              "      <td>Integer</td>\n",
              "      <td>Destination to source transaction bytes</td>\n",
              "    </tr>\n",
              "    <tr>\n",
              "      <th>9</th>\n",
              "      <td>sttl</td>\n",
              "      <td>Integer</td>\n",
              "      <td>Source to destination time to live value</td>\n",
              "    </tr>\n",
              "    <tr>\n",
              "      <th>10</th>\n",
              "      <td>dttl</td>\n",
              "      <td>Integer</td>\n",
              "      <td>Destination to source time to live value</td>\n",
              "    </tr>\n",
              "    <tr>\n",
              "      <th>11</th>\n",
              "      <td>sloss</td>\n",
              "      <td>Integer</td>\n",
              "      <td>Source packets retransmitted or dropped</td>\n",
              "    </tr>\n",
              "    <tr>\n",
              "      <th>12</th>\n",
              "      <td>dloss</td>\n",
              "      <td>Integer</td>\n",
              "      <td>Destination packets retransmitted or dropped</td>\n",
              "    </tr>\n",
              "    <tr>\n",
              "      <th>13</th>\n",
              "      <td>service</td>\n",
              "      <td>nominal</td>\n",
              "      <td>http, ftp, smtp, ssh, dns, ftp-data ,irc  and (-) if not much used service</td>\n",
              "    </tr>\n",
              "    <tr>\n",
              "      <th>14</th>\n",
              "      <td>Sload</td>\n",
              "      <td>Float</td>\n",
              "      <td>Source bits per second</td>\n",
              "    </tr>\n",
              "    <tr>\n",
              "      <th>15</th>\n",
              "      <td>Dload</td>\n",
              "      <td>Float</td>\n",
              "      <td>Destination bits per second</td>\n",
              "    </tr>\n",
              "    <tr>\n",
              "      <th>16</th>\n",
              "      <td>Spkts</td>\n",
              "      <td>integer</td>\n",
              "      <td>Source to destination packet count</td>\n",
              "    </tr>\n",
              "    <tr>\n",
              "      <th>17</th>\n",
              "      <td>Dpkts</td>\n",
              "      <td>integer</td>\n",
              "      <td>Destination to source packet count</td>\n",
              "    </tr>\n",
              "    <tr>\n",
              "      <th>18</th>\n",
              "      <td>swin</td>\n",
              "      <td>integer</td>\n",
              "      <td>Source TCP window advertisement value</td>\n",
              "    </tr>\n",
              "    <tr>\n",
              "      <th>19</th>\n",
              "      <td>dwin</td>\n",
              "      <td>integer</td>\n",
              "      <td>Destination TCP window advertisement value</td>\n",
              "    </tr>\n",
              "    <tr>\n",
              "      <th>20</th>\n",
              "      <td>stcpb</td>\n",
              "      <td>integer</td>\n",
              "      <td>Source TCP base sequence number</td>\n",
              "    </tr>\n",
              "    <tr>\n",
              "      <th>21</th>\n",
              "      <td>dtcpb</td>\n",
              "      <td>integer</td>\n",
              "      <td>Destination TCP base sequence number</td>\n",
              "    </tr>\n",
              "    <tr>\n",
              "      <th>22</th>\n",
              "      <td>smeansz</td>\n",
              "      <td>integer</td>\n",
              "      <td>Mean of the ?ow packet size transmitted by the src</td>\n",
              "    </tr>\n",
              "    <tr>\n",
              "      <th>23</th>\n",
              "      <td>dmeansz</td>\n",
              "      <td>integer</td>\n",
              "      <td>Mean of the ?ow packet size transmitted by the dst</td>\n",
              "    </tr>\n",
              "    <tr>\n",
              "      <th>24</th>\n",
              "      <td>trans_depth</td>\n",
              "      <td>integer</td>\n",
              "      <td>Represents the pipelined depth into the connection of http request/response transaction</td>\n",
              "    </tr>\n",
              "    <tr>\n",
              "      <th>25</th>\n",
              "      <td>res_bdy_len</td>\n",
              "      <td>integer</td>\n",
              "      <td>Actual uncompressed content size of the data transferred from the server\\x92s http service.</td>\n",
              "    </tr>\n",
              "    <tr>\n",
              "      <th>26</th>\n",
              "      <td>Sjit</td>\n",
              "      <td>Float</td>\n",
              "      <td>Source jitter (mSec)</td>\n",
              "    </tr>\n",
              "    <tr>\n",
              "      <th>27</th>\n",
              "      <td>Djit</td>\n",
              "      <td>Float</td>\n",
              "      <td>Destination jitter (mSec)</td>\n",
              "    </tr>\n",
              "    <tr>\n",
              "      <th>28</th>\n",
              "      <td>Stime</td>\n",
              "      <td>Timestamp</td>\n",
              "      <td>record start time</td>\n",
              "    </tr>\n",
              "    <tr>\n",
              "      <th>29</th>\n",
              "      <td>Ltime</td>\n",
              "      <td>Timestamp</td>\n",
              "      <td>record last time</td>\n",
              "    </tr>\n",
              "    <tr>\n",
              "      <th>30</th>\n",
              "      <td>Sintpkt</td>\n",
              "      <td>Float</td>\n",
              "      <td>Source interpacket arrival time (mSec)</td>\n",
              "    </tr>\n",
              "    <tr>\n",
              "      <th>31</th>\n",
              "      <td>Dintpkt</td>\n",
              "      <td>Float</td>\n",
              "      <td>Destination interpacket arrival time (mSec)</td>\n",
              "    </tr>\n",
              "    <tr>\n",
              "      <th>32</th>\n",
              "      <td>tcprtt</td>\n",
              "      <td>Float</td>\n",
              "      <td>TCP connection setup round-trip time, the sum of \\x92synack\\x92 and \\x92ackdat\\x92.</td>\n",
              "    </tr>\n",
              "    <tr>\n",
              "      <th>33</th>\n",
              "      <td>synack</td>\n",
              "      <td>Float</td>\n",
              "      <td>TCP connection setup time, the time between the SYN and the SYN_ACK packets.</td>\n",
              "    </tr>\n",
              "    <tr>\n",
              "      <th>34</th>\n",
              "      <td>ackdat</td>\n",
              "      <td>Float</td>\n",
              "      <td>TCP connection setup time, the time between the SYN_ACK and the ACK packets.</td>\n",
              "    </tr>\n",
              "    <tr>\n",
              "      <th>35</th>\n",
              "      <td>is_sm_ips_ports</td>\n",
              "      <td>Binary</td>\n",
              "      <td>If source (1) and destination (3)IP addresses equal and port numbers (2)(4)  equal then, this variable takes value 1 else 0</td>\n",
              "    </tr>\n",
              "    <tr>\n",
              "      <th>36</th>\n",
              "      <td>ct_state_ttl</td>\n",
              "      <td>Integer</td>\n",
              "      <td>No. for each state (6) according to specific range of values for source/destination time to live (10) (11).</td>\n",
              "    </tr>\n",
              "    <tr>\n",
              "      <th>37</th>\n",
              "      <td>ct_flw_http_mthd</td>\n",
              "      <td>Integer</td>\n",
              "      <td>No. of flows that has methods such as Get and Post in http service.</td>\n",
              "    </tr>\n",
              "    <tr>\n",
              "      <th>38</th>\n",
              "      <td>is_ftp_login</td>\n",
              "      <td>Binary</td>\n",
              "      <td>If the ftp session is accessed by user and password then 1 else 0.</td>\n",
              "    </tr>\n",
              "    <tr>\n",
              "      <th>39</th>\n",
              "      <td>ct_ftp_cmd</td>\n",
              "      <td>integer</td>\n",
              "      <td>No of flows that has a command in ftp session.</td>\n",
              "    </tr>\n",
              "    <tr>\n",
              "      <th>40</th>\n",
              "      <td>ct_srv_src</td>\n",
              "      <td>integer</td>\n",
              "      <td>No. of connections that contain the same service (14) and source address (1) in 100 connections according to the last time (26).</td>\n",
              "    </tr>\n",
              "    <tr>\n",
              "      <th>41</th>\n",
              "      <td>ct_srv_dst</td>\n",
              "      <td>integer</td>\n",
              "      <td>No. of connections that contain the same service (14) and destination address (3) in 100 connections according to the last time (26).</td>\n",
              "    </tr>\n",
              "    <tr>\n",
              "      <th>42</th>\n",
              "      <td>ct_dst_ltm</td>\n",
              "      <td>integer</td>\n",
              "      <td>No. of connections of the same destination address (3) in 100 connections according to the last time (26).</td>\n",
              "    </tr>\n",
              "    <tr>\n",
              "      <th>43</th>\n",
              "      <td>ct_src_ ltm</td>\n",
              "      <td>integer</td>\n",
              "      <td>No. of connections of the same source address (1) in 100 connections according to the last time (26).</td>\n",
              "    </tr>\n",
              "    <tr>\n",
              "      <th>44</th>\n",
              "      <td>ct_src_dport_ltm</td>\n",
              "      <td>integer</td>\n",
              "      <td>No of connections of the same source address (1) and the destination port (4) in 100 connections according to the last time (26).</td>\n",
              "    </tr>\n",
              "    <tr>\n",
              "      <th>45</th>\n",
              "      <td>ct_dst_sport_ltm</td>\n",
              "      <td>integer</td>\n",
              "      <td>No of connections of the same destination address (3) and the source port (2) in 100 connections according to the last time (26).</td>\n",
              "    </tr>\n",
              "    <tr>\n",
              "      <th>46</th>\n",
              "      <td>ct_dst_src_ltm</td>\n",
              "      <td>integer</td>\n",
              "      <td>No of connections of the same source (1) and the destination (3) address in in 100 connections according to the last time (26).</td>\n",
              "    </tr>\n",
              "    <tr>\n",
              "      <th>47</th>\n",
              "      <td>attack_cat</td>\n",
              "      <td>nominal</td>\n",
              "      <td>The name of each attack category. In this data set , nine categories e.g. Fuzzers, Analysis, Backdoors, DoS Exploits, Generic, Reconnaissance, Shellcode and Worms</td>\n",
              "    </tr>\n",
              "    <tr>\n",
              "      <th>48</th>\n",
              "      <td>Label</td>\n",
              "      <td>binary</td>\n",
              "      <td>0 for normal and 1 for attack records</td>\n",
              "    </tr>\n",
              "  </tbody>\n",
              "</table>\n",
              "</div>"
            ],
            "text/plain": [
              "                Name      Type   \\\n",
              "0              srcip    nominal   \n",
              "1              sport    integer   \n",
              "2              dstip    nominal   \n",
              "3             dsport    integer   \n",
              "4              proto    nominal   \n",
              "5              state    nominal   \n",
              "6                dur      Float   \n",
              "7             sbytes    Integer   \n",
              "8             dbytes    Integer   \n",
              "9               sttl    Integer   \n",
              "10              dttl    Integer   \n",
              "11             sloss    Integer   \n",
              "12             dloss    Integer   \n",
              "13           service    nominal   \n",
              "14             Sload      Float   \n",
              "15             Dload      Float   \n",
              "16             Spkts    integer   \n",
              "17             Dpkts    integer   \n",
              "18              swin    integer   \n",
              "19              dwin    integer   \n",
              "20             stcpb    integer   \n",
              "21             dtcpb    integer   \n",
              "22           smeansz    integer   \n",
              "23           dmeansz    integer   \n",
              "24       trans_depth    integer   \n",
              "25       res_bdy_len    integer   \n",
              "26              Sjit      Float   \n",
              "27              Djit      Float   \n",
              "28             Stime  Timestamp   \n",
              "29             Ltime  Timestamp   \n",
              "30           Sintpkt      Float   \n",
              "31           Dintpkt      Float   \n",
              "32            tcprtt      Float   \n",
              "33            synack      Float   \n",
              "34            ackdat      Float   \n",
              "35   is_sm_ips_ports     Binary   \n",
              "36      ct_state_ttl    Integer   \n",
              "37  ct_flw_http_mthd    Integer   \n",
              "38      is_ftp_login     Binary   \n",
              "39        ct_ftp_cmd    integer   \n",
              "40        ct_srv_src    integer   \n",
              "41        ct_srv_dst    integer   \n",
              "42        ct_dst_ltm    integer   \n",
              "43       ct_src_ ltm    integer   \n",
              "44  ct_src_dport_ltm    integer   \n",
              "45  ct_dst_sport_ltm    integer   \n",
              "46    ct_dst_src_ltm    integer   \n",
              "47        attack_cat    nominal   \n",
              "48             Label     binary   \n",
              "\n",
              "                                                                                                                                                           Description  \n",
              "0                                                                                                                                                    Source IP address  \n",
              "1                                                                                                                                                   Source port number  \n",
              "2                                                                                                                                               Destination IP address  \n",
              "3                                                                                                                                              Destination port number  \n",
              "4                                                                                                                                                 Transaction protocol  \n",
              "5       Indicates to the state and its dependent protocol, e.g. ACC, CLO, CON, ECO, ECR, FIN, INT, MAS, PAR, REQ, RST, TST, TXD, URH, URN, and (-) (if not used state)  \n",
              "6                                                                                                                                                Record total duration  \n",
              "7                                                                                                                             Source to destination transaction bytes   \n",
              "8                                                                                                                              Destination to source transaction bytes  \n",
              "9                                                                                                                            Source to destination time to live value   \n",
              "10                                                                                                                            Destination to source time to live value  \n",
              "11                                                                                                                            Source packets retransmitted or dropped   \n",
              "12                                                                                                                        Destination packets retransmitted or dropped  \n",
              "13                                                                                          http, ftp, smtp, ssh, dns, ftp-data ,irc  and (-) if not much used service  \n",
              "14                                                                                                                                              Source bits per second  \n",
              "15                                                                                                                                         Destination bits per second  \n",
              "16                                                                                                                                 Source to destination packet count   \n",
              "17                                                                                                                                  Destination to source packet count  \n",
              "18                                                                                                                               Source TCP window advertisement value  \n",
              "19                                                                                                                          Destination TCP window advertisement value  \n",
              "20                                                                                                                                     Source TCP base sequence number  \n",
              "21                                                                                                                                Destination TCP base sequence number  \n",
              "22                                                                                                                 Mean of the ?ow packet size transmitted by the src   \n",
              "23                                                                                                                 Mean of the ?ow packet size transmitted by the dst   \n",
              "24                                                                             Represents the pipelined depth into the connection of http request/response transaction  \n",
              "25                                                                         Actual uncompressed content size of the data transferred from the server\\x92s http service.  \n",
              "26                                                                                                                                                Source jitter (mSec)  \n",
              "27                                                                                                                                           Destination jitter (mSec)  \n",
              "28                                                                                                                                                   record start time  \n",
              "29                                                                                                                                                    record last time  \n",
              "30                                                                                                                              Source interpacket arrival time (mSec)  \n",
              "31                                                                                                                         Destination interpacket arrival time (mSec)  \n",
              "32                                                                                 TCP connection setup round-trip time, the sum of \\x92synack\\x92 and \\x92ackdat\\x92.  \n",
              "33                                                                                        TCP connection setup time, the time between the SYN and the SYN_ACK packets.  \n",
              "34                                                                                        TCP connection setup time, the time between the SYN_ACK and the ACK packets.  \n",
              "35                                         If source (1) and destination (3)IP addresses equal and port numbers (2)(4)  equal then, this variable takes value 1 else 0  \n",
              "36                                                         No. for each state (6) according to specific range of values for source/destination time to live (10) (11).  \n",
              "37                                                                                                 No. of flows that has methods such as Get and Post in http service.  \n",
              "38                                                                                                 If the ftp session is accessed by user and password then 1 else 0.   \n",
              "39                                                                                                                      No of flows that has a command in ftp session.  \n",
              "40                                    No. of connections that contain the same service (14) and source address (1) in 100 connections according to the last time (26).  \n",
              "41                               No. of connections that contain the same service (14) and destination address (3) in 100 connections according to the last time (26).  \n",
              "42                                                          No. of connections of the same destination address (3) in 100 connections according to the last time (26).  \n",
              "43                                                               No. of connections of the same source address (1) in 100 connections according to the last time (26).  \n",
              "44                                   No of connections of the same source address (1) and the destination port (4) in 100 connections according to the last time (26).  \n",
              "45                                   No of connections of the same destination address (3) and the source port (2) in 100 connections according to the last time (26).  \n",
              "46                                     No of connections of the same source (1) and the destination (3) address in in 100 connections according to the last time (26).  \n",
              "47  The name of each attack category. In this data set , nine categories e.g. Fuzzers, Analysis, Backdoors, DoS Exploits, Generic, Reconnaissance, Shellcode and Worms  \n",
              "48                                                                                                                               0 for normal and 1 for attack records  "
            ]
          },
          "metadata": {
            "tags": []
          },
          "execution_count": 276
        }
      ]
    },
    {
      "cell_type": "code",
      "metadata": {
        "id": "kkU9q2J1KqDE",
        "colab_type": "code",
        "colab": {}
      },
      "source": [
        "df1 = pd.read_csv(datasetPath + \"UNSW_NB15_training-set.csv\")\n",
        "df2 = pd.read_csv(datasetPath + \"UNSW_NB15_testing-set.csv\")"
      ],
      "execution_count": 0,
      "outputs": []
    },
    {
      "cell_type": "code",
      "metadata": {
        "id": "UOF13vfzVKMV",
        "colab_type": "code",
        "outputId": "46dc093c-84e7-4b27-cb21-1498cb256829",
        "colab": {
          "base_uri": "https://localhost:8080/",
          "height": 241
        }
      },
      "source": [
        "df = df1.append(df2, ignore_index=True)\n",
        "df.shape\n",
        "df.tail()"
      ],
      "execution_count": 0,
      "outputs": [
        {
          "output_type": "execute_result",
          "data": {
            "text/plain": [
              "(257673, 45)"
            ]
          },
          "metadata": {
            "tags": []
          },
          "execution_count": 278
        },
        {
          "output_type": "execute_result",
          "data": {
            "text/html": [
              "<div>\n",
              "<style scoped>\n",
              "    .dataframe tbody tr th:only-of-type {\n",
              "        vertical-align: middle;\n",
              "    }\n",
              "\n",
              "    .dataframe tbody tr th {\n",
              "        vertical-align: top;\n",
              "    }\n",
              "\n",
              "    .dataframe thead th {\n",
              "        text-align: right;\n",
              "    }\n",
              "</style>\n",
              "<table border=\"1\" class=\"dataframe\">\n",
              "  <thead>\n",
              "    <tr style=\"text-align: right;\">\n",
              "      <th></th>\n",
              "      <th>id</th>\n",
              "      <th>dur</th>\n",
              "      <th>proto</th>\n",
              "      <th>service</th>\n",
              "      <th>state</th>\n",
              "      <th>spkts</th>\n",
              "      <th>dpkts</th>\n",
              "      <th>sbytes</th>\n",
              "      <th>dbytes</th>\n",
              "      <th>rate</th>\n",
              "      <th>sttl</th>\n",
              "      <th>dttl</th>\n",
              "      <th>sload</th>\n",
              "      <th>dload</th>\n",
              "      <th>sloss</th>\n",
              "      <th>dloss</th>\n",
              "      <th>sinpkt</th>\n",
              "      <th>dinpkt</th>\n",
              "      <th>sjit</th>\n",
              "      <th>djit</th>\n",
              "      <th>swin</th>\n",
              "      <th>stcpb</th>\n",
              "      <th>dtcpb</th>\n",
              "      <th>dwin</th>\n",
              "      <th>tcprtt</th>\n",
              "      <th>synack</th>\n",
              "      <th>ackdat</th>\n",
              "      <th>smean</th>\n",
              "      <th>dmean</th>\n",
              "      <th>trans_depth</th>\n",
              "      <th>response_body_len</th>\n",
              "      <th>ct_srv_src</th>\n",
              "      <th>ct_state_ttl</th>\n",
              "      <th>ct_dst_ltm</th>\n",
              "      <th>ct_src_dport_ltm</th>\n",
              "      <th>ct_dst_sport_ltm</th>\n",
              "      <th>ct_dst_src_ltm</th>\n",
              "      <th>is_ftp_login</th>\n",
              "      <th>ct_ftp_cmd</th>\n",
              "      <th>ct_flw_http_mthd</th>\n",
              "      <th>ct_src_ltm</th>\n",
              "      <th>ct_srv_dst</th>\n",
              "      <th>is_sm_ips_ports</th>\n",
              "      <th>attack_cat</th>\n",
              "      <th>label</th>\n",
              "    </tr>\n",
              "  </thead>\n",
              "  <tbody>\n",
              "    <tr>\n",
              "      <th>257668</th>\n",
              "      <td>175337</td>\n",
              "      <td>0.000009</td>\n",
              "      <td>udp</td>\n",
              "      <td>dns</td>\n",
              "      <td>INT</td>\n",
              "      <td>2</td>\n",
              "      <td>0</td>\n",
              "      <td>114</td>\n",
              "      <td>0</td>\n",
              "      <td>111111.107200</td>\n",
              "      <td>254</td>\n",
              "      <td>0</td>\n",
              "      <td>5.066666e+07</td>\n",
              "      <td>0.000000</td>\n",
              "      <td>0</td>\n",
              "      <td>0</td>\n",
              "      <td>0.009000</td>\n",
              "      <td>0.00000</td>\n",
              "      <td>0.000000</td>\n",
              "      <td>0.000000</td>\n",
              "      <td>0</td>\n",
              "      <td>0</td>\n",
              "      <td>0</td>\n",
              "      <td>0</td>\n",
              "      <td>0.00000</td>\n",
              "      <td>0.000000</td>\n",
              "      <td>0.000000</td>\n",
              "      <td>57</td>\n",
              "      <td>0</td>\n",
              "      <td>0</td>\n",
              "      <td>0</td>\n",
              "      <td>24</td>\n",
              "      <td>2</td>\n",
              "      <td>24</td>\n",
              "      <td>24</td>\n",
              "      <td>13</td>\n",
              "      <td>24</td>\n",
              "      <td>0</td>\n",
              "      <td>0</td>\n",
              "      <td>0</td>\n",
              "      <td>24</td>\n",
              "      <td>24</td>\n",
              "      <td>0</td>\n",
              "      <td>Generic</td>\n",
              "      <td>1</td>\n",
              "    </tr>\n",
              "    <tr>\n",
              "      <th>257669</th>\n",
              "      <td>175338</td>\n",
              "      <td>0.505762</td>\n",
              "      <td>tcp</td>\n",
              "      <td>-</td>\n",
              "      <td>FIN</td>\n",
              "      <td>10</td>\n",
              "      <td>8</td>\n",
              "      <td>620</td>\n",
              "      <td>354</td>\n",
              "      <td>33.612649</td>\n",
              "      <td>254</td>\n",
              "      <td>252</td>\n",
              "      <td>8.826286e+03</td>\n",
              "      <td>4903.492188</td>\n",
              "      <td>2</td>\n",
              "      <td>1</td>\n",
              "      <td>54.400111</td>\n",
              "      <td>66.98057</td>\n",
              "      <td>3721.068786</td>\n",
              "      <td>120.177727</td>\n",
              "      <td>255</td>\n",
              "      <td>3518776216</td>\n",
              "      <td>3453092386</td>\n",
              "      <td>255</td>\n",
              "      <td>0.09944</td>\n",
              "      <td>0.036895</td>\n",
              "      <td>0.062545</td>\n",
              "      <td>62</td>\n",
              "      <td>44</td>\n",
              "      <td>0</td>\n",
              "      <td>0</td>\n",
              "      <td>1</td>\n",
              "      <td>1</td>\n",
              "      <td>1</td>\n",
              "      <td>1</td>\n",
              "      <td>1</td>\n",
              "      <td>2</td>\n",
              "      <td>0</td>\n",
              "      <td>0</td>\n",
              "      <td>0</td>\n",
              "      <td>1</td>\n",
              "      <td>1</td>\n",
              "      <td>0</td>\n",
              "      <td>Shellcode</td>\n",
              "      <td>1</td>\n",
              "    </tr>\n",
              "    <tr>\n",
              "      <th>257670</th>\n",
              "      <td>175339</td>\n",
              "      <td>0.000009</td>\n",
              "      <td>udp</td>\n",
              "      <td>dns</td>\n",
              "      <td>INT</td>\n",
              "      <td>2</td>\n",
              "      <td>0</td>\n",
              "      <td>114</td>\n",
              "      <td>0</td>\n",
              "      <td>111111.107200</td>\n",
              "      <td>254</td>\n",
              "      <td>0</td>\n",
              "      <td>5.066666e+07</td>\n",
              "      <td>0.000000</td>\n",
              "      <td>0</td>\n",
              "      <td>0</td>\n",
              "      <td>0.009000</td>\n",
              "      <td>0.00000</td>\n",
              "      <td>0.000000</td>\n",
              "      <td>0.000000</td>\n",
              "      <td>0</td>\n",
              "      <td>0</td>\n",
              "      <td>0</td>\n",
              "      <td>0</td>\n",
              "      <td>0.00000</td>\n",
              "      <td>0.000000</td>\n",
              "      <td>0.000000</td>\n",
              "      <td>57</td>\n",
              "      <td>0</td>\n",
              "      <td>0</td>\n",
              "      <td>0</td>\n",
              "      <td>12</td>\n",
              "      <td>2</td>\n",
              "      <td>3</td>\n",
              "      <td>3</td>\n",
              "      <td>3</td>\n",
              "      <td>13</td>\n",
              "      <td>0</td>\n",
              "      <td>0</td>\n",
              "      <td>0</td>\n",
              "      <td>3</td>\n",
              "      <td>12</td>\n",
              "      <td>0</td>\n",
              "      <td>Generic</td>\n",
              "      <td>1</td>\n",
              "    </tr>\n",
              "    <tr>\n",
              "      <th>257671</th>\n",
              "      <td>175340</td>\n",
              "      <td>0.000009</td>\n",
              "      <td>udp</td>\n",
              "      <td>dns</td>\n",
              "      <td>INT</td>\n",
              "      <td>2</td>\n",
              "      <td>0</td>\n",
              "      <td>114</td>\n",
              "      <td>0</td>\n",
              "      <td>111111.107200</td>\n",
              "      <td>254</td>\n",
              "      <td>0</td>\n",
              "      <td>5.066666e+07</td>\n",
              "      <td>0.000000</td>\n",
              "      <td>0</td>\n",
              "      <td>0</td>\n",
              "      <td>0.009000</td>\n",
              "      <td>0.00000</td>\n",
              "      <td>0.000000</td>\n",
              "      <td>0.000000</td>\n",
              "      <td>0</td>\n",
              "      <td>0</td>\n",
              "      <td>0</td>\n",
              "      <td>0</td>\n",
              "      <td>0.00000</td>\n",
              "      <td>0.000000</td>\n",
              "      <td>0.000000</td>\n",
              "      <td>57</td>\n",
              "      <td>0</td>\n",
              "      <td>0</td>\n",
              "      <td>0</td>\n",
              "      <td>30</td>\n",
              "      <td>2</td>\n",
              "      <td>30</td>\n",
              "      <td>30</td>\n",
              "      <td>14</td>\n",
              "      <td>30</td>\n",
              "      <td>0</td>\n",
              "      <td>0</td>\n",
              "      <td>0</td>\n",
              "      <td>30</td>\n",
              "      <td>30</td>\n",
              "      <td>0</td>\n",
              "      <td>Generic</td>\n",
              "      <td>1</td>\n",
              "    </tr>\n",
              "    <tr>\n",
              "      <th>257672</th>\n",
              "      <td>175341</td>\n",
              "      <td>0.000009</td>\n",
              "      <td>udp</td>\n",
              "      <td>dns</td>\n",
              "      <td>INT</td>\n",
              "      <td>2</td>\n",
              "      <td>0</td>\n",
              "      <td>114</td>\n",
              "      <td>0</td>\n",
              "      <td>111111.107200</td>\n",
              "      <td>254</td>\n",
              "      <td>0</td>\n",
              "      <td>5.066666e+07</td>\n",
              "      <td>0.000000</td>\n",
              "      <td>0</td>\n",
              "      <td>0</td>\n",
              "      <td>0.009000</td>\n",
              "      <td>0.00000</td>\n",
              "      <td>0.000000</td>\n",
              "      <td>0.000000</td>\n",
              "      <td>0</td>\n",
              "      <td>0</td>\n",
              "      <td>0</td>\n",
              "      <td>0</td>\n",
              "      <td>0.00000</td>\n",
              "      <td>0.000000</td>\n",
              "      <td>0.000000</td>\n",
              "      <td>57</td>\n",
              "      <td>0</td>\n",
              "      <td>0</td>\n",
              "      <td>0</td>\n",
              "      <td>30</td>\n",
              "      <td>2</td>\n",
              "      <td>30</td>\n",
              "      <td>30</td>\n",
              "      <td>16</td>\n",
              "      <td>30</td>\n",
              "      <td>0</td>\n",
              "      <td>0</td>\n",
              "      <td>0</td>\n",
              "      <td>30</td>\n",
              "      <td>30</td>\n",
              "      <td>0</td>\n",
              "      <td>Generic</td>\n",
              "      <td>1</td>\n",
              "    </tr>\n",
              "  </tbody>\n",
              "</table>\n",
              "</div>"
            ],
            "text/plain": [
              "            id       dur proto service state  spkts  dpkts  sbytes  dbytes  \\\n",
              "257668  175337  0.000009   udp     dns   INT      2      0     114       0   \n",
              "257669  175338  0.505762   tcp       -   FIN     10      8     620     354   \n",
              "257670  175339  0.000009   udp     dns   INT      2      0     114       0   \n",
              "257671  175340  0.000009   udp     dns   INT      2      0     114       0   \n",
              "257672  175341  0.000009   udp     dns   INT      2      0     114       0   \n",
              "\n",
              "                 rate  sttl  dttl         sload        dload  sloss  dloss  \\\n",
              "257668  111111.107200   254     0  5.066666e+07     0.000000      0      0   \n",
              "257669      33.612649   254   252  8.826286e+03  4903.492188      2      1   \n",
              "257670  111111.107200   254     0  5.066666e+07     0.000000      0      0   \n",
              "257671  111111.107200   254     0  5.066666e+07     0.000000      0      0   \n",
              "257672  111111.107200   254     0  5.066666e+07     0.000000      0      0   \n",
              "\n",
              "           sinpkt    dinpkt         sjit        djit  swin       stcpb  \\\n",
              "257668   0.009000   0.00000     0.000000    0.000000     0           0   \n",
              "257669  54.400111  66.98057  3721.068786  120.177727   255  3518776216   \n",
              "257670   0.009000   0.00000     0.000000    0.000000     0           0   \n",
              "257671   0.009000   0.00000     0.000000    0.000000     0           0   \n",
              "257672   0.009000   0.00000     0.000000    0.000000     0           0   \n",
              "\n",
              "             dtcpb  dwin   tcprtt    synack    ackdat  smean  dmean  \\\n",
              "257668           0     0  0.00000  0.000000  0.000000     57      0   \n",
              "257669  3453092386   255  0.09944  0.036895  0.062545     62     44   \n",
              "257670           0     0  0.00000  0.000000  0.000000     57      0   \n",
              "257671           0     0  0.00000  0.000000  0.000000     57      0   \n",
              "257672           0     0  0.00000  0.000000  0.000000     57      0   \n",
              "\n",
              "        trans_depth  response_body_len  ct_srv_src  ct_state_ttl  ct_dst_ltm  \\\n",
              "257668            0                  0          24             2          24   \n",
              "257669            0                  0           1             1           1   \n",
              "257670            0                  0          12             2           3   \n",
              "257671            0                  0          30             2          30   \n",
              "257672            0                  0          30             2          30   \n",
              "\n",
              "        ct_src_dport_ltm  ct_dst_sport_ltm  ct_dst_src_ltm  is_ftp_login  \\\n",
              "257668                24                13              24             0   \n",
              "257669                 1                 1               2             0   \n",
              "257670                 3                 3              13             0   \n",
              "257671                30                14              30             0   \n",
              "257672                30                16              30             0   \n",
              "\n",
              "        ct_ftp_cmd  ct_flw_http_mthd  ct_src_ltm  ct_srv_dst  is_sm_ips_ports  \\\n",
              "257668           0                 0          24          24                0   \n",
              "257669           0                 0           1           1                0   \n",
              "257670           0                 0           3          12                0   \n",
              "257671           0                 0          30          30                0   \n",
              "257672           0                 0          30          30                0   \n",
              "\n",
              "       attack_cat  label  \n",
              "257668    Generic      1  \n",
              "257669  Shellcode      1  \n",
              "257670    Generic      1  \n",
              "257671    Generic      1  \n",
              "257672    Generic      1  "
            ]
          },
          "metadata": {
            "tags": []
          },
          "execution_count": 278
        }
      ]
    },
    {
      "cell_type": "code",
      "metadata": {
        "id": "nHeotpxdWzWD",
        "colab_type": "code",
        "outputId": "5ab80487-45aa-4399-d924-1177d4316a52",
        "colab": {
          "base_uri": "https://localhost:8080/",
          "height": 390
        }
      },
      "source": [
        "#Frequency distribution of classes\"\n",
        "attack_cat_dist = pd.crosstab(index=df[\"attack_cat\"],  # Make a crosstab\n",
        "                              columns=\"count\")      # Name the count column   \n",
        "attack_cat_dist"
      ],
      "execution_count": 0,
      "outputs": [
        {
          "output_type": "execute_result",
          "data": {
            "text/html": [
              "<div>\n",
              "<style scoped>\n",
              "    .dataframe tbody tr th:only-of-type {\n",
              "        vertical-align: middle;\n",
              "    }\n",
              "\n",
              "    .dataframe tbody tr th {\n",
              "        vertical-align: top;\n",
              "    }\n",
              "\n",
              "    .dataframe thead th {\n",
              "        text-align: right;\n",
              "    }\n",
              "</style>\n",
              "<table border=\"1\" class=\"dataframe\">\n",
              "  <thead>\n",
              "    <tr style=\"text-align: right;\">\n",
              "      <th>col_0</th>\n",
              "      <th>count</th>\n",
              "    </tr>\n",
              "    <tr>\n",
              "      <th>attack_cat</th>\n",
              "      <th></th>\n",
              "    </tr>\n",
              "  </thead>\n",
              "  <tbody>\n",
              "    <tr>\n",
              "      <th>Analysis</th>\n",
              "      <td>2677</td>\n",
              "    </tr>\n",
              "    <tr>\n",
              "      <th>Backdoor</th>\n",
              "      <td>2329</td>\n",
              "    </tr>\n",
              "    <tr>\n",
              "      <th>DoS</th>\n",
              "      <td>16353</td>\n",
              "    </tr>\n",
              "    <tr>\n",
              "      <th>Exploits</th>\n",
              "      <td>44525</td>\n",
              "    </tr>\n",
              "    <tr>\n",
              "      <th>Fuzzers</th>\n",
              "      <td>24246</td>\n",
              "    </tr>\n",
              "    <tr>\n",
              "      <th>Generic</th>\n",
              "      <td>58871</td>\n",
              "    </tr>\n",
              "    <tr>\n",
              "      <th>Normal</th>\n",
              "      <td>93000</td>\n",
              "    </tr>\n",
              "    <tr>\n",
              "      <th>Reconnaissance</th>\n",
              "      <td>13987</td>\n",
              "    </tr>\n",
              "    <tr>\n",
              "      <th>Shellcode</th>\n",
              "      <td>1511</td>\n",
              "    </tr>\n",
              "    <tr>\n",
              "      <th>Worms</th>\n",
              "      <td>174</td>\n",
              "    </tr>\n",
              "  </tbody>\n",
              "</table>\n",
              "</div>"
            ],
            "text/plain": [
              "col_0           count\n",
              "attack_cat           \n",
              "Analysis         2677\n",
              "Backdoor         2329\n",
              "DoS             16353\n",
              "Exploits        44525\n",
              "Fuzzers         24246\n",
              "Generic         58871\n",
              "Normal          93000\n",
              "Reconnaissance  13987\n",
              "Shellcode        1511\n",
              "Worms             174"
            ]
          },
          "metadata": {
            "tags": []
          },
          "execution_count": 279
        }
      ]
    },
    {
      "cell_type": "markdown",
      "metadata": {
        "id": "TDrCW9z9xmCR",
        "colab_type": "text"
      },
      "source": [
        "## Preprocessing"
      ]
    },
    {
      "cell_type": "code",
      "metadata": {
        "id": "5ZZ08JdnTCj-",
        "colab_type": "code",
        "outputId": "35f2d736-bd58-419f-c78c-50bfb24c3bd2",
        "colab": {
          "base_uri": "https://localhost:8080/",
          "height": 241
        }
      },
      "source": [
        "print(\"Any missing sample in dataset: \",df.isnull().values.any())\n",
        "\n",
        "catogorical_columns = ['proto', 'service', 'state', 'attack_cat']\n",
        "\n",
        "le = defaultdict(LabelEncoder)\n",
        "\n",
        "# Encoding the variable\n",
        "for col in catogorical_columns:\n",
        "    df[col] = le[col].fit_transform(df[col])\n",
        "\n",
        "df.head()"
      ],
      "execution_count": 0,
      "outputs": [
        {
          "output_type": "stream",
          "text": [
            "Any missing sample in dataset:  False\n"
          ],
          "name": "stdout"
        },
        {
          "output_type": "execute_result",
          "data": {
            "text/html": [
              "<div>\n",
              "<style scoped>\n",
              "    .dataframe tbody tr th:only-of-type {\n",
              "        vertical-align: middle;\n",
              "    }\n",
              "\n",
              "    .dataframe tbody tr th {\n",
              "        vertical-align: top;\n",
              "    }\n",
              "\n",
              "    .dataframe thead th {\n",
              "        text-align: right;\n",
              "    }\n",
              "</style>\n",
              "<table border=\"1\" class=\"dataframe\">\n",
              "  <thead>\n",
              "    <tr style=\"text-align: right;\">\n",
              "      <th></th>\n",
              "      <th>id</th>\n",
              "      <th>dur</th>\n",
              "      <th>proto</th>\n",
              "      <th>service</th>\n",
              "      <th>state</th>\n",
              "      <th>spkts</th>\n",
              "      <th>dpkts</th>\n",
              "      <th>sbytes</th>\n",
              "      <th>dbytes</th>\n",
              "      <th>rate</th>\n",
              "      <th>sttl</th>\n",
              "      <th>dttl</th>\n",
              "      <th>sload</th>\n",
              "      <th>dload</th>\n",
              "      <th>sloss</th>\n",
              "      <th>dloss</th>\n",
              "      <th>sinpkt</th>\n",
              "      <th>dinpkt</th>\n",
              "      <th>sjit</th>\n",
              "      <th>djit</th>\n",
              "      <th>swin</th>\n",
              "      <th>stcpb</th>\n",
              "      <th>dtcpb</th>\n",
              "      <th>dwin</th>\n",
              "      <th>tcprtt</th>\n",
              "      <th>synack</th>\n",
              "      <th>ackdat</th>\n",
              "      <th>smean</th>\n",
              "      <th>dmean</th>\n",
              "      <th>trans_depth</th>\n",
              "      <th>response_body_len</th>\n",
              "      <th>ct_srv_src</th>\n",
              "      <th>ct_state_ttl</th>\n",
              "      <th>ct_dst_ltm</th>\n",
              "      <th>ct_src_dport_ltm</th>\n",
              "      <th>ct_dst_sport_ltm</th>\n",
              "      <th>ct_dst_src_ltm</th>\n",
              "      <th>is_ftp_login</th>\n",
              "      <th>ct_ftp_cmd</th>\n",
              "      <th>ct_flw_http_mthd</th>\n",
              "      <th>ct_src_ltm</th>\n",
              "      <th>ct_srv_dst</th>\n",
              "      <th>is_sm_ips_ports</th>\n",
              "      <th>attack_cat</th>\n",
              "      <th>label</th>\n",
              "    </tr>\n",
              "  </thead>\n",
              "  <tbody>\n",
              "    <tr>\n",
              "      <th>0</th>\n",
              "      <td>1</td>\n",
              "      <td>0.000011</td>\n",
              "      <td>119</td>\n",
              "      <td>0</td>\n",
              "      <td>5</td>\n",
              "      <td>2</td>\n",
              "      <td>0</td>\n",
              "      <td>496</td>\n",
              "      <td>0</td>\n",
              "      <td>90909.0902</td>\n",
              "      <td>254</td>\n",
              "      <td>0</td>\n",
              "      <td>180363632.0</td>\n",
              "      <td>0.0</td>\n",
              "      <td>0</td>\n",
              "      <td>0</td>\n",
              "      <td>0.011</td>\n",
              "      <td>0.0</td>\n",
              "      <td>0.0</td>\n",
              "      <td>0.0</td>\n",
              "      <td>0</td>\n",
              "      <td>0</td>\n",
              "      <td>0</td>\n",
              "      <td>0</td>\n",
              "      <td>0.0</td>\n",
              "      <td>0.0</td>\n",
              "      <td>0.0</td>\n",
              "      <td>248</td>\n",
              "      <td>0</td>\n",
              "      <td>0</td>\n",
              "      <td>0</td>\n",
              "      <td>2</td>\n",
              "      <td>2</td>\n",
              "      <td>1</td>\n",
              "      <td>1</td>\n",
              "      <td>1</td>\n",
              "      <td>2</td>\n",
              "      <td>0</td>\n",
              "      <td>0</td>\n",
              "      <td>0</td>\n",
              "      <td>1</td>\n",
              "      <td>2</td>\n",
              "      <td>0</td>\n",
              "      <td>6</td>\n",
              "      <td>0</td>\n",
              "    </tr>\n",
              "    <tr>\n",
              "      <th>1</th>\n",
              "      <td>2</td>\n",
              "      <td>0.000008</td>\n",
              "      <td>119</td>\n",
              "      <td>0</td>\n",
              "      <td>5</td>\n",
              "      <td>2</td>\n",
              "      <td>0</td>\n",
              "      <td>1762</td>\n",
              "      <td>0</td>\n",
              "      <td>125000.0003</td>\n",
              "      <td>254</td>\n",
              "      <td>0</td>\n",
              "      <td>881000000.0</td>\n",
              "      <td>0.0</td>\n",
              "      <td>0</td>\n",
              "      <td>0</td>\n",
              "      <td>0.008</td>\n",
              "      <td>0.0</td>\n",
              "      <td>0.0</td>\n",
              "      <td>0.0</td>\n",
              "      <td>0</td>\n",
              "      <td>0</td>\n",
              "      <td>0</td>\n",
              "      <td>0</td>\n",
              "      <td>0.0</td>\n",
              "      <td>0.0</td>\n",
              "      <td>0.0</td>\n",
              "      <td>881</td>\n",
              "      <td>0</td>\n",
              "      <td>0</td>\n",
              "      <td>0</td>\n",
              "      <td>2</td>\n",
              "      <td>2</td>\n",
              "      <td>1</td>\n",
              "      <td>1</td>\n",
              "      <td>1</td>\n",
              "      <td>2</td>\n",
              "      <td>0</td>\n",
              "      <td>0</td>\n",
              "      <td>0</td>\n",
              "      <td>1</td>\n",
              "      <td>2</td>\n",
              "      <td>0</td>\n",
              "      <td>6</td>\n",
              "      <td>0</td>\n",
              "    </tr>\n",
              "    <tr>\n",
              "      <th>2</th>\n",
              "      <td>3</td>\n",
              "      <td>0.000005</td>\n",
              "      <td>119</td>\n",
              "      <td>0</td>\n",
              "      <td>5</td>\n",
              "      <td>2</td>\n",
              "      <td>0</td>\n",
              "      <td>1068</td>\n",
              "      <td>0</td>\n",
              "      <td>200000.0051</td>\n",
              "      <td>254</td>\n",
              "      <td>0</td>\n",
              "      <td>854400000.0</td>\n",
              "      <td>0.0</td>\n",
              "      <td>0</td>\n",
              "      <td>0</td>\n",
              "      <td>0.005</td>\n",
              "      <td>0.0</td>\n",
              "      <td>0.0</td>\n",
              "      <td>0.0</td>\n",
              "      <td>0</td>\n",
              "      <td>0</td>\n",
              "      <td>0</td>\n",
              "      <td>0</td>\n",
              "      <td>0.0</td>\n",
              "      <td>0.0</td>\n",
              "      <td>0.0</td>\n",
              "      <td>534</td>\n",
              "      <td>0</td>\n",
              "      <td>0</td>\n",
              "      <td>0</td>\n",
              "      <td>3</td>\n",
              "      <td>2</td>\n",
              "      <td>1</td>\n",
              "      <td>1</td>\n",
              "      <td>1</td>\n",
              "      <td>3</td>\n",
              "      <td>0</td>\n",
              "      <td>0</td>\n",
              "      <td>0</td>\n",
              "      <td>1</td>\n",
              "      <td>3</td>\n",
              "      <td>0</td>\n",
              "      <td>6</td>\n",
              "      <td>0</td>\n",
              "    </tr>\n",
              "    <tr>\n",
              "      <th>3</th>\n",
              "      <td>4</td>\n",
              "      <td>0.000006</td>\n",
              "      <td>119</td>\n",
              "      <td>0</td>\n",
              "      <td>5</td>\n",
              "      <td>2</td>\n",
              "      <td>0</td>\n",
              "      <td>900</td>\n",
              "      <td>0</td>\n",
              "      <td>166666.6608</td>\n",
              "      <td>254</td>\n",
              "      <td>0</td>\n",
              "      <td>600000000.0</td>\n",
              "      <td>0.0</td>\n",
              "      <td>0</td>\n",
              "      <td>0</td>\n",
              "      <td>0.006</td>\n",
              "      <td>0.0</td>\n",
              "      <td>0.0</td>\n",
              "      <td>0.0</td>\n",
              "      <td>0</td>\n",
              "      <td>0</td>\n",
              "      <td>0</td>\n",
              "      <td>0</td>\n",
              "      <td>0.0</td>\n",
              "      <td>0.0</td>\n",
              "      <td>0.0</td>\n",
              "      <td>450</td>\n",
              "      <td>0</td>\n",
              "      <td>0</td>\n",
              "      <td>0</td>\n",
              "      <td>3</td>\n",
              "      <td>2</td>\n",
              "      <td>2</td>\n",
              "      <td>2</td>\n",
              "      <td>1</td>\n",
              "      <td>3</td>\n",
              "      <td>0</td>\n",
              "      <td>0</td>\n",
              "      <td>0</td>\n",
              "      <td>2</td>\n",
              "      <td>3</td>\n",
              "      <td>0</td>\n",
              "      <td>6</td>\n",
              "      <td>0</td>\n",
              "    </tr>\n",
              "    <tr>\n",
              "      <th>4</th>\n",
              "      <td>5</td>\n",
              "      <td>0.000010</td>\n",
              "      <td>119</td>\n",
              "      <td>0</td>\n",
              "      <td>5</td>\n",
              "      <td>2</td>\n",
              "      <td>0</td>\n",
              "      <td>2126</td>\n",
              "      <td>0</td>\n",
              "      <td>100000.0025</td>\n",
              "      <td>254</td>\n",
              "      <td>0</td>\n",
              "      <td>850400000.0</td>\n",
              "      <td>0.0</td>\n",
              "      <td>0</td>\n",
              "      <td>0</td>\n",
              "      <td>0.010</td>\n",
              "      <td>0.0</td>\n",
              "      <td>0.0</td>\n",
              "      <td>0.0</td>\n",
              "      <td>0</td>\n",
              "      <td>0</td>\n",
              "      <td>0</td>\n",
              "      <td>0</td>\n",
              "      <td>0.0</td>\n",
              "      <td>0.0</td>\n",
              "      <td>0.0</td>\n",
              "      <td>1063</td>\n",
              "      <td>0</td>\n",
              "      <td>0</td>\n",
              "      <td>0</td>\n",
              "      <td>3</td>\n",
              "      <td>2</td>\n",
              "      <td>2</td>\n",
              "      <td>2</td>\n",
              "      <td>1</td>\n",
              "      <td>3</td>\n",
              "      <td>0</td>\n",
              "      <td>0</td>\n",
              "      <td>0</td>\n",
              "      <td>2</td>\n",
              "      <td>3</td>\n",
              "      <td>0</td>\n",
              "      <td>6</td>\n",
              "      <td>0</td>\n",
              "    </tr>\n",
              "  </tbody>\n",
              "</table>\n",
              "</div>"
            ],
            "text/plain": [
              "   id       dur  proto  service  state  spkts  dpkts  sbytes  dbytes  \\\n",
              "0   1  0.000011    119        0      5      2      0     496       0   \n",
              "1   2  0.000008    119        0      5      2      0    1762       0   \n",
              "2   3  0.000005    119        0      5      2      0    1068       0   \n",
              "3   4  0.000006    119        0      5      2      0     900       0   \n",
              "4   5  0.000010    119        0      5      2      0    2126       0   \n",
              "\n",
              "          rate  sttl  dttl        sload  dload  sloss  dloss  sinpkt  dinpkt  \\\n",
              "0   90909.0902   254     0  180363632.0    0.0      0      0   0.011     0.0   \n",
              "1  125000.0003   254     0  881000000.0    0.0      0      0   0.008     0.0   \n",
              "2  200000.0051   254     0  854400000.0    0.0      0      0   0.005     0.0   \n",
              "3  166666.6608   254     0  600000000.0    0.0      0      0   0.006     0.0   \n",
              "4  100000.0025   254     0  850400000.0    0.0      0      0   0.010     0.0   \n",
              "\n",
              "   sjit  djit  swin  stcpb  dtcpb  dwin  tcprtt  synack  ackdat  smean  dmean  \\\n",
              "0   0.0   0.0     0      0      0     0     0.0     0.0     0.0    248      0   \n",
              "1   0.0   0.0     0      0      0     0     0.0     0.0     0.0    881      0   \n",
              "2   0.0   0.0     0      0      0     0     0.0     0.0     0.0    534      0   \n",
              "3   0.0   0.0     0      0      0     0     0.0     0.0     0.0    450      0   \n",
              "4   0.0   0.0     0      0      0     0     0.0     0.0     0.0   1063      0   \n",
              "\n",
              "   trans_depth  response_body_len  ct_srv_src  ct_state_ttl  ct_dst_ltm  \\\n",
              "0            0                  0           2             2           1   \n",
              "1            0                  0           2             2           1   \n",
              "2            0                  0           3             2           1   \n",
              "3            0                  0           3             2           2   \n",
              "4            0                  0           3             2           2   \n",
              "\n",
              "   ct_src_dport_ltm  ct_dst_sport_ltm  ct_dst_src_ltm  is_ftp_login  \\\n",
              "0                 1                 1               2             0   \n",
              "1                 1                 1               2             0   \n",
              "2                 1                 1               3             0   \n",
              "3                 2                 1               3             0   \n",
              "4                 2                 1               3             0   \n",
              "\n",
              "   ct_ftp_cmd  ct_flw_http_mthd  ct_src_ltm  ct_srv_dst  is_sm_ips_ports  \\\n",
              "0           0                 0           1           2                0   \n",
              "1           0                 0           1           2                0   \n",
              "2           0                 0           1           3                0   \n",
              "3           0                 0           2           3                0   \n",
              "4           0                 0           2           3                0   \n",
              "\n",
              "   attack_cat  label  \n",
              "0           6      0  \n",
              "1           6      0  \n",
              "2           6      0  \n",
              "3           6      0  \n",
              "4           6      0  "
            ]
          },
          "metadata": {
            "tags": []
          },
          "execution_count": 280
        }
      ]
    },
    {
      "cell_type": "code",
      "metadata": {
        "id": "gmrHR2akV9GU",
        "colab_type": "code",
        "colab": {}
      },
      "source": [
        "x = df.loc[:,'dur':'is_sm_ips_ports']\n",
        "y = df[['label']]\n",
        "#y = df[['attack_cat']]"
      ],
      "execution_count": 0,
      "outputs": []
    },
    {
      "cell_type": "code",
      "metadata": {
        "id": "J8WlJ_jTUO0a",
        "colab_type": "code",
        "colab": {}
      },
      "source": [
        "scaler = MinMaxScaler(feature_range=(0, 1))\n",
        "x = pd.DataFrame(scaler.fit_transform(x),columns = x.columns)"
      ],
      "execution_count": 0,
      "outputs": []
    },
    {
      "cell_type": "code",
      "metadata": {
        "id": "dQPba3ppbWYj",
        "colab_type": "code",
        "outputId": "474e6837-840f-4299-af1e-96050e35dfcb",
        "colab": {
          "base_uri": "https://localhost:8080/",
          "height": 326
        }
      },
      "source": [
        "\n",
        "\n",
        "x.head()\n",
        "x.shape\n",
        "y.shape"
      ],
      "execution_count": 0,
      "outputs": [
        {
          "output_type": "execute_result",
          "data": {
            "text/html": [
              "<div>\n",
              "<style scoped>\n",
              "    .dataframe tbody tr th:only-of-type {\n",
              "        vertical-align: middle;\n",
              "    }\n",
              "\n",
              "    .dataframe tbody tr th {\n",
              "        vertical-align: top;\n",
              "    }\n",
              "\n",
              "    .dataframe thead th {\n",
              "        text-align: right;\n",
              "    }\n",
              "</style>\n",
              "<table border=\"1\" class=\"dataframe\">\n",
              "  <thead>\n",
              "    <tr style=\"text-align: right;\">\n",
              "      <th></th>\n",
              "      <th>dur</th>\n",
              "      <th>proto</th>\n",
              "      <th>service</th>\n",
              "      <th>state</th>\n",
              "      <th>spkts</th>\n",
              "      <th>dpkts</th>\n",
              "      <th>sbytes</th>\n",
              "      <th>dbytes</th>\n",
              "      <th>rate</th>\n",
              "      <th>sttl</th>\n",
              "      <th>dttl</th>\n",
              "      <th>sload</th>\n",
              "      <th>dload</th>\n",
              "      <th>sloss</th>\n",
              "      <th>dloss</th>\n",
              "      <th>sinpkt</th>\n",
              "      <th>dinpkt</th>\n",
              "      <th>sjit</th>\n",
              "      <th>djit</th>\n",
              "      <th>swin</th>\n",
              "      <th>stcpb</th>\n",
              "      <th>dtcpb</th>\n",
              "      <th>dwin</th>\n",
              "      <th>tcprtt</th>\n",
              "      <th>synack</th>\n",
              "      <th>ackdat</th>\n",
              "      <th>smean</th>\n",
              "      <th>dmean</th>\n",
              "      <th>trans_depth</th>\n",
              "      <th>response_body_len</th>\n",
              "      <th>ct_srv_src</th>\n",
              "      <th>ct_state_ttl</th>\n",
              "      <th>ct_dst_ltm</th>\n",
              "      <th>ct_src_dport_ltm</th>\n",
              "      <th>ct_dst_sport_ltm</th>\n",
              "      <th>ct_dst_src_ltm</th>\n",
              "      <th>is_ftp_login</th>\n",
              "      <th>ct_ftp_cmd</th>\n",
              "      <th>ct_flw_http_mthd</th>\n",
              "      <th>ct_src_ltm</th>\n",
              "      <th>ct_srv_dst</th>\n",
              "      <th>is_sm_ips_ports</th>\n",
              "    </tr>\n",
              "  </thead>\n",
              "  <tbody>\n",
              "    <tr>\n",
              "      <th>0</th>\n",
              "      <td>1.833334e-07</td>\n",
              "      <td>0.901515</td>\n",
              "      <td>0.0</td>\n",
              "      <td>0.5</td>\n",
              "      <td>0.000094</td>\n",
              "      <td>0.0</td>\n",
              "      <td>0.000033</td>\n",
              "      <td>0.0</td>\n",
              "      <td>0.090909</td>\n",
              "      <td>0.996078</td>\n",
              "      <td>0.0</td>\n",
              "      <td>0.030121</td>\n",
              "      <td>0.0</td>\n",
              "      <td>0.0</td>\n",
              "      <td>0.0</td>\n",
              "      <td>1.303758e-07</td>\n",
              "      <td>0.0</td>\n",
              "      <td>0.0</td>\n",
              "      <td>0.0</td>\n",
              "      <td>0.0</td>\n",
              "      <td>0.0</td>\n",
              "      <td>0.0</td>\n",
              "      <td>0.0</td>\n",
              "      <td>0.0</td>\n",
              "      <td>0.0</td>\n",
              "      <td>0.0</td>\n",
              "      <td>0.151351</td>\n",
              "      <td>0.0</td>\n",
              "      <td>0.0</td>\n",
              "      <td>0.0</td>\n",
              "      <td>0.016129</td>\n",
              "      <td>0.333333</td>\n",
              "      <td>0.000000</td>\n",
              "      <td>0.000000</td>\n",
              "      <td>0.0</td>\n",
              "      <td>0.015625</td>\n",
              "      <td>0.0</td>\n",
              "      <td>0.0</td>\n",
              "      <td>0.0</td>\n",
              "      <td>0.000000</td>\n",
              "      <td>0.016393</td>\n",
              "      <td>0.0</td>\n",
              "    </tr>\n",
              "    <tr>\n",
              "      <th>1</th>\n",
              "      <td>1.333334e-07</td>\n",
              "      <td>0.901515</td>\n",
              "      <td>0.0</td>\n",
              "      <td>0.5</td>\n",
              "      <td>0.000094</td>\n",
              "      <td>0.0</td>\n",
              "      <td>0.000121</td>\n",
              "      <td>0.0</td>\n",
              "      <td>0.125000</td>\n",
              "      <td>0.996078</td>\n",
              "      <td>0.0</td>\n",
              "      <td>0.147128</td>\n",
              "      <td>0.0</td>\n",
              "      <td>0.0</td>\n",
              "      <td>0.0</td>\n",
              "      <td>9.481875e-08</td>\n",
              "      <td>0.0</td>\n",
              "      <td>0.0</td>\n",
              "      <td>0.0</td>\n",
              "      <td>0.0</td>\n",
              "      <td>0.0</td>\n",
              "      <td>0.0</td>\n",
              "      <td>0.0</td>\n",
              "      <td>0.0</td>\n",
              "      <td>0.0</td>\n",
              "      <td>0.0</td>\n",
              "      <td>0.579054</td>\n",
              "      <td>0.0</td>\n",
              "      <td>0.0</td>\n",
              "      <td>0.0</td>\n",
              "      <td>0.016129</td>\n",
              "      <td>0.333333</td>\n",
              "      <td>0.000000</td>\n",
              "      <td>0.000000</td>\n",
              "      <td>0.0</td>\n",
              "      <td>0.015625</td>\n",
              "      <td>0.0</td>\n",
              "      <td>0.0</td>\n",
              "      <td>0.0</td>\n",
              "      <td>0.000000</td>\n",
              "      <td>0.016393</td>\n",
              "      <td>0.0</td>\n",
              "    </tr>\n",
              "    <tr>\n",
              "      <th>2</th>\n",
              "      <td>8.333335e-08</td>\n",
              "      <td>0.901515</td>\n",
              "      <td>0.0</td>\n",
              "      <td>0.5</td>\n",
              "      <td>0.000094</td>\n",
              "      <td>0.0</td>\n",
              "      <td>0.000073</td>\n",
              "      <td>0.0</td>\n",
              "      <td>0.200000</td>\n",
              "      <td>0.996078</td>\n",
              "      <td>0.0</td>\n",
              "      <td>0.142685</td>\n",
              "      <td>0.0</td>\n",
              "      <td>0.0</td>\n",
              "      <td>0.0</td>\n",
              "      <td>5.926172e-08</td>\n",
              "      <td>0.0</td>\n",
              "      <td>0.0</td>\n",
              "      <td>0.0</td>\n",
              "      <td>0.0</td>\n",
              "      <td>0.0</td>\n",
              "      <td>0.0</td>\n",
              "      <td>0.0</td>\n",
              "      <td>0.0</td>\n",
              "      <td>0.0</td>\n",
              "      <td>0.0</td>\n",
              "      <td>0.344595</td>\n",
              "      <td>0.0</td>\n",
              "      <td>0.0</td>\n",
              "      <td>0.0</td>\n",
              "      <td>0.032258</td>\n",
              "      <td>0.333333</td>\n",
              "      <td>0.000000</td>\n",
              "      <td>0.000000</td>\n",
              "      <td>0.0</td>\n",
              "      <td>0.031250</td>\n",
              "      <td>0.0</td>\n",
              "      <td>0.0</td>\n",
              "      <td>0.0</td>\n",
              "      <td>0.000000</td>\n",
              "      <td>0.032787</td>\n",
              "      <td>0.0</td>\n",
              "    </tr>\n",
              "    <tr>\n",
              "      <th>3</th>\n",
              "      <td>1.000000e-07</td>\n",
              "      <td>0.901515</td>\n",
              "      <td>0.0</td>\n",
              "      <td>0.5</td>\n",
              "      <td>0.000094</td>\n",
              "      <td>0.0</td>\n",
              "      <td>0.000061</td>\n",
              "      <td>0.0</td>\n",
              "      <td>0.166667</td>\n",
              "      <td>0.996078</td>\n",
              "      <td>0.0</td>\n",
              "      <td>0.100200</td>\n",
              "      <td>0.0</td>\n",
              "      <td>0.0</td>\n",
              "      <td>0.0</td>\n",
              "      <td>7.111406e-08</td>\n",
              "      <td>0.0</td>\n",
              "      <td>0.0</td>\n",
              "      <td>0.0</td>\n",
              "      <td>0.0</td>\n",
              "      <td>0.0</td>\n",
              "      <td>0.0</td>\n",
              "      <td>0.0</td>\n",
              "      <td>0.0</td>\n",
              "      <td>0.0</td>\n",
              "      <td>0.0</td>\n",
              "      <td>0.287838</td>\n",
              "      <td>0.0</td>\n",
              "      <td>0.0</td>\n",
              "      <td>0.0</td>\n",
              "      <td>0.032258</td>\n",
              "      <td>0.333333</td>\n",
              "      <td>0.017241</td>\n",
              "      <td>0.017241</td>\n",
              "      <td>0.0</td>\n",
              "      <td>0.031250</td>\n",
              "      <td>0.0</td>\n",
              "      <td>0.0</td>\n",
              "      <td>0.0</td>\n",
              "      <td>0.016949</td>\n",
              "      <td>0.032787</td>\n",
              "      <td>0.0</td>\n",
              "    </tr>\n",
              "    <tr>\n",
              "      <th>4</th>\n",
              "      <td>1.666667e-07</td>\n",
              "      <td>0.901515</td>\n",
              "      <td>0.0</td>\n",
              "      <td>0.5</td>\n",
              "      <td>0.000094</td>\n",
              "      <td>0.0</td>\n",
              "      <td>0.000146</td>\n",
              "      <td>0.0</td>\n",
              "      <td>0.100000</td>\n",
              "      <td>0.996078</td>\n",
              "      <td>0.0</td>\n",
              "      <td>0.142017</td>\n",
              "      <td>0.0</td>\n",
              "      <td>0.0</td>\n",
              "      <td>0.0</td>\n",
              "      <td>1.185234e-07</td>\n",
              "      <td>0.0</td>\n",
              "      <td>0.0</td>\n",
              "      <td>0.0</td>\n",
              "      <td>0.0</td>\n",
              "      <td>0.0</td>\n",
              "      <td>0.0</td>\n",
              "      <td>0.0</td>\n",
              "      <td>0.0</td>\n",
              "      <td>0.0</td>\n",
              "      <td>0.0</td>\n",
              "      <td>0.702027</td>\n",
              "      <td>0.0</td>\n",
              "      <td>0.0</td>\n",
              "      <td>0.0</td>\n",
              "      <td>0.032258</td>\n",
              "      <td>0.333333</td>\n",
              "      <td>0.017241</td>\n",
              "      <td>0.017241</td>\n",
              "      <td>0.0</td>\n",
              "      <td>0.031250</td>\n",
              "      <td>0.0</td>\n",
              "      <td>0.0</td>\n",
              "      <td>0.0</td>\n",
              "      <td>0.016949</td>\n",
              "      <td>0.032787</td>\n",
              "      <td>0.0</td>\n",
              "    </tr>\n",
              "  </tbody>\n",
              "</table>\n",
              "</div>"
            ],
            "text/plain": [
              "            dur     proto  service  state     spkts  dpkts    sbytes  dbytes  \\\n",
              "0  1.833334e-07  0.901515      0.0    0.5  0.000094    0.0  0.000033     0.0   \n",
              "1  1.333334e-07  0.901515      0.0    0.5  0.000094    0.0  0.000121     0.0   \n",
              "2  8.333335e-08  0.901515      0.0    0.5  0.000094    0.0  0.000073     0.0   \n",
              "3  1.000000e-07  0.901515      0.0    0.5  0.000094    0.0  0.000061     0.0   \n",
              "4  1.666667e-07  0.901515      0.0    0.5  0.000094    0.0  0.000146     0.0   \n",
              "\n",
              "       rate      sttl  dttl     sload  dload  sloss  dloss        sinpkt  \\\n",
              "0  0.090909  0.996078   0.0  0.030121    0.0    0.0    0.0  1.303758e-07   \n",
              "1  0.125000  0.996078   0.0  0.147128    0.0    0.0    0.0  9.481875e-08   \n",
              "2  0.200000  0.996078   0.0  0.142685    0.0    0.0    0.0  5.926172e-08   \n",
              "3  0.166667  0.996078   0.0  0.100200    0.0    0.0    0.0  7.111406e-08   \n",
              "4  0.100000  0.996078   0.0  0.142017    0.0    0.0    0.0  1.185234e-07   \n",
              "\n",
              "   dinpkt  sjit  djit  swin  stcpb  dtcpb  dwin  tcprtt  synack  ackdat  \\\n",
              "0     0.0   0.0   0.0   0.0    0.0    0.0   0.0     0.0     0.0     0.0   \n",
              "1     0.0   0.0   0.0   0.0    0.0    0.0   0.0     0.0     0.0     0.0   \n",
              "2     0.0   0.0   0.0   0.0    0.0    0.0   0.0     0.0     0.0     0.0   \n",
              "3     0.0   0.0   0.0   0.0    0.0    0.0   0.0     0.0     0.0     0.0   \n",
              "4     0.0   0.0   0.0   0.0    0.0    0.0   0.0     0.0     0.0     0.0   \n",
              "\n",
              "      smean  dmean  trans_depth  response_body_len  ct_srv_src  ct_state_ttl  \\\n",
              "0  0.151351    0.0          0.0                0.0    0.016129      0.333333   \n",
              "1  0.579054    0.0          0.0                0.0    0.016129      0.333333   \n",
              "2  0.344595    0.0          0.0                0.0    0.032258      0.333333   \n",
              "3  0.287838    0.0          0.0                0.0    0.032258      0.333333   \n",
              "4  0.702027    0.0          0.0                0.0    0.032258      0.333333   \n",
              "\n",
              "   ct_dst_ltm  ct_src_dport_ltm  ct_dst_sport_ltm  ct_dst_src_ltm  \\\n",
              "0    0.000000          0.000000               0.0        0.015625   \n",
              "1    0.000000          0.000000               0.0        0.015625   \n",
              "2    0.000000          0.000000               0.0        0.031250   \n",
              "3    0.017241          0.017241               0.0        0.031250   \n",
              "4    0.017241          0.017241               0.0        0.031250   \n",
              "\n",
              "   is_ftp_login  ct_ftp_cmd  ct_flw_http_mthd  ct_src_ltm  ct_srv_dst  \\\n",
              "0           0.0         0.0               0.0    0.000000    0.016393   \n",
              "1           0.0         0.0               0.0    0.000000    0.016393   \n",
              "2           0.0         0.0               0.0    0.000000    0.032787   \n",
              "3           0.0         0.0               0.0    0.016949    0.032787   \n",
              "4           0.0         0.0               0.0    0.016949    0.032787   \n",
              "\n",
              "   is_sm_ips_ports  \n",
              "0              0.0  \n",
              "1              0.0  \n",
              "2              0.0  \n",
              "3              0.0  \n",
              "4              0.0  "
            ]
          },
          "metadata": {
            "tags": []
          },
          "execution_count": 283
        },
        {
          "output_type": "execute_result",
          "data": {
            "text/plain": [
              "(257673, 42)"
            ]
          },
          "metadata": {
            "tags": []
          },
          "execution_count": 283
        },
        {
          "output_type": "execute_result",
          "data": {
            "text/plain": [
              "(257673, 1)"
            ]
          },
          "metadata": {
            "tags": []
          },
          "execution_count": 283
        }
      ]
    },
    {
      "cell_type": "code",
      "metadata": {
        "id": "buVSgKcxWb3p",
        "colab_type": "code",
        "colab": {}
      },
      "source": [
        "\n",
        "train_x_df, test_x_df, train_y_df, test_y_df = train_test_split(x, y, test_size = 0.3, random_state = 20)"
      ],
      "execution_count": 0,
      "outputs": []
    },
    {
      "cell_type": "code",
      "metadata": {
        "id": "yj5l9gqrndQZ",
        "colab_type": "code",
        "colab": {}
      },
      "source": [
        "train_x = train_x_df.to_numpy(dtype=np.float32)\n",
        "train_y = train_y_df.to_numpy(dtype=np.int32)\n",
        "test_x = test_x_df.to_numpy(dtype=np.float32)\n",
        "test_y = test_y_df.to_numpy(dtype=np.int32)"
      ],
      "execution_count": 0,
      "outputs": []
    },
    {
      "cell_type": "code",
      "metadata": {
        "id": "J1iPs6VbdhS3",
        "colab_type": "code",
        "outputId": "bc0a1fb3-f933-435e-9371-3c149376e771",
        "colab": {
          "base_uri": "https://localhost:8080/",
          "height": 34
        }
      },
      "source": [
        "train_x.shape\n",
        "test_y.shape"
      ],
      "execution_count": 0,
      "outputs": [
        {
          "output_type": "execute_result",
          "data": {
            "text/plain": [
              "(180371, 42)"
            ]
          },
          "metadata": {
            "tags": []
          },
          "execution_count": 286
        },
        {
          "output_type": "execute_result",
          "data": {
            "text/plain": [
              "(77302, 1)"
            ]
          },
          "metadata": {
            "tags": []
          },
          "execution_count": 286
        }
      ]
    },
    {
      "cell_type": "code",
      "metadata": {
        "id": "NvgBb9Q1hRFg",
        "colab_type": "code",
        "colab": {}
      },
      "source": [
        "np.random.seed(20)\n",
        "#tf.set_random_seed(20)"
      ],
      "execution_count": 0,
      "outputs": []
    },
    {
      "cell_type": "code",
      "metadata": {
        "id": "xiMFgm3mnXis",
        "colab_type": "code",
        "colab": {}
      },
      "source": [
        "def get_batch(x_vals, y_vals, batch_size):\n",
        "    rand_indices = np.random.choice(len(x_vals), size=batch_size)\n",
        "    rand_x = x_vals[rand_indices]\n",
        "    rand_y = y_vals[rand_indices]\n",
        "    return rand_x, rand_y"
      ],
      "execution_count": 0,
      "outputs": []
    },
    {
      "cell_type": "markdown",
      "metadata": {
        "id": "Tow9XOGBgh9S",
        "colab_type": "text"
      },
      "source": [
        "## Logistic Regression"
      ]
    },
    {
      "cell_type": "code",
      "metadata": {
        "id": "tf3CnP1dU-_l",
        "colab_type": "code",
        "colab": {}
      },
      "source": [
        "ops.reset_default_graph()\n",
        "sess = tf.Session()"
      ],
      "execution_count": 0,
      "outputs": []
    },
    {
      "cell_type": "code",
      "metadata": {
        "id": "gp_COA4aOOe7",
        "colab_type": "code",
        "colab": {}
      },
      "source": [
        "batch_size = 500\n",
        "learning_rate = 0.02\n",
        "epochs = 10000\n",
        "\n",
        "disp_iteration = 500\n",
        "\n",
        "n_features = train_x.shape[1]\n"
      ],
      "execution_count": 0,
      "outputs": []
    },
    {
      "cell_type": "code",
      "metadata": {
        "id": "NIxDjuksh3AT",
        "colab_type": "code",
        "colab": {}
      },
      "source": [
        "x_data = tf.placeholder(shape = [None, n_features], dtype=tf.float32)\n",
        "y_target = tf.placeholder(shape = [None, 1], dtype= tf.float32)"
      ],
      "execution_count": 0,
      "outputs": []
    },
    {
      "cell_type": "code",
      "metadata": {
        "id": "_GuQTCwKiUkl",
        "colab_type": "code",
        "colab": {}
      },
      "source": [
        "A = tf.Variable(tf.random_normal(shape= [n_features, 1]))\n",
        "b = tf.Variable(tf.random_normal(shape = [1, 1]))"
      ],
      "execution_count": 0,
      "outputs": []
    },
    {
      "cell_type": "code",
      "metadata": {
        "id": "6ENn-MLEk3WX",
        "colab_type": "code",
        "colab": {}
      },
      "source": [
        "model_output = tf.add( tf.matmul( x_data, A), b)"
      ],
      "execution_count": 0,
      "outputs": []
    },
    {
      "cell_type": "code",
      "metadata": {
        "id": "wSqif_ZHk8w5",
        "colab_type": "code",
        "colab": {}
      },
      "source": [
        "loss = tf.reduce_mean(tf.nn.sigmoid_cross_entropy_with_logits(logits=model_output, labels=y_target))"
      ],
      "execution_count": 0,
      "outputs": []
    },
    {
      "cell_type": "code",
      "metadata": {
        "id": "3ovxAwftlFVC",
        "colab_type": "code",
        "colab": {}
      },
      "source": [
        "optimizer = tf.train.GradientDescentOptimizer(learning_rate)\n",
        "train_step = optimizer.minimize(loss)"
      ],
      "execution_count": 0,
      "outputs": []
    },
    {
      "cell_type": "code",
      "metadata": {
        "id": "5u8vZ3nMlrc1",
        "colab_type": "code",
        "colab": {}
      },
      "source": [
        "sess.run(tf.global_variables_initializer())"
      ],
      "execution_count": 0,
      "outputs": []
    },
    {
      "cell_type": "code",
      "metadata": {
        "id": "X1x8DAfmlx45",
        "colab_type": "code",
        "colab": {}
      },
      "source": [
        "prediction = tf.round(tf.sigmoid(model_output))\n",
        "predictions_correct = tf.cast( tf.equal(prediction, y_target), tf.float32)\n",
        "accuracy = tf.reduce_mean(predictions_correct)"
      ],
      "execution_count": 0,
      "outputs": []
    },
    {
      "cell_type": "code",
      "metadata": {
        "id": "FIasB_comczw",
        "colab_type": "code",
        "outputId": "75a50fbd-99db-4c91-9f26-8ef2c71aa254",
        "colab": {
          "base_uri": "https://localhost:8080/",
          "height": 357
        }
      },
      "source": [
        "loss_vec = []\n",
        "train_acc = []\n",
        "test_acc = []\n",
        "for epoch in range(epochs):\n",
        "    rand_x, rand_y = get_batch(train_x, train_y, batch_size)\n",
        "\n",
        "    start_time = time.time()\n",
        "    sess.run(train_step, feed_dict= { x_data: rand_x, y_target: rand_y})\n",
        "    end_time = time.time()\n",
        "\n",
        "    if (epoch + 1)%disp_iteration == 0:\n",
        "        cur_loss = sess.run(loss, feed_dict={x_data: rand_x, y_target: rand_y})\n",
        "        loss_vec.append(cur_loss) \n",
        "        cur_train_acc = sess.run(accuracy, feed_dict={x_data: train_x, y_target: train_y})\n",
        "        train_acc.append(cur_train_acc)\n",
        "        cur_test_acc = sess.run(accuracy, feed_dict={x_data: test_x, y_target: test_y})\n",
        "        test_acc.append(cur_test_acc)\n",
        "        print('epoch %d ( %.6f ) Loss = %.6f Train accuracy: %.6f Test accuracy: %.6f' % (epoch+1, end_time - start_time, cur_loss, cur_train_acc, cur_test_acc))\n",
        " "
      ],
      "execution_count": 0,
      "outputs": [
        {
          "output_type": "stream",
          "text": [
            "epoch 500 ( 0.001409 ) Loss = 0.607570 Train accuracy: 0.671571 Test accuracy: 0.670617\n",
            "epoch 1000 ( 0.001477 ) Loss = 0.516252 Train accuracy: 0.738356 Test accuracy: 0.736216\n",
            "epoch 1500 ( 0.001531 ) Loss = 0.487943 Train accuracy: 0.760205 Test accuracy: 0.758130\n",
            "epoch 2000 ( 0.001509 ) Loss = 0.434914 Train accuracy: 0.765727 Test accuracy: 0.764133\n",
            "epoch 2500 ( 0.001490 ) Loss = 0.415878 Train accuracy: 0.772109 Test accuracy: 0.769890\n",
            "epoch 3000 ( 0.001547 ) Loss = 0.423203 Train accuracy: 0.825848 Test accuracy: 0.825063\n",
            "epoch 3500 ( 0.001457 ) Loss = 0.373808 Train accuracy: 0.829002 Test accuracy: 0.827960\n",
            "epoch 4000 ( 0.001321 ) Loss = 0.396221 Train accuracy: 0.830516 Test accuracy: 0.829461\n",
            "epoch 4500 ( 0.001446 ) Loss = 0.372549 Train accuracy: 0.844354 Test accuracy: 0.843885\n",
            "epoch 5000 ( 0.001270 ) Loss = 0.370861 Train accuracy: 0.845679 Test accuracy: 0.844998\n",
            "epoch 5500 ( 0.001538 ) Loss = 0.344650 Train accuracy: 0.847847 Test accuracy: 0.847106\n",
            "epoch 6000 ( 0.001395 ) Loss = 0.350154 Train accuracy: 0.848778 Test accuracy: 0.847908\n",
            "epoch 6500 ( 0.001268 ) Loss = 0.368816 Train accuracy: 0.849704 Test accuracy: 0.848788\n",
            "epoch 7000 ( 0.001634 ) Loss = 0.363006 Train accuracy: 0.851112 Test accuracy: 0.850418\n",
            "epoch 7500 ( 0.001347 ) Loss = 0.326606 Train accuracy: 0.853386 Test accuracy: 0.853005\n",
            "epoch 8000 ( 0.001066 ) Loss = 0.320042 Train accuracy: 0.857477 Test accuracy: 0.856899\n",
            "epoch 8500 ( 0.001369 ) Loss = 0.327585 Train accuracy: 0.857466 Test accuracy: 0.856757\n",
            "epoch 9000 ( 0.001557 ) Loss = 0.359709 Train accuracy: 0.860233 Test accuracy: 0.859202\n",
            "epoch 9500 ( 0.001248 ) Loss = 0.334976 Train accuracy: 0.860637 Test accuracy: 0.859525\n",
            "epoch 10000 ( 0.001476 ) Loss = 0.313707 Train accuracy: 0.862057 Test accuracy: 0.861284\n"
          ],
          "name": "stdout"
        }
      ]
    },
    {
      "cell_type": "code",
      "metadata": {
        "id": "Xf8KNYlTFP9f",
        "colab_type": "code",
        "outputId": "0c60e0b8-6123-404e-916b-65c8ab81c059",
        "colab": {
          "base_uri": "https://localhost:8080/",
          "height": 641
        }
      },
      "source": [
        "plt.plot(loss_vec, 'k-')\n",
        "plt.title('Cross Entropy Loss per Generation')\n",
        "plt.xlabel('Generation')\n",
        "plt.ylabel('Cross Entropy Loss')\n",
        "plt.show()\n",
        "\n",
        "# Plot train and test accuracy\n",
        "plt.plot(train_acc, 'k-', label='Train Set Accuracy')\n",
        "plt.plot(test_acc, 'r--', label='Test Set Accuracy')\n",
        "plt.title('Train and Test Accuracy')\n",
        "plt.xlabel('Generation')\n",
        "plt.ylabel('Accuracy')\n",
        "plt.legend(loc='lower right')\n",
        "plt.show()"
      ],
      "execution_count": 0,
      "outputs": [
        {
          "output_type": "execute_result",
          "data": {
            "text/plain": [
              "[<matplotlib.lines.Line2D at 0x7f58670f7f28>]"
            ]
          },
          "metadata": {
            "tags": []
          },
          "execution_count": 299
        },
        {
          "output_type": "execute_result",
          "data": {
            "text/plain": [
              "Text(0.5, 1.0, 'Cross Entropy Loss per Generation')"
            ]
          },
          "metadata": {
            "tags": []
          },
          "execution_count": 299
        },
        {
          "output_type": "execute_result",
          "data": {
            "text/plain": [
              "Text(0.5, 0, 'Generation')"
            ]
          },
          "metadata": {
            "tags": []
          },
          "execution_count": 299
        },
        {
          "output_type": "execute_result",
          "data": {
            "text/plain": [
              "Text(0, 0.5, 'Cross Entropy Loss')"
            ]
          },
          "metadata": {
            "tags": []
          },
          "execution_count": 299
        },
        {
          "output_type": "display_data",
          "data": {
            "image/png": "[encoded data removed]",
            "text/plain": [
              "<Figure size 432x288 with 1 Axes>"
            ]
          },
          "metadata": {
            "tags": []
          }
        },
        {
          "output_type": "execute_result",
          "data": {
            "text/plain": [
              "[<matplotlib.lines.Line2D at 0x7f586471fc18>]"
            ]
          },
          "metadata": {
            "tags": []
          },
          "execution_count": 299
        },
        {
          "output_type": "execute_result",
          "data": {
            "text/plain": [
              "[<matplotlib.lines.Line2D at 0x7f58637eaf28>]"
            ]
          },
          "metadata": {
            "tags": []
          },
          "execution_count": 299
        },
        {
          "output_type": "execute_result",
          "data": {
            "text/plain": [
              "Text(0.5, 1.0, 'Train and Test Accuracy')"
            ]
          },
          "metadata": {
            "tags": []
          },
          "execution_count": 299
        },
        {
          "output_type": "execute_result",
          "data": {
            "text/plain": [
              "Text(0.5, 0, 'Generation')"
            ]
          },
          "metadata": {
            "tags": []
          },
          "execution_count": 299
        },
        {
          "output_type": "execute_result",
          "data": {
            "text/plain": [
              "Text(0, 0.5, 'Accuracy')"
            ]
          },
          "metadata": {
            "tags": []
          },
          "execution_count": 299
        },
        {
          "output_type": "execute_result",
          "data": {
            "text/plain": [
              "<matplotlib.legend.Legend at 0x7f5862381160>"
            ]
          },
          "metadata": {
            "tags": []
          },
          "execution_count": 299
        },
        {
          "output_type": "display_data",
          "data": {
            "image/png": "[encoded data removed]",
            "text/plain": [
              "<Figure size 432x288 with 1 Axes>"
            ]
          },
          "metadata": {
            "tags": []
          }
        }
      ]
    },
    {
      "cell_type": "code",
      "metadata": {
        "id": "kbYsseCUtUbP",
        "colab_type": "code",
        "colab": {}
      },
      "source": [
        "sess.close()"
      ],
      "execution_count": 0,
      "outputs": []
    },
    {
      "cell_type": "markdown",
      "metadata": {
        "id": "fSYeNcinGMg5",
        "colab_type": "text"
      },
      "source": [
        "## SVM"
      ]
    },
    {
      "cell_type": "code",
      "metadata": {
        "id": "MF7XKCPPRCzS",
        "colab_type": "code",
        "colab": {}
      },
      "source": [
        "ops.reset_default_graph()"
      ],
      "execution_count": 0,
      "outputs": []
    },
    {
      "cell_type": "code",
      "metadata": {
        "id": "YDh5rMDTylSq",
        "colab_type": "code",
        "colab": {}
      },
      "source": [
        "epochs = 10000\n",
        "batch_size = 500"
      ],
      "execution_count": 0,
      "outputs": []
    },
    {
      "cell_type": "code",
      "metadata": {
        "id": "9EZWquUZUSlY",
        "colab_type": "code",
        "outputId": "d1caa79f-cf3e-4685-d39d-f94066ca8683",
        "colab": {
          "base_uri": "https://localhost:8080/",
          "height": 1000
        }
      },
      "source": [
        "X = train_x\n",
        "Y = train_y\n",
        "example_id = np.array(['%d' % i for i in range(len(Y))])\n",
        "\n",
        "x_column_name = 'x'\n",
        "example_id_column_name = 'example_id'\n",
        "\n",
        "train_input_fn = tf.estimator.inputs.numpy_input_fn(\n",
        "    x={x_column_name: X, example_id_column_name: example_id},\n",
        "    y=Y,\n",
        "    num_epochs= None,\n",
        "    shuffle=True)\n",
        "\n",
        "svm = tf.contrib.learn.SVM(\n",
        "    example_id_column=example_id_column_name,\n",
        "    feature_columns=(tf.contrib.layers.real_valued_column(\n",
        "        column_name=x_column_name, dimension= train_x.shape[1]),),\n",
        "    l2_regularization=0.1\n",
        "    )\n",
        "\n",
        "svm.fit(input_fn=train_input_fn, steps = epochs)\n"
      ],
      "execution_count": 0,
      "outputs": [
        {
          "output_type": "stream",
          "text": [
            "WARNING:tensorflow:From /usr/local/lib/python3.6/dist-packages/tensorflow/contrib/learn/python/learn/estimators/svm.py:153: binary_svm_head (from tensorflow.contrib.learn.python.learn.estimators.head) is deprecated and will be removed in a future version.\n",
            "Instructions for updating:\n",
            "Please switch to tf.contrib.estimator.*_head.\n",
            "WARNING:tensorflow:From /usr/local/lib/python3.6/dist-packages/tensorflow/contrib/learn/python/learn/estimators/estimator.py:1179: BaseEstimator.__init__ (from tensorflow.contrib.learn.python.learn.estimators.estimator) is deprecated and will be removed in a future version.\n",
            "Instructions for updating:\n",
            "Please replace uses of any Estimator from tf.contrib.learn with an Estimator from tf.estimator.*\n",
            "WARNING:tensorflow:From /usr/local/lib/python3.6/dist-packages/tensorflow/contrib/learn/python/learn/estimators/estimator.py:427: RunConfig.__init__ (from tensorflow.contrib.learn.python.learn.estimators.run_config) is deprecated and will be removed in a future version.\n",
            "Instructions for updating:\n",
            "When switching to tf.estimator.Estimator, use tf.estimator.RunConfig instead.\n",
            "INFO:tensorflow:Using default config.\n",
            "WARNING:tensorflow:Using temporary folder as model directory: /tmp/tmpcjy653ea\n",
            "INFO:tensorflow:Using config: {'_task_type': None, '_task_id': 0, '_cluster_spec': <tensorflow.python.training.server_lib.ClusterSpec object at 0x7f58622dc518>, '_master': '', '_num_ps_replicas': 0, '_num_worker_replicas': 0, '_environment': 'local', '_is_chief': True, '_evaluation_master': '', '_train_distribute': None, '_eval_distribute': None, '_experimental_max_worker_delay_secs': None, '_device_fn': None, '_tf_config': gpu_options {\n",
            "  per_process_gpu_memory_fraction: 1.0\n",
            "}\n",
            ", '_tf_random_seed': None, '_save_summary_steps': 100, '_save_checkpoints_secs': 600, '_log_step_count_steps': 100, '_protocol': None, '_session_config': None, '_save_checkpoints_steps': None, '_keep_checkpoint_max': 5, '_keep_checkpoint_every_n_hours': 10000, '_model_dir': '/tmp/tmpcjy653ea'}\n",
            "WARNING:tensorflow:From /usr/local/lib/python3.6/dist-packages/tensorflow_estimator/python/estimator/inputs/queues/feeding_queue_runner.py:62: QueueRunner.__init__ (from tensorflow.python.training.queue_runner_impl) is deprecated and will be removed in a future version.\n",
            "Instructions for updating:\n",
            "To construct input pipelines, use the `tf.data` module.\n",
            "WARNING:tensorflow:From /usr/local/lib/python3.6/dist-packages/tensorflow_estimator/python/estimator/inputs/queues/feeding_functions.py:500: add_queue_runner (from tensorflow.python.training.queue_runner_impl) is deprecated and will be removed in a future version.\n",
            "Instructions for updating:\n",
            "To construct input pipelines, use the `tf.data` module.\n",
            "WARNING:tensorflow:From /usr/local/lib/python3.6/dist-packages/tensorflow/python/training/training_util.py:236: Variable.initialized_value (from tensorflow.python.ops.variables) is deprecated and will be removed in a future version.\n",
            "Instructions for updating:\n",
            "Use Variable.read_value. Variables in 2.X are initialized automatically both in eager and graph (inside tf.defun) contexts.\n",
            "INFO:tensorflow:Created variable linear/bias_weight:0, with device=\n",
            "WARNING:tensorflow:From /usr/local/lib/python3.6/dist-packages/tensorflow/contrib/linear_optimizer/python/sdca_optimizer.py:276: SdcaModel.__init__ (from tensorflow.contrib.linear_optimizer.python.ops.sdca_ops) is deprecated and will be removed in a future version.\n",
            "Instructions for updating:\n",
            "This class is deprecated. To UPDATE or USE linear optimizers, please check its latest version in core: tensorflow_estimator/python/estimator/canned/linear_optimizer/.\n",
            "WARNING:tensorflow:From /usr/local/lib/python3.6/dist-packages/tensorflow/contrib/linear_optimizer/python/ops/sdca_ops.py:169: ShardedMutableDenseHashTable.__init__ (from tensorflow.contrib.linear_optimizer.python.ops.sharded_mutable_dense_hashtable) is deprecated and will be removed in a future version.\n",
            "Instructions for updating:\n",
            "This class is deprecated. To UPDATE or USE linear optimizers, please check its latest version in core: tensorflow_estimator/python/estimator/canned/linear_optimizer/.\n",
            "WARNING:tensorflow:From /usr/local/lib/python3.6/dist-packages/tensorflow/contrib/learn/python/learn/estimators/head.py:678: ModelFnOps.__new__ (from tensorflow.contrib.learn.python.learn.estimators.model_fn) is deprecated and will be removed in a future version.\n",
            "Instructions for updating:\n",
            "When switching to tf.estimator.Estimator, use tf.estimator.EstimatorSpec. You can use the `estimator_spec` method to create an equivalent one.\n",
            "INFO:tensorflow:Create CheckpointSaverHook.\n",
            "INFO:tensorflow:Graph was finalized.\n",
            "INFO:tensorflow:Running local_init_op.\n",
            "INFO:tensorflow:Done running local_init_op.\n",
            "WARNING:tensorflow:From /usr/local/lib/python3.6/dist-packages/tensorflow/python/training/monitored_session.py:875: start_queue_runners (from tensorflow.python.training.queue_runner_impl) is deprecated and will be removed in a future version.\n",
            "Instructions for updating:\n",
            "To construct input pipelines, use the `tf.data` module.\n",
            "INFO:tensorflow:Saving checkpoints for 0 into /tmp/tmpcjy653ea/model.ckpt.\n",
            "INFO:tensorflow:loss = 1.0, step = 0\n",
            "INFO:tensorflow:global_step/sec: 202.485\n",
            "INFO:tensorflow:loss = 0.62498033, step = 100 (0.496 sec)\n",
            "INFO:tensorflow:global_step/sec: 208.224\n",
            "INFO:tensorflow:loss = 0.2625956, step = 200 (0.481 sec)\n",
            "INFO:tensorflow:global_step/sec: 220.719\n",
            "INFO:tensorflow:loss = 0.37184703, step = 300 (0.457 sec)\n",
            "INFO:tensorflow:global_step/sec: 218.675\n",
            "INFO:tensorflow:loss = 0.37028894, step = 400 (0.457 sec)\n",
            "INFO:tensorflow:global_step/sec: 219.707\n",
            "INFO:tensorflow:loss = 0.7330934, step = 500 (0.457 sec)\n",
            "INFO:tensorflow:global_step/sec: 221.884\n",
            "INFO:tensorflow:loss = 0.58128, step = 600 (0.449 sec)\n",
            "INFO:tensorflow:global_step/sec: 220.339\n",
            "INFO:tensorflow:loss = 0.25033414, step = 700 (0.451 sec)\n",
            "INFO:tensorflow:global_step/sec: 220.214\n",
            "INFO:tensorflow:loss = 0.54918313, step = 800 (0.455 sec)\n",
            "INFO:tensorflow:global_step/sec: 219.319\n",
            "INFO:tensorflow:loss = 0.67184746, step = 900 (0.456 sec)\n",
            "INFO:tensorflow:global_step/sec: 219.216\n",
            "INFO:tensorflow:loss = 0.2327741, step = 1000 (0.457 sec)\n",
            "INFO:tensorflow:global_step/sec: 230.097\n",
            "INFO:tensorflow:loss = 0.2730737, step = 1100 (0.438 sec)\n",
            "INFO:tensorflow:global_step/sec: 214.301\n",
            "INFO:tensorflow:loss = 0.3446538, step = 1200 (0.464 sec)\n",
            "INFO:tensorflow:global_step/sec: 224.547\n",
            "INFO:tensorflow:loss = 0.4638018, step = 1300 (0.442 sec)\n",
            "INFO:tensorflow:global_step/sec: 217.056\n",
            "INFO:tensorflow:loss = 0.47062802, step = 1400 (0.462 sec)\n",
            "INFO:tensorflow:global_step/sec: 226.436\n",
            "INFO:tensorflow:loss = 0.20571503, step = 1500 (0.441 sec)\n",
            "INFO:tensorflow:global_step/sec: 228.248\n",
            "INFO:tensorflow:loss = 0.28440106, step = 1600 (0.438 sec)\n",
            "INFO:tensorflow:global_step/sec: 231.599\n",
            "INFO:tensorflow:loss = 0.47445154, step = 1700 (0.435 sec)\n",
            "INFO:tensorflow:global_step/sec: 239.233\n",
            "INFO:tensorflow:loss = 0.2836073, step = 1800 (0.416 sec)\n",
            "INFO:tensorflow:global_step/sec: 243.643\n",
            "INFO:tensorflow:loss = 0.3721258, step = 1900 (0.410 sec)\n",
            "INFO:tensorflow:global_step/sec: 245.067\n",
            "INFO:tensorflow:loss = 0.21335357, step = 2000 (0.406 sec)\n",
            "INFO:tensorflow:global_step/sec: 237.874\n",
            "INFO:tensorflow:loss = 0.25695872, step = 2100 (0.419 sec)\n",
            "INFO:tensorflow:global_step/sec: 232.555\n",
            "INFO:tensorflow:loss = 0.37357664, step = 2200 (0.433 sec)\n",
            "INFO:tensorflow:global_step/sec: 233.804\n",
            "INFO:tensorflow:loss = 0.33456272, step = 2300 (0.425 sec)\n",
            "INFO:tensorflow:global_step/sec: 240.485\n",
            "INFO:tensorflow:loss = 0.29198614, step = 2400 (0.420 sec)\n",
            "INFO:tensorflow:global_step/sec: 237.186\n",
            "INFO:tensorflow:loss = 0.8218087, step = 2500 (0.421 sec)\n",
            "INFO:tensorflow:global_step/sec: 220.942\n",
            "INFO:tensorflow:loss = 0.36061963, step = 2600 (0.451 sec)\n",
            "INFO:tensorflow:global_step/sec: 222.681\n",
            "INFO:tensorflow:loss = 0.3121448, step = 2700 (0.448 sec)\n",
            "INFO:tensorflow:global_step/sec: 232.754\n",
            "INFO:tensorflow:loss = 0.17110525, step = 2800 (0.433 sec)\n",
            "INFO:tensorflow:global_step/sec: 224.824\n",
            "INFO:tensorflow:loss = 0.40729672, step = 2900 (0.445 sec)\n",
            "INFO:tensorflow:global_step/sec: 226.768\n",
            "INFO:tensorflow:loss = 0.21240163, step = 3000 (0.438 sec)\n",
            "INFO:tensorflow:global_step/sec: 223.664\n",
            "INFO:tensorflow:loss = 0.19886011, step = 3100 (0.448 sec)\n",
            "WARNING:tensorflow:It seems that global step (tf.train.get_global_step) has not been increased. Current value (could be stable): 3149 vs previous value: 3149. You could increase the global step by passing tf.train.get_global_step() to Optimizer.apply_gradients or Optimizer.minimize.\n",
            "INFO:tensorflow:global_step/sec: 232.159\n",
            "INFO:tensorflow:loss = 0.14299518, step = 3200 (0.429 sec)\n",
            "INFO:tensorflow:global_step/sec: 237.883\n",
            "INFO:tensorflow:loss = 0.22417271, step = 3300 (0.425 sec)\n",
            "INFO:tensorflow:global_step/sec: 242.491\n",
            "INFO:tensorflow:loss = 0.19672537, step = 3400 (0.408 sec)\n",
            "INFO:tensorflow:global_step/sec: 227.128\n",
            "INFO:tensorflow:loss = 0.20158002, step = 3500 (0.440 sec)\n",
            "INFO:tensorflow:global_step/sec: 226.462\n",
            "INFO:tensorflow:loss = 0.2907084, step = 3600 (0.444 sec)\n",
            "INFO:tensorflow:global_step/sec: 231.6\n",
            "INFO:tensorflow:loss = 0.24375907, step = 3700 (0.432 sec)\n",
            "INFO:tensorflow:global_step/sec: 221.959\n",
            "INFO:tensorflow:loss = 0.14392906, step = 3800 (0.448 sec)\n",
            "INFO:tensorflow:global_step/sec: 225.658\n",
            "INFO:tensorflow:loss = 0.20106888, step = 3900 (0.442 sec)\n",
            "INFO:tensorflow:global_step/sec: 239.375\n",
            "INFO:tensorflow:loss = 0.2363467, step = 4000 (0.419 sec)\n",
            "INFO:tensorflow:global_step/sec: 243.971\n",
            "INFO:tensorflow:loss = 0.28411767, step = 4100 (0.414 sec)\n",
            "INFO:tensorflow:global_step/sec: 233.536\n",
            "INFO:tensorflow:loss = 0.33810303, step = 4200 (0.424 sec)\n",
            "INFO:tensorflow:global_step/sec: 221.007\n",
            "INFO:tensorflow:loss = 0.26538467, step = 4300 (0.452 sec)\n",
            "INFO:tensorflow:global_step/sec: 237.251\n",
            "INFO:tensorflow:loss = 0.44969094, step = 4400 (0.422 sec)\n",
            "INFO:tensorflow:global_step/sec: 224.547\n",
            "INFO:tensorflow:loss = 0.19761938, step = 4500 (0.445 sec)\n",
            "INFO:tensorflow:global_step/sec: 228.406\n",
            "INFO:tensorflow:loss = 0.28254172, step = 4600 (0.440 sec)\n",
            "INFO:tensorflow:global_step/sec: 223.93\n",
            "INFO:tensorflow:loss = 0.22178288, step = 4700 (0.447 sec)\n",
            "INFO:tensorflow:global_step/sec: 245.366\n",
            "INFO:tensorflow:loss = 0.30341262, step = 4800 (0.409 sec)\n",
            "INFO:tensorflow:global_step/sec: 242.742\n",
            "INFO:tensorflow:loss = 0.2615586, step = 4900 (0.413 sec)\n",
            "INFO:tensorflow:global_step/sec: 235.447\n",
            "INFO:tensorflow:loss = 0.31624883, step = 5000 (0.421 sec)\n",
            "INFO:tensorflow:global_step/sec: 246.763\n",
            "INFO:tensorflow:loss = 0.3373484, step = 5100 (0.406 sec)\n",
            "INFO:tensorflow:global_step/sec: 224.954\n",
            "INFO:tensorflow:loss = 0.5267215, step = 5200 (0.447 sec)\n",
            "INFO:tensorflow:global_step/sec: 227.029\n",
            "INFO:tensorflow:loss = 0.30357388, step = 5300 (0.438 sec)\n",
            "INFO:tensorflow:global_step/sec: 228.939\n",
            "INFO:tensorflow:loss = 0.26213485, step = 5400 (0.436 sec)\n",
            "INFO:tensorflow:global_step/sec: 209.773\n",
            "INFO:tensorflow:loss = 0.21579288, step = 5500 (0.477 sec)\n",
            "INFO:tensorflow:global_step/sec: 223.676\n",
            "INFO:tensorflow:loss = 0.2532649, step = 5600 (0.447 sec)\n",
            "INFO:tensorflow:global_step/sec: 225.809\n",
            "INFO:tensorflow:loss = 0.21830231, step = 5700 (0.443 sec)\n",
            "INFO:tensorflow:global_step/sec: 230.144\n",
            "INFO:tensorflow:loss = 0.22495736, step = 5800 (0.436 sec)\n",
            "INFO:tensorflow:global_step/sec: 231.826\n",
            "INFO:tensorflow:loss = 0.37373427, step = 5900 (0.433 sec)\n",
            "INFO:tensorflow:global_step/sec: 226.428\n",
            "INFO:tensorflow:loss = 0.24027991, step = 6000 (0.440 sec)\n",
            "INFO:tensorflow:global_step/sec: 236.938\n",
            "INFO:tensorflow:loss = 0.11360658, step = 6100 (0.423 sec)\n",
            "INFO:tensorflow:global_step/sec: 236.725\n",
            "INFO:tensorflow:loss = 0.23818418, step = 6200 (0.422 sec)\n",
            "INFO:tensorflow:global_step/sec: 243.169\n",
            "INFO:tensorflow:loss = 0.31458825, step = 6300 (0.409 sec)\n",
            "INFO:tensorflow:global_step/sec: 238.82\n",
            "INFO:tensorflow:loss = 0.24963158, step = 6400 (0.417 sec)\n",
            "INFO:tensorflow:global_step/sec: 227.682\n",
            "INFO:tensorflow:loss = 0.3346589, step = 6500 (0.440 sec)\n",
            "INFO:tensorflow:global_step/sec: 223.759\n",
            "INFO:tensorflow:loss = 0.3289892, step = 6600 (0.449 sec)\n",
            "INFO:tensorflow:global_step/sec: 231.174\n",
            "INFO:tensorflow:loss = 0.28421777, step = 6700 (0.432 sec)\n",
            "INFO:tensorflow:global_step/sec: 227.114\n",
            "INFO:tensorflow:loss = 0.21709199, step = 6800 (0.439 sec)\n",
            "INFO:tensorflow:global_step/sec: 230.921\n",
            "INFO:tensorflow:loss = 0.16139694, step = 6900 (0.435 sec)\n",
            "INFO:tensorflow:global_step/sec: 240.94\n",
            "INFO:tensorflow:loss = 0.2419102, step = 7000 (0.414 sec)\n",
            "INFO:tensorflow:global_step/sec: 218.468\n",
            "INFO:tensorflow:loss = 0.23835179, step = 7100 (0.456 sec)\n",
            "INFO:tensorflow:global_step/sec: 237.641\n",
            "INFO:tensorflow:loss = 0.25543815, step = 7200 (0.421 sec)\n",
            "INFO:tensorflow:global_step/sec: 234.513\n",
            "INFO:tensorflow:loss = 0.2294457, step = 7300 (0.427 sec)\n",
            "INFO:tensorflow:global_step/sec: 244.447\n",
            "INFO:tensorflow:loss = 0.18060994, step = 7400 (0.410 sec)\n",
            "INFO:tensorflow:global_step/sec: 239.861\n",
            "INFO:tensorflow:loss = 0.16259898, step = 7500 (0.416 sec)\n",
            "INFO:tensorflow:global_step/sec: 233.027\n",
            "INFO:tensorflow:loss = 0.27600718, step = 7600 (0.429 sec)\n",
            "INFO:tensorflow:global_step/sec: 245.401\n",
            "INFO:tensorflow:loss = 0.28964293, step = 7700 (0.409 sec)\n",
            "INFO:tensorflow:global_step/sec: 233.89\n",
            "INFO:tensorflow:loss = 0.2775439, step = 7800 (0.429 sec)\n",
            "INFO:tensorflow:global_step/sec: 238.213\n",
            "INFO:tensorflow:loss = 0.26047277, step = 7900 (0.417 sec)\n",
            "INFO:tensorflow:global_step/sec: 223.143\n",
            "INFO:tensorflow:loss = 0.29825726, step = 8000 (0.447 sec)\n",
            "INFO:tensorflow:global_step/sec: 232.163\n",
            "INFO:tensorflow:loss = 0.2977935, step = 8100 (0.431 sec)\n",
            "INFO:tensorflow:global_step/sec: 221.782\n",
            "INFO:tensorflow:loss = 0.29811683, step = 8200 (0.451 sec)\n",
            "INFO:tensorflow:global_step/sec: 229.927\n",
            "INFO:tensorflow:loss = 0.23700824, step = 8300 (0.439 sec)\n",
            "INFO:tensorflow:global_step/sec: 232.653\n",
            "INFO:tensorflow:loss = 0.23175552, step = 8400 (0.428 sec)\n",
            "INFO:tensorflow:global_step/sec: 227.12\n",
            "INFO:tensorflow:loss = 0.2530652, step = 8500 (0.442 sec)\n",
            "INFO:tensorflow:global_step/sec: 233.567\n",
            "INFO:tensorflow:loss = 0.19360039, step = 8600 (0.429 sec)\n",
            "INFO:tensorflow:global_step/sec: 234.219\n",
            "INFO:tensorflow:loss = 0.2075477, step = 8700 (0.424 sec)\n",
            "INFO:tensorflow:global_step/sec: 238.607\n",
            "INFO:tensorflow:loss = 0.19879329, step = 8800 (0.420 sec)\n",
            "INFO:tensorflow:global_step/sec: 245.125\n",
            "INFO:tensorflow:loss = 0.15208656, step = 8900 (0.410 sec)\n",
            "INFO:tensorflow:global_step/sec: 221.321\n",
            "INFO:tensorflow:loss = 0.23394936, step = 9000 (0.451 sec)\n",
            "INFO:tensorflow:global_step/sec: 233.587\n",
            "INFO:tensorflow:loss = 0.23594844, step = 9100 (0.427 sec)\n",
            "INFO:tensorflow:global_step/sec: 235.023\n",
            "INFO:tensorflow:loss = 0.25689375, step = 9200 (0.423 sec)\n",
            "INFO:tensorflow:global_step/sec: 230.293\n",
            "INFO:tensorflow:loss = 0.30323327, step = 9300 (0.439 sec)\n",
            "INFO:tensorflow:global_step/sec: 227.972\n",
            "INFO:tensorflow:loss = 0.21315598, step = 9400 (0.435 sec)\n",
            "INFO:tensorflow:global_step/sec: 231.838\n",
            "INFO:tensorflow:loss = 0.24114186, step = 9500 (0.432 sec)\n",
            "INFO:tensorflow:global_step/sec: 242.085\n",
            "INFO:tensorflow:loss = 0.26518235, step = 9600 (0.413 sec)\n",
            "INFO:tensorflow:global_step/sec: 229.817\n",
            "INFO:tensorflow:loss = 0.25993833, step = 9700 (0.437 sec)\n",
            "INFO:tensorflow:global_step/sec: 232.478\n",
            "INFO:tensorflow:loss = 0.19365676, step = 9800 (0.429 sec)\n",
            "INFO:tensorflow:global_step/sec: 221.51\n",
            "INFO:tensorflow:loss = 0.289407, step = 9900 (0.451 sec)\n",
            "INFO:tensorflow:Saving checkpoints for 10000 into /tmp/tmpcjy653ea/model.ckpt.\n",
            "INFO:tensorflow:Loss for final step: 0.1733316.\n"
          ],
          "name": "stdout"
        },
        {
          "output_type": "execute_result",
          "data": {
            "text/plain": [
              "SVM(params={'head': <tensorflow.contrib.learn.python.learn.estimators.head._BinarySvmHead object at 0x7f58622dc630>, 'feature_columns': (_RealValuedColumn(column_name='x', dimension=42, default_value=None, dtype=tf.float32, normalizer=None),), 'optimizer': <tensorflow.contrib.linear_optimizer.python.sdca_optimizer.SDCAOptimizer object at 0x7f58622dc5f8>, 'weight_column_name': None, 'update_weights_hook': <tensorflow.contrib.learn.python.learn.estimators.linear._SdcaUpdateWeightsHook object at 0x7f58622dc940>})"
            ]
          },
          "metadata": {
            "tags": []
          },
          "execution_count": 303
        }
      ]
    },
    {
      "cell_type": "code",
      "metadata": {
        "id": "KqeQEiR80RI-",
        "colab_type": "code",
        "colab": {}
      },
      "source": [
        "\n",
        "test_input_fn = tf.estimator.inputs.numpy_input_fn(\n",
        "    x={x_column_name: X, example_id_column_name: example_id},\n",
        "    y=Y,\n",
        "    num_epochs=1,\n",
        "    shuffle=False)\n"
      ],
      "execution_count": 0,
      "outputs": []
    },
    {
      "cell_type": "code",
      "metadata": {
        "id": "m8Q_O6oGzZoG",
        "colab_type": "code",
        "outputId": "2fea6f49-ce13-4691-cbef-76a610522383",
        "colab": {
          "base_uri": "https://localhost:8080/",
          "height": 173
        }
      },
      "source": [
        "predictions =svm.predict(input_fn=test_input_fn)"
      ],
      "execution_count": 0,
      "outputs": [
        {
          "output_type": "stream",
          "text": [
            "INFO:tensorflow:Created variable linear/bias_weight:0, with device=\n",
            "INFO:tensorflow:Graph was finalized.\n",
            "WARNING:tensorflow:From /usr/local/lib/python3.6/dist-packages/tensorflow/python/training/saver.py:1276: checkpoint_exists (from tensorflow.python.training.checkpoint_management) is deprecated and will be removed in a future version.\n",
            "Instructions for updating:\n",
            "Use standard file APIs to check for files with this prefix.\n",
            "INFO:tensorflow:Restoring parameters from /tmp/tmpcjy653ea/model.ckpt-10000\n",
            "INFO:tensorflow:Running local_init_op.\n",
            "INFO:tensorflow:Done running local_init_op.\n"
          ],
          "name": "stdout"
        }
      ]
    },
    {
      "cell_type": "code",
      "metadata": {
        "id": "7s0TbgaxUhIj",
        "colab_type": "code",
        "outputId": "19233c46-4ffd-42b7-eaf2-7fd51e86e88d",
        "colab": {
          "base_uri": "https://localhost:8080/",
          "height": 187
        }
      },
      "source": [
        "test_example_id = np.array(['%d' % i for i in range(len(test_y))])\n",
        "test_input_fn = tf.estimator.inputs.numpy_input_fn(\n",
        "    x={\n",
        "        x_column_name: test_x,\n",
        "        example_id_column_name: test_example_id\n",
        "       },\n",
        "    y=test_y,\n",
        "    num_epochs= 1,\n",
        "    shuffle=False)\n",
        "\n",
        "\n",
        "eval_results = svm.evaluate(input_fn= test_input_fn )\n",
        "print(\"\")\n",
        "eval_results"
      ],
      "execution_count": 0,
      "outputs": [
        {
          "output_type": "stream",
          "text": [
            "INFO:tensorflow:Created variable linear/bias_weight:0, with device=\n",
            "INFO:tensorflow:Starting evaluation at 2019-10-23T15:30:29Z\n",
            "INFO:tensorflow:Graph was finalized.\n",
            "INFO:tensorflow:Restoring parameters from /tmp/tmpcjy653ea/model.ckpt-10000\n",
            "INFO:tensorflow:Running local_init_op.\n",
            "INFO:tensorflow:Done running local_init_op.\n",
            "INFO:tensorflow:Finished evaluation at 2019-10-23-15:30:30\n",
            "INFO:tensorflow:Saving dict for global step 10000: accuracy = 0.8951903, global_step = 10000, loss = 0.22908354\n",
            "\n"
          ],
          "name": "stdout"
        },
        {
          "output_type": "execute_result",
          "data": {
            "text/plain": [
              "{'accuracy': 0.8951903, 'global_step': 10000, 'loss': 0.22908354}"
            ]
          },
          "metadata": {
            "tags": []
          },
          "execution_count": 306
        }
      ]
    },
    {
      "cell_type": "markdown",
      "metadata": {
        "id": "41zXKUGeONW0",
        "colab_type": "text"
      },
      "source": [
        "## Random Forest"
      ]
    },
    {
      "cell_type": "code",
      "metadata": {
        "id": "ptGVQF--RJe0",
        "colab_type": "code",
        "colab": {}
      },
      "source": [
        "ops.reset_default_graph()"
      ],
      "execution_count": 0,
      "outputs": []
    },
    {
      "cell_type": "code",
      "metadata": {
        "id": "bq6nnIPPOM5Y",
        "colab_type": "code",
        "colab": {}
      },
      "source": [
        "num_steps = 1000\n",
        "batch_size = 1000\n",
        "num_classes = 2 \n",
        "num_features = train_x.shape[1]\n",
        "num_trees = 20\n",
        "max_nodes = 500"
      ],
      "execution_count": 0,
      "outputs": []
    },
    {
      "cell_type": "code",
      "metadata": {
        "id": "ymRKMSLDOQb1",
        "colab_type": "code",
        "colab": {}
      },
      "source": [
        "# Input and Target data\n",
        "X = tf.placeholder(tf.float32, shape=[None, num_features])\n",
        "# For random forest, labels must be integers (the class id)\n",
        "Y = tf.placeholder(tf.int32, shape=[None, 1])"
      ],
      "execution_count": 0,
      "outputs": []
    },
    {
      "cell_type": "code",
      "metadata": {
        "id": "esIE7ba2Oo1Q",
        "colab_type": "code",
        "colab": {}
      },
      "source": [
        "from tensorflow.contrib.tensor_forest.python import tensor_forest"
      ],
      "execution_count": 0,
      "outputs": []
    },
    {
      "cell_type": "code",
      "metadata": {
        "id": "OXpCkAlLOgNi",
        "colab_type": "code",
        "colab": {}
      },
      "source": [
        "# Random Forest Parameters\n",
        "hparams = tensor_forest.ForestHParams(num_classes=num_classes,\n",
        "                                      num_features=num_features,\n",
        "                                      num_trees=num_trees,\n",
        "                                      max_nodes=max_nodes).fill()"
      ],
      "execution_count": 0,
      "outputs": []
    },
    {
      "cell_type": "code",
      "metadata": {
        "id": "TOWTM6Y1OqxL",
        "colab_type": "code",
        "outputId": "af512ac2-8c3b-4f61-e4ed-807f6cdb3151",
        "colab": {
          "base_uri": "https://localhost:8080/",
          "height": 71
        }
      },
      "source": [
        "# Build the Random Forest\n",
        "forest_graph = tensor_forest.RandomForestGraphs(hparams)\n",
        "# Get training graph and loss\n",
        "train_op = forest_graph.training_graph(X, Y)\n",
        "loss_op = forest_graph.training_loss(X, Y)"
      ],
      "execution_count": 0,
      "outputs": [
        {
          "output_type": "stream",
          "text": [
            "INFO:tensorflow:Constructing forest with params = \n",
            "INFO:tensorflow:{'num_trees': 20, 'max_nodes': 500, 'bagging_fraction': 1.0, 'feature_bagging_fraction': 1.0, 'num_splits_to_consider': 10, 'max_fertile_nodes': 0, 'split_after_samples': 250, 'valid_leaf_threshold': 1, 'dominate_method': 'bootstrap', 'dominate_fraction': 0.99, 'model_name': 'all_dense', 'split_finish_name': 'basic', 'split_pruning_name': 'none', 'collate_examples': False, 'checkpoint_stats': False, 'use_running_stats_method': False, 'initialize_average_splits': False, 'inference_tree_paths': False, 'param_file': None, 'split_name': 'less_or_equal', 'early_finish_check_every_samples': 0, 'prune_every_samples': 0, 'num_classes': 2, 'num_features': 42, 'bagged_num_features': 42, 'bagged_features': None, 'regression': False, 'num_outputs': 1, 'num_output_columns': 3, 'base_random_seed': 0, 'leaf_model_type': 0, 'stats_model_type': 0, 'finish_type': 0, 'pruning_type': 0, 'split_type': 0}\n"
          ],
          "name": "stdout"
        }
      ]
    },
    {
      "cell_type": "code",
      "metadata": {
        "id": "iGx3mSfCOytx",
        "colab_type": "code",
        "outputId": "c180072d-bfab-4e9b-b4ac-df50517f3ac0",
        "colab": {
          "base_uri": "https://localhost:8080/",
          "height": 88
        }
      },
      "source": [
        "# Measure the accuracy\n",
        "infer_op, _, _ = forest_graph.inference_graph(X)\n",
        "correct_prediction = tf.equal(tf.argmax(infer_op, 1), tf.cast(Y, tf.int64))\n",
        "accuracy_op = tf.reduce_mean(tf.cast(correct_prediction, tf.float32))"
      ],
      "execution_count": 0,
      "outputs": [
        {
          "output_type": "stream",
          "text": [
            "WARNING:tensorflow:From /usr/local/lib/python3.6/dist-packages/tensorflow/contrib/tensor_forest/python/tensor_forest.py:529: div (from tensorflow.python.ops.math_ops) is deprecated and will be removed in a future version.\n",
            "Instructions for updating:\n",
            "Deprecated in favor of operator or tf.math.divide.\n"
          ],
          "name": "stdout"
        }
      ]
    },
    {
      "cell_type": "code",
      "metadata": {
        "id": "QoCin8MlO8ua",
        "colab_type": "code",
        "colab": {}
      },
      "source": [
        "from tensorflow.python.ops import resources"
      ],
      "execution_count": 0,
      "outputs": []
    },
    {
      "cell_type": "code",
      "metadata": {
        "id": "G0aRDVUgO0Ds",
        "colab_type": "code",
        "colab": {}
      },
      "source": [
        "# Initialize the variables (i.e. assign their default value) and forest resources\n",
        "init_vars = tf.group(tf.global_variables_initializer(),\n",
        "    resources.initialize_resources(resources.shared_resources()))\n"
      ],
      "execution_count": 0,
      "outputs": []
    },
    {
      "cell_type": "code",
      "metadata": {
        "id": "r4iNALH1O_Dt",
        "colab_type": "code",
        "colab": {}
      },
      "source": [
        "# Start TensorFlow session\n",
        "sess = tf.Session()\n",
        "\n",
        "# Run the initializer\n",
        "sess.run(init_vars)\n"
      ],
      "execution_count": 0,
      "outputs": []
    },
    {
      "cell_type": "code",
      "metadata": {
        "id": "TQZUWpApPEuh",
        "colab_type": "code",
        "outputId": "8611079a-937a-4830-94e4-21332548f085",
        "colab": {
          "base_uri": "https://localhost:8080/",
          "height": 68
        }
      },
      "source": [
        "# Training\n",
        "for i in range(1, num_steps + 1):\n",
        "    # Prepare Data\n",
        "    # Get the next batch of MNIST data (only images are needed, not labels)\n",
        "    batch_x, batch_y = get_batch(train_x, train_y, batch_size)\n",
        "    _, l = sess.run([train_op, loss_op], feed_dict={X: batch_x, Y: batch_y})\n",
        "    if i % 500 == 0 or i == 1 or i==num_steps:\n",
        "        acc = sess.run(accuracy_op, feed_dict={X: batch_x, Y: batch_y})\n",
        "        print('Step %i, Loss: %f, Acc: %f' % (i, l, acc))"
      ],
      "execution_count": 0,
      "outputs": [
        {
          "output_type": "stream",
          "text": [
            "Step 1, Loss: -1.900000, Acc: 0.498082\n",
            "Step 500, Loss: -501.000000, Acc: 0.537466\n",
            "Step 1000, Loss: -501.000000, Acc: 0.538070\n"
          ],
          "name": "stdout"
        }
      ]
    },
    {
      "cell_type": "code",
      "metadata": {
        "id": "YfKWmD1vPJK1",
        "colab_type": "code",
        "outputId": "9eaafc31-166e-4252-8764-fe01231ca321",
        "colab": {
          "base_uri": "https://localhost:8080/",
          "height": 34
        }
      },
      "source": [
        "# Test Model\n",
        "print(\"Test Accuracy:\", sess.run(accuracy_op, feed_dict={X: test_x[:10000], Y: test_y[:10000]}))"
      ],
      "execution_count": 0,
      "outputs": [
        {
          "output_type": "stream",
          "text": [
            "Test Accuracy: 0.5467346\n"
          ],
          "name": "stdout"
        }
      ]
    },
    {
      "cell_type": "code",
      "metadata": {
        "id": "asXiZ1O8RmI8",
        "colab_type": "code",
        "colab": {}
      },
      "source": [
        "sess.close()"
      ],
      "execution_count": 0,
      "outputs": []
    },
    {
      "cell_type": "markdown",
      "metadata": {
        "id": "sQWY-PhqvGBi",
        "colab_type": "text"
      },
      "source": [
        "## Gradient Boosted Decision Tree (GBDT)"
      ]
    },
    {
      "cell_type": "code",
      "metadata": {
        "id": "9wL9zmny9oLl",
        "colab_type": "code",
        "colab": {}
      },
      "source": [
        "ops.reset_default_graph()"
      ],
      "execution_count": 0,
      "outputs": []
    },
    {
      "cell_type": "code",
      "metadata": {
        "id": "u-oGtruKRwVT",
        "colab_type": "code",
        "colab": {}
      },
      "source": [
        "# Use entire batch since this is such a small dataset.\n",
        "NUM_EXAMPLES = len(train_y)\n",
        "\n",
        "def make_input_fn(X, y, n_epochs=None, shuffle=True):\n",
        "  def input_fn():\n",
        "    dataset = tf.data.Dataset.from_tensor_slices((X.to_dict(orient='list'), y))\n",
        "    if shuffle:\n",
        "      dataset = dataset.shuffle(NUM_EXAMPLES)\n",
        "    # For training, cycle thru dataset as many times as need (n_epochs=None).\n",
        "    dataset = (dataset\n",
        "      .repeat(n_epochs)\n",
        "      .batch(NUM_EXAMPLES))\n",
        "    return dataset\n",
        "  return input_fn\n",
        "\n",
        "# Training and evaluation input functions.\n",
        "train_input_fn = make_input_fn(train_x_df, train_y_df)\n",
        "eval_input_fn = make_input_fn(test_x_df, test_y_df, shuffle=False, n_epochs=1)"
      ],
      "execution_count": 0,
      "outputs": []
    },
    {
      "cell_type": "code",
      "metadata": {
        "id": "hMj9v1cpUC7_",
        "colab_type": "code",
        "colab": {}
      },
      "source": [
        "fc = tf.feature_column\n",
        "feature_columns = []\n",
        "for feature_name in train_x_df.columns:\n",
        "    feature_columns.append(fc.numeric_column(feature_name,dtype=tf.float32))\n"
      ],
      "execution_count": 0,
      "outputs": []
    },
    {
      "cell_type": "code",
      "metadata": {
        "id": "MKVgzkHhSYrB",
        "colab_type": "code",
        "colab": {}
      },
      "source": [
        "params = {\n",
        "  'n_trees': 60,\n",
        "  'max_depth': 10,\n",
        "  'n_batches_per_layer': 1,\n",
        "  # You must enable center_bias = True to get DFCs. This will force the model to\n",
        "  # make an initial prediction before using any features (e.g. use the mean of\n",
        "  # the training labels for regression or log odds for classification when\n",
        "  # using cross entropy loss).\n",
        "  'center_bias': True\n",
        "}\n",
        "\n",
        "#est = tf.estimator.BoostedTreesClassifier(feature_columns, **params)\n",
        "# Train model.\n",
        "#est.train(train_input_fn, max_steps=100)\n",
        "\n",
        "# Evaluation.\n",
        "#results = est.evaluate(eval_input_fn)\n"
      ],
      "execution_count": 0,
      "outputs": []
    },
    {
      "cell_type": "code",
      "metadata": {
        "id": "iZWTw3M6VHrf",
        "colab_type": "code",
        "colab": {}
      },
      "source": [
        "#pd.Series(results).to_frame()"
      ],
      "execution_count": 0,
      "outputs": []
    },
    {
      "cell_type": "code",
      "metadata": {
        "id": "lLqsaypHbIHu",
        "colab_type": "code",
        "outputId": "aa39bfb0-63b2-4810-bc72-14429e1979be",
        "colab": {
          "base_uri": "https://localhost:8080/",
          "height": 802
        }
      },
      "source": [
        "in_memory_params = dict(params)\n",
        "in_memory_params['n_batches_per_layer'] = 1\n",
        "# In-memory input_fn does not use batching.\n",
        "def make_inmemory_train_input_fn(X, y):\n",
        "  def input_fn():\n",
        "    return dict(X), y\n",
        "  return input_fn\n",
        "train_input_fn = make_inmemory_train_input_fn(train_x_df, train_y_df)\n",
        "\n",
        "# Train the model.\n",
        "est = tf.estimator.BoostedTreesClassifier(\n",
        "    feature_columns, \n",
        "    train_in_memory=True, \n",
        "    **in_memory_params)\n",
        "\n",
        "est.train(train_input_fn)\n"
      ],
      "execution_count": 0,
      "outputs": [
        {
          "output_type": "stream",
          "text": [
            "INFO:tensorflow:Using default config.\n",
            "WARNING:tensorflow:Using temporary folder as model directory: /tmp/tmpylla4t1m\n",
            "INFO:tensorflow:Using config: {'_model_dir': '/tmp/tmpylla4t1m', '_tf_random_seed': None, '_save_summary_steps': 100, '_save_checkpoints_steps': None, '_save_checkpoints_secs': 600, '_session_config': allow_soft_placement: true\n",
            "graph_options {\n",
            "  rewrite_options {\n",
            "    meta_optimizer_iterations: ONE\n",
            "  }\n",
            "}\n",
            ", '_keep_checkpoint_max': 5, '_keep_checkpoint_every_n_hours': 10000, '_log_step_count_steps': 100, '_train_distribute': None, '_device_fn': None, '_protocol': None, '_eval_distribute': None, '_experimental_distribute': None, '_experimental_max_worker_delay_secs': None, '_service': None, '_cluster_spec': <tensorflow.python.training.server_lib.ClusterSpec object at 0x7f58633d6da0>, '_task_type': 'worker', '_task_id': 0, '_global_id_in_cluster': 0, '_master': '', '_evaluation_master': '', '_is_chief': True, '_num_ps_replicas': 0, '_num_worker_replicas': 1}\n",
            "INFO:tensorflow:Calling model_fn.\n",
            "INFO:tensorflow:Done calling model_fn.\n",
            "INFO:tensorflow:Create CheckpointSaverHook.\n",
            "WARNING:tensorflow:Issue encountered when serializing resources.\n",
            "Type is unsupported, or the types of the items don't match field type in CollectionDef. Note this is a warning and probably safe to ignore.\n",
            "'_Resource' object has no attribute 'name'\n",
            "INFO:tensorflow:Graph was finalized.\n",
            "INFO:tensorflow:Running local_init_op.\n",
            "INFO:tensorflow:Done running local_init_op.\n",
            "WARNING:tensorflow:Issue encountered when serializing resources.\n",
            "Type is unsupported, or the types of the items don't match field type in CollectionDef. Note this is a warning and probably safe to ignore.\n",
            "'_Resource' object has no attribute 'name'\n",
            "INFO:tensorflow:Saving checkpoints for 0 into /tmp/tmpylla4t1m/model.ckpt.\n",
            "WARNING:tensorflow:Issue encountered when serializing resources.\n",
            "Type is unsupported, or the types of the items don't match field type in CollectionDef. Note this is a warning and probably safe to ignore.\n",
            "'_Resource' object has no attribute 'name'\n",
            "INFO:tensorflow:loss = 0.6931475, step = 0\n",
            "WARNING:tensorflow:It seems that global step (tf.train.get_global_step) has not been increased. Current value (could be stable): 0 vs previous value: 0. You could increase the global step by passing tf.train.get_global_step() to Optimizer.apply_gradients or Optimizer.minimize.\n",
            "INFO:tensorflow:global_step/sec: 2.7681\n",
            "INFO:tensorflow:loss = 0.11650927, step = 99 (36.130 sec)\n",
            "INFO:tensorflow:global_step/sec: 3.69458\n",
            "INFO:tensorflow:loss = 0.1003, step = 199 (27.065 sec)\n",
            "INFO:tensorflow:global_step/sec: 3.69703\n",
            "INFO:tensorflow:loss = 0.08738633, step = 299 (27.048 sec)\n",
            "INFO:tensorflow:global_step/sec: 3.69507\n",
            "INFO:tensorflow:loss = 0.0788581, step = 399 (27.067 sec)\n",
            "INFO:tensorflow:global_step/sec: 3.73666\n",
            "INFO:tensorflow:loss = 0.07153472, step = 499 (26.762 sec)\n",
            "INFO:tensorflow:global_step/sec: 3.73503\n",
            "INFO:tensorflow:loss = 0.06474545, step = 599 (26.770 sec)\n",
            "INFO:tensorflow:Saving checkpoints for 603 into /tmp/tmpylla4t1m/model.ckpt.\n",
            "WARNING:tensorflow:Issue encountered when serializing resources.\n",
            "Type is unsupported, or the types of the items don't match field type in CollectionDef. Note this is a warning and probably safe to ignore.\n",
            "'_Resource' object has no attribute 'name'\n",
            "INFO:tensorflow:Loss for final step: 0.06447447.\n"
          ],
          "name": "stdout"
        },
        {
          "output_type": "execute_result",
          "data": {
            "text/plain": [
              "<tensorflow_estimator.python.estimator.canned.boosted_trees.BoostedTreesClassifier at 0x7f587875bda0>"
            ]
          },
          "metadata": {
            "tags": []
          },
          "execution_count": 331
        }
      ]
    },
    {
      "cell_type": "code",
      "metadata": {
        "id": "rvdTaqddNEWI",
        "colab_type": "code",
        "outputId": "9601ae7d-d413-40ca-f141-fe8d163e0c83",
        "colab": {
          "base_uri": "https://localhost:8080/",
          "height": 292
        }
      },
      "source": [
        "results = est.evaluate(eval_input_fn)"
      ],
      "execution_count": 0,
      "outputs": [
        {
          "output_type": "stream",
          "text": [
            "INFO:tensorflow:Calling model_fn.\n",
            "WARNING:tensorflow:Trapezoidal rule is known to produce incorrect PR-AUCs; please switch to \"careful_interpolation\" instead.\n",
            "WARNING:tensorflow:Trapezoidal rule is known to produce incorrect PR-AUCs; please switch to \"careful_interpolation\" instead.\n",
            "INFO:tensorflow:Done calling model_fn.\n",
            "INFO:tensorflow:Starting evaluation at 2019-10-23T15:37:25Z\n",
            "INFO:tensorflow:Graph was finalized.\n",
            "INFO:tensorflow:Restoring parameters from /tmp/tmpylla4t1m/model.ckpt-603\n",
            "INFO:tensorflow:Running local_init_op.\n",
            "INFO:tensorflow:Done running local_init_op.\n",
            "INFO:tensorflow:Finished evaluation at 2019-10-23-15:37:31\n",
            "INFO:tensorflow:Saving dict for global step 603: accuracy = 0.9483843, accuracy_baseline = 0.63760316, auc = 0.9916686, auc_precision_recall = 0.9953775, average_loss = 0.10781664, global_step = 603, label/mean = 0.63760316, loss = 0.10781664, precision = 0.96316975, prediction/mean = 0.63856846, recall = 0.95558757\n",
            "WARNING:tensorflow:Issue encountered when serializing resources.\n",
            "Type is unsupported, or the types of the items don't match field type in CollectionDef. Note this is a warning and probably safe to ignore.\n",
            "'_Resource' object has no attribute 'name'\n",
            "INFO:tensorflow:Saving 'checkpoint_path' summary for global step 603: /tmp/tmpylla4t1m/model.ckpt-603\n"
          ],
          "name": "stdout"
        }
      ]
    },
    {
      "cell_type": "code",
      "metadata": {
        "id": "JoQlGrfTdgll",
        "colab_type": "code",
        "outputId": "5d0d10fc-9ff0-40f3-b38d-7a8fb5b596f1",
        "colab": {
          "base_uri": "https://localhost:8080/",
          "height": 390
        }
      },
      "source": [
        "pd.Series(results).to_frame()"
      ],
      "execution_count": 0,
      "outputs": [
        {
          "output_type": "execute_result",
          "data": {
            "text/html": [
              "<div>\n",
              "<style scoped>\n",
              "    .dataframe tbody tr th:only-of-type {\n",
              "        vertical-align: middle;\n",
              "    }\n",
              "\n",
              "    .dataframe tbody tr th {\n",
              "        vertical-align: top;\n",
              "    }\n",
              "\n",
              "    .dataframe thead th {\n",
              "        text-align: right;\n",
              "    }\n",
              "</style>\n",
              "<table border=\"1\" class=\"dataframe\">\n",
              "  <thead>\n",
              "    <tr style=\"text-align: right;\">\n",
              "      <th></th>\n",
              "      <th>0</th>\n",
              "    </tr>\n",
              "  </thead>\n",
              "  <tbody>\n",
              "    <tr>\n",
              "      <th>accuracy</th>\n",
              "      <td>0.948384</td>\n",
              "    </tr>\n",
              "    <tr>\n",
              "      <th>accuracy_baseline</th>\n",
              "      <td>0.637603</td>\n",
              "    </tr>\n",
              "    <tr>\n",
              "      <th>auc</th>\n",
              "      <td>0.991669</td>\n",
              "    </tr>\n",
              "    <tr>\n",
              "      <th>auc_precision_recall</th>\n",
              "      <td>0.995377</td>\n",
              "    </tr>\n",
              "    <tr>\n",
              "      <th>average_loss</th>\n",
              "      <td>0.107817</td>\n",
              "    </tr>\n",
              "    <tr>\n",
              "      <th>label/mean</th>\n",
              "      <td>0.637603</td>\n",
              "    </tr>\n",
              "    <tr>\n",
              "      <th>loss</th>\n",
              "      <td>0.107817</td>\n",
              "    </tr>\n",
              "    <tr>\n",
              "      <th>precision</th>\n",
              "      <td>0.963170</td>\n",
              "    </tr>\n",
              "    <tr>\n",
              "      <th>prediction/mean</th>\n",
              "      <td>0.638568</td>\n",
              "    </tr>\n",
              "    <tr>\n",
              "      <th>recall</th>\n",
              "      <td>0.955588</td>\n",
              "    </tr>\n",
              "    <tr>\n",
              "      <th>global_step</th>\n",
              "      <td>603.000000</td>\n",
              "    </tr>\n",
              "  </tbody>\n",
              "</table>\n",
              "</div>"
            ],
            "text/plain": [
              "                               0\n",
              "accuracy                0.948384\n",
              "accuracy_baseline       0.637603\n",
              "auc                     0.991669\n",
              "auc_precision_recall    0.995377\n",
              "average_loss            0.107817\n",
              "label/mean              0.637603\n",
              "loss                    0.107817\n",
              "precision               0.963170\n",
              "prediction/mean         0.638568\n",
              "recall                  0.955588\n",
              "global_step           603.000000"
            ]
          },
          "metadata": {
            "tags": []
          },
          "execution_count": 333
        }
      ]
    },
    {
      "cell_type": "code",
      "metadata": {
        "id": "falwDvC8dyKa",
        "colab_type": "code",
        "colab": {}
      },
      "source": [
        ""
      ],
      "execution_count": 0,
      "outputs": []
    },
    {
      "cell_type": "markdown",
      "metadata": {
        "id": "ZFgwMNrGdrbi",
        "colab_type": "text"
      },
      "source": [
        "## Neural Network"
      ]
    },
    {
      "cell_type": "code",
      "metadata": {
        "id": "xCXLDQvSOxcW",
        "colab_type": "code",
        "colab": {}
      },
      "source": [
        "from tensorflow.keras.layers import *"
      ],
      "execution_count": 0,
      "outputs": []
    },
    {
      "cell_type": "markdown",
      "metadata": {
        "id": "gAeC5AMpNsD1",
        "colab_type": "text"
      },
      "source": [
        "### NN"
      ]
    },
    {
      "cell_type": "code",
      "metadata": {
        "id": "zrE_4B8K355S",
        "colab_type": "code",
        "colab": {}
      },
      "source": [
        "n_features = train_x.shape[1]\n",
        "n_hidden1 = 50\n",
        "n_hidden2 = 100\n",
        "n_hidden3 = 50\n",
        "epochs = 10\n",
        "\n",
        "n_classes = 2"
      ],
      "execution_count": 0,
      "outputs": []
    },
    {
      "cell_type": "code",
      "metadata": {
        "id": "LbTvNlhliq5-",
        "colab_type": "code",
        "colab": {}
      },
      "source": [
        "ops.reset_default_graph()"
      ],
      "execution_count": 0,
      "outputs": []
    },
    {
      "cell_type": "code",
      "metadata": {
        "id": "H11-H1cZZ1kg",
        "colab_type": "code",
        "colab": {}
      },
      "source": [
        "model = tf.keras.models.Sequential([\n",
        "  tf.keras.layers.Dense(n_features, activation='relu'),\n",
        "  tf.keras.layers.Dense(n_hidden1, activation='relu'),\n",
        "  tf.keras.layers.Dropout(0.3),\n",
        "  tf.keras.layers.Dense(n_hidden2, activation='softmax'),\n",
        "  tf.keras.layers.Dropout(0.3),\n",
        "  tf.keras.layers.Dense(n_hidden2, activation='relu'),\n",
        "  tf.keras.layers.Dense(n_classes, activation='softmax')\n",
        "])"
      ],
      "execution_count": 0,
      "outputs": []
    },
    {
      "cell_type": "code",
      "metadata": {
        "id": "BA4ysMlUL1Ws",
        "colab_type": "code",
        "colab": {}
      },
      "source": [
        "model.compile(optimizer= tf.keras.optimizers.Adam(),\n",
        "            loss= tf.keras.losses.SparseCategoricalCrossentropy(),\n",
        "            metrics=['accuracy'])"
      ],
      "execution_count": 0,
      "outputs": []
    },
    {
      "cell_type": "code",
      "metadata": {
        "id": "IV0cLsdEMnhT",
        "colab_type": "code",
        "outputId": "25d23e7d-b17a-4fcd-b2e5-4e0ed755725b",
        "colab": {
          "base_uri": "https://localhost:8080/",
          "height": 374
        }
      },
      "source": [
        "model.fit(train_x, train_y, epochs= epochs)"
      ],
      "execution_count": 0,
      "outputs": [
        {
          "output_type": "stream",
          "text": [
            "Epoch 1/10\n",
            "180371/180371 [==============================] - 22s 123us/sample - loss: 0.2175 - acc: 0.8944\n",
            "Epoch 2/10\n",
            "180371/180371 [==============================] - 22s 122us/sample - loss: 0.1694 - acc: 0.9145\n",
            "Epoch 3/10\n",
            "180371/180371 [==============================] - 22s 122us/sample - loss: 0.1560 - acc: 0.9206\n",
            "Epoch 4/10\n",
            "180371/180371 [==============================] - 22s 121us/sample - loss: 0.1517 - acc: 0.9224\n",
            "Epoch 5/10\n",
            "180371/180371 [==============================] - 22s 121us/sample - loss: 0.1489 - acc: 0.9246\n",
            "Epoch 6/10\n",
            "180371/180371 [==============================] - 22s 121us/sample - loss: 0.1464 - acc: 0.9257\n",
            "Epoch 7/10\n",
            "180371/180371 [==============================] - 22s 122us/sample - loss: 0.1454 - acc: 0.9270\n",
            "Epoch 8/10\n",
            "180371/180371 [==============================] - 22s 122us/sample - loss: 0.1443 - acc: 0.9274\n",
            "Epoch 9/10\n",
            "180371/180371 [==============================] - 22s 122us/sample - loss: 0.1427 - acc: 0.9290\n",
            "Epoch 10/10\n",
            "180371/180371 [==============================] - 22s 122us/sample - loss: 0.1413 - acc: 0.9305\n"
          ],
          "name": "stdout"
        },
        {
          "output_type": "execute_result",
          "data": {
            "text/plain": [
              "<tensorflow.python.keras.callbacks.History at 0x7f584e5c9518>"
            ]
          },
          "metadata": {
            "tags": []
          },
          "execution_count": 426
        }
      ]
    },
    {
      "cell_type": "code",
      "metadata": {
        "id": "P2cvo30hMvaT",
        "colab_type": "code",
        "outputId": "812bb34c-81b6-4ec3-c9cf-78837fdc90ee",
        "colab": {
          "base_uri": "https://localhost:8080/",
          "height": 391
        }
      },
      "source": [
        "model.summary()"
      ],
      "execution_count": 0,
      "outputs": [
        {
          "output_type": "stream",
          "text": [
            "Model: \"sequential\"\n",
            "_________________________________________________________________\n",
            "Layer (type)                 Output Shape              Param #   \n",
            "=================================================================\n",
            "dense (Dense)                multiple                  1806      \n",
            "_________________________________________________________________\n",
            "dense_1 (Dense)              multiple                  2150      \n",
            "_________________________________________________________________\n",
            "dropout (Dropout)            multiple                  0         \n",
            "_________________________________________________________________\n",
            "dense_2 (Dense)              multiple                  5100      \n",
            "_________________________________________________________________\n",
            "dropout_1 (Dropout)          multiple                  0         \n",
            "_________________________________________________________________\n",
            "dense_3 (Dense)              multiple                  10100     \n",
            "_________________________________________________________________\n",
            "dense_4 (Dense)              multiple                  202       \n",
            "=================================================================\n",
            "Total params: 19,358\n",
            "Trainable params: 19,358\n",
            "Non-trainable params: 0\n",
            "_________________________________________________________________\n"
          ],
          "name": "stdout"
        }
      ]
    },
    {
      "cell_type": "code",
      "metadata": {
        "id": "URNIHp6SNNn4",
        "colab_type": "code",
        "outputId": "934170b4-f1f3-4ba0-f8d8-df4c634f6a77",
        "colab": {
          "base_uri": "https://localhost:8080/",
          "height": 51
        }
      },
      "source": [
        "model.evaluate(test_x, test_y)"
      ],
      "execution_count": 0,
      "outputs": [
        {
          "output_type": "stream",
          "text": [
            "77302/77302 [==============================] - 5s 62us/sample - loss: 0.1394 - acc: 0.9326\n"
          ],
          "name": "stdout"
        },
        {
          "output_type": "execute_result",
          "data": {
            "text/plain": [
              "[0.13938738975557965, 0.93262786]"
            ]
          },
          "metadata": {
            "tags": []
          },
          "execution_count": 428
        }
      ]
    },
    {
      "cell_type": "markdown",
      "metadata": {
        "id": "zadaUraB_had",
        "colab_type": "text"
      },
      "source": [
        "### CNN"
      ]
    },
    {
      "cell_type": "code",
      "metadata": {
        "id": "839EIkubNdy7",
        "colab_type": "code",
        "colab": {}
      },
      "source": [
        "epochs = 10\n",
        "\n",
        "n_classes = 2"
      ],
      "execution_count": 0,
      "outputs": []
    },
    {
      "cell_type": "code",
      "metadata": {
        "id": "s0NfRLhALt9k",
        "colab_type": "code",
        "colab": {}
      },
      "source": [
        "ops.reset_default_graph()"
      ],
      "execution_count": 0,
      "outputs": []
    },
    {
      "cell_type": "code",
      "metadata": {
        "id": "wGF-8IVZEgFX",
        "colab_type": "code",
        "colab": {}
      },
      "source": [
        "cnn_train_x = np.array([np.reshape(x, newshape=(7,6,1)) for x in train_x])\n",
        "cnn_test_x = np.array([np.reshape(x, newshape=(7,6,1)) for x in test_x])"
      ],
      "execution_count": 0,
      "outputs": []
    },
    {
      "cell_type": "code",
      "metadata": {
        "id": "71o9bklOF3of",
        "colab_type": "code",
        "outputId": "7fd72b7b-6b65-4257-c5e6-015d54bddb9f",
        "colab": {
          "base_uri": "https://localhost:8080/",
          "height": 34
        }
      },
      "source": [
        "input_shape = cnn_train_x.shape[1:]\n",
        "input_shape"
      ],
      "execution_count": 0,
      "outputs": [
        {
          "output_type": "execute_result",
          "data": {
            "text/plain": [
              "(7, 6, 1)"
            ]
          },
          "metadata": {
            "tags": []
          },
          "execution_count": 385
        }
      ]
    },
    {
      "cell_type": "code",
      "metadata": {
        "id": "V4p2mRflEAI2",
        "colab_type": "code",
        "colab": {}
      },
      "source": [
        "model = tf.keras.Sequential()\n",
        "model.add(Conv2D(32, (3, 3), padding='same',\n",
        "                 input_shape= input_shape))\n",
        "model.add(Activation('relu'))\n",
        "model.add(Conv2D(32, (3, 3)))\n",
        "model.add(Activation('relu'))\n",
        "#model.add(MaxPooling2D(pool_size=(2, 2),strides=(1,1)))\n",
        "model.add(Dropout(0.25))\n",
        "\n",
        "model.add(Conv2D(64, (3, 3), padding='same'))\n",
        "model.add(Activation('relu'))\n",
        "model.add(Conv2D(64, (3, 3)))\n",
        "model.add(Activation('relu'))\n",
        "#model.add(MaxPooling2D(pool_size=(2, 2),strides=(1,1)))\n",
        "model.add(Dropout(0.25))\n",
        "\n",
        "model.add(Flatten())\n",
        "model.add(Dense(512))\n",
        "model.add(Activation('relu'))\n",
        "model.add(Dropout(0.5))\n",
        "model.add(Dense(n_classes))\n",
        "model.add(Activation('softmax'))"
      ],
      "execution_count": 0,
      "outputs": []
    },
    {
      "cell_type": "code",
      "metadata": {
        "id": "SszLUvOcB98I",
        "colab_type": "code",
        "colab": {}
      },
      "source": [
        "import math"
      ],
      "execution_count": 0,
      "outputs": []
    },
    {
      "cell_type": "code",
      "metadata": {
        "colab_type": "code",
        "outputId": "5b39039f-0095-4d7b-ba5b-aaad330f4f29",
        "id": "iORJLjXXK3Qj",
        "colab": {
          "base_uri": "https://localhost:8080/",
          "height": 288
        }
      },
      "source": [
        "cnt = 40\n",
        "cnt = math.ceil(cnt/2)*2\n",
        "plt.figure(figsize=(cnt,cnt))\n",
        "\n",
        "class_names = ['Normal', 'Abnormal']\n",
        "\n",
        "\n",
        "for i in range(cnt):\n",
        "\n",
        "    _ = plt.subplot(cnt/2,cnt/2,i+1)\n",
        "    _ = plt.xticks([])\n",
        "    _ = plt.yticks([])\n",
        "    _ = plt.grid(False)\n",
        "    a = np.reshape(train_x[i], newshape=(7,6))\n",
        "    _ = plt.imshow(a)\n",
        "    # The CIFAR labels happen to be arrays, \n",
        "    # which is why you need the extra index\n",
        "    \n",
        "    plt.title(class_names[int(test_y[i])])\n",
        "plt.show()"
      ],
      "execution_count": 0,
      "outputs": [
        {
          "output_type": "execute_result",
          "data": {
            "text/plain": [
              "<Figure size 2880x2880 with 0 Axes>"
            ]
          },
          "metadata": {
            "tags": []
          },
          "execution_count": 675
        },
        {
          "output_type": "execute_result",
          "data": {
            "text/plain": [
              "Text(0.5, 1.0, 'Abnormal')"
            ]
          },
          "metadata": {
            "tags": []
          },
          "execution_count": 675
        },
        {
          "output_type": "execute_result",
          "data": {
            "text/plain": [
              "Text(0.5, 1.0, 'Normal')"
            ]
          },
          "metadata": {
            "tags": []
          },
          "execution_count": 675
        },
        {
          "output_type": "execute_result",
          "data": {
            "text/plain": [
              "Text(0.5, 1.0, 'Abnormal')"
            ]
          },
          "metadata": {
            "tags": []
          },
          "execution_count": 675
        },
        {
          "output_type": "execute_result",
          "data": {
            "text/plain": [
              "Text(0.5, 1.0, 'Abnormal')"
            ]
          },
          "metadata": {
            "tags": []
          },
          "execution_count": 675
        },
        {
          "output_type": "execute_result",
          "data": {
            "text/plain": [
              "Text(0.5, 1.0, 'Abnormal')"
            ]
          },
          "metadata": {
            "tags": []
          },
          "execution_count": 675
        },
        {
          "output_type": "execute_result",
          "data": {
            "text/plain": [
              "Text(0.5, 1.0, 'Abnormal')"
            ]
          },
          "metadata": {
            "tags": []
          },
          "execution_count": 675
        },
        {
          "output_type": "execute_result",
          "data": {
            "text/plain": [
              "Text(0.5, 1.0, 'Abnormal')"
            ]
          },
          "metadata": {
            "tags": []
          },
          "execution_count": 675
        },
        {
          "output_type": "execute_result",
          "data": {
            "text/plain": [
              "Text(0.5, 1.0, 'Abnormal')"
            ]
          },
          "metadata": {
            "tags": []
          },
          "execution_count": 675
        },
        {
          "output_type": "execute_result",
          "data": {
            "text/plain": [
              "Text(0.5, 1.0, 'Abnormal')"
            ]
          },
          "metadata": {
            "tags": []
          },
          "execution_count": 675
        },
        {
          "output_type": "execute_result",
          "data": {
            "text/plain": [
              "Text(0.5, 1.0, 'Abnormal')"
            ]
          },
          "metadata": {
            "tags": []
          },
          "execution_count": 675
        },
        {
          "output_type": "execute_result",
          "data": {
            "text/plain": [
              "Text(0.5, 1.0, 'Normal')"
            ]
          },
          "metadata": {
            "tags": []
          },
          "execution_count": 675
        },
        {
          "output_type": "execute_result",
          "data": {
            "text/plain": [
              "Text(0.5, 1.0, 'Abnormal')"
            ]
          },
          "metadata": {
            "tags": []
          },
          "execution_count": 675
        },
        {
          "output_type": "execute_result",
          "data": {
            "text/plain": [
              "Text(0.5, 1.0, 'Abnormal')"
            ]
          },
          "metadata": {
            "tags": []
          },
          "execution_count": 675
        },
        {
          "output_type": "execute_result",
          "data": {
            "text/plain": [
              "Text(0.5, 1.0, 'Abnormal')"
            ]
          },
          "metadata": {
            "tags": []
          },
          "execution_count": 675
        },
        {
          "output_type": "execute_result",
          "data": {
            "text/plain": [
              "Text(0.5, 1.0, 'Abnormal')"
            ]
          },
          "metadata": {
            "tags": []
          },
          "execution_count": 675
        },
        {
          "output_type": "execute_result",
          "data": {
            "text/plain": [
              "Text(0.5, 1.0, 'Normal')"
            ]
          },
          "metadata": {
            "tags": []
          },
          "execution_count": 675
        },
        {
          "output_type": "execute_result",
          "data": {
            "text/plain": [
              "Text(0.5, 1.0, 'Abnormal')"
            ]
          },
          "metadata": {
            "tags": []
          },
          "execution_count": 675
        },
        {
          "output_type": "execute_result",
          "data": {
            "text/plain": [
              "Text(0.5, 1.0, 'Abnormal')"
            ]
          },
          "metadata": {
            "tags": []
          },
          "execution_count": 675
        },
        {
          "output_type": "execute_result",
          "data": {
            "text/plain": [
              "Text(0.5, 1.0, 'Abnormal')"
            ]
          },
          "metadata": {
            "tags": []
          },
          "execution_count": 675
        },
        {
          "output_type": "execute_result",
          "data": {
            "text/plain": [
              "Text(0.5, 1.0, 'Abnormal')"
            ]
          },
          "metadata": {
            "tags": []
          },
          "execution_count": 675
        },
        {
          "output_type": "execute_result",
          "data": {
            "text/plain": [
              "Text(0.5, 1.0, 'Normal')"
            ]
          },
          "metadata": {
            "tags": []
          },
          "execution_count": 675
        },
        {
          "output_type": "execute_result",
          "data": {
            "text/plain": [
              "Text(0.5, 1.0, 'Normal')"
            ]
          },
          "metadata": {
            "tags": []
          },
          "execution_count": 675
        },
        {
          "output_type": "execute_result",
          "data": {
            "text/plain": [
              "Text(0.5, 1.0, 'Abnormal')"
            ]
          },
          "metadata": {
            "tags": []
          },
          "execution_count": 675
        },
        {
          "output_type": "execute_result",
          "data": {
            "text/plain": [
              "Text(0.5, 1.0, 'Abnormal')"
            ]
          },
          "metadata": {
            "tags": []
          },
          "execution_count": 675
        },
        {
          "output_type": "execute_result",
          "data": {
            "text/plain": [
              "Text(0.5, 1.0, 'Abnormal')"
            ]
          },
          "metadata": {
            "tags": []
          },
          "execution_count": 675
        },
        {
          "output_type": "execute_result",
          "data": {
            "text/plain": [
              "Text(0.5, 1.0, 'Abnormal')"
            ]
          },
          "metadata": {
            "tags": []
          },
          "execution_count": 675
        },
        {
          "output_type": "execute_result",
          "data": {
            "text/plain": [
              "Text(0.5, 1.0, 'Normal')"
            ]
          },
          "metadata": {
            "tags": []
          },
          "execution_count": 675
        },
        {
          "output_type": "execute_result",
          "data": {
            "text/plain": [
              "Text(0.5, 1.0, 'Normal')"
            ]
          },
          "metadata": {
            "tags": []
          },
          "execution_count": 675
        },
        {
          "output_type": "execute_result",
          "data": {
            "text/plain": [
              "Text(0.5, 1.0, 'Abnormal')"
            ]
          },
          "metadata": {
            "tags": []
          },
          "execution_count": 675
        },
        {
          "output_type": "execute_result",
          "data": {
            "text/plain": [
              "Text(0.5, 1.0, 'Abnormal')"
            ]
          },
          "metadata": {
            "tags": []
          },
          "execution_count": 675
        },
        {
          "output_type": "execute_result",
          "data": {
            "text/plain": [
              "Text(0.5, 1.0, 'Normal')"
            ]
          },
          "metadata": {
            "tags": []
          },
          "execution_count": 675
        },
        {
          "output_type": "execute_result",
          "data": {
            "text/plain": [
              "Text(0.5, 1.0, 'Abnormal')"
            ]
          },
          "metadata": {
            "tags": []
          },
          "execution_count": 675
        },
        {
          "output_type": "execute_result",
          "data": {
            "text/plain": [
              "Text(0.5, 1.0, 'Normal')"
            ]
          },
          "metadata": {
            "tags": []
          },
          "execution_count": 675
        },
        {
          "output_type": "execute_result",
          "data": {
            "text/plain": [
              "Text(0.5, 1.0, 'Abnormal')"
            ]
          },
          "metadata": {
            "tags": []
          },
          "execution_count": 675
        },
        {
          "output_type": "execute_result",
          "data": {
            "text/plain": [
              "Text(0.5, 1.0, 'Abnormal')"
            ]
          },
          "metadata": {
            "tags": []
          },
          "execution_count": 675
        },
        {
          "output_type": "execute_result",
          "data": {
            "text/plain": [
              "Text(0.5, 1.0, 'Abnormal')"
            ]
          },
          "metadata": {
            "tags": []
          },
          "execution_count": 675
        },
        {
          "output_type": "execute_result",
          "data": {
            "text/plain": [
              "Text(0.5, 1.0, 'Abnormal')"
            ]
          },
          "metadata": {
            "tags": []
          },
          "execution_count": 675
        },
        {
          "output_type": "execute_result",
          "data": {
            "text/plain": [
              "Text(0.5, 1.0, 'Abnormal')"
            ]
          },
          "metadata": {
            "tags": []
          },
          "execution_count": 675
        },
        {
          "output_type": "execute_result",
          "data": {
            "text/plain": [
              "Text(0.5, 1.0, 'Abnormal')"
            ]
          },
          "metadata": {
            "tags": []
          },
          "execution_count": 675
        },
        {
          "output_type": "execute_result",
          "data": {
            "text/plain": [
              "Text(0.5, 1.0, 'Normal')"
            ]
          },
          "metadata": {
            "tags": []
          },
          "execution_count": 675
        },
        {
          "output_type": "display_data",
          "data": {
            "image/png": "[encoded data removed]",
            "text/plain": [
              "<Figure size 2880x2880 with 40 Axes>"
            ]
          },
          "metadata": {
            "tags": []
          }
        }
      ]
    },
    {
      "cell_type": "code",
      "metadata": {
        "id": "FDLewipfMddl",
        "colab_type": "code",
        "colab": {}
      },
      "source": [
        "model.compile(optimizer= tf.keras.optimizers.Adam(),\n",
        "            loss= tf.keras.losses.SparseCategoricalCrossentropy(),\n",
        "            metrics=['accuracy'])"
      ],
      "execution_count": 0,
      "outputs": []
    },
    {
      "cell_type": "code",
      "metadata": {
        "id": "V_AYyp0_4lDk",
        "colab_type": "code",
        "outputId": "d265f5a6-43ac-4c02-cfb4-0c90060e24b1",
        "colab": {
          "base_uri": "https://localhost:8080/",
          "height": 374
        }
      },
      "source": [
        "model.fit(cnn_train_x, train_y, epochs= epochs)"
      ],
      "execution_count": 0,
      "outputs": [
        {
          "output_type": "stream",
          "text": [
            "Epoch 1/10\n",
            "180371/180371 [==============================] - 36s 200us/sample - loss: 0.1931 - acc: 0.9031\n",
            "Epoch 2/10\n",
            "180371/180371 [==============================] - 36s 197us/sample - loss: 0.1584 - acc: 0.9207\n",
            "Epoch 3/10\n",
            "180371/180371 [==============================] - 36s 198us/sample - loss: 0.1500 - acc: 0.9256\n",
            "Epoch 4/10\n",
            "180371/180371 [==============================] - 35s 196us/sample - loss: 0.1466 - acc: 0.9286\n",
            "Epoch 5/10\n",
            "180371/180371 [==============================] - 35s 195us/sample - loss: 0.1444 - acc: 0.9301\n",
            "Epoch 6/10\n",
            "180371/180371 [==============================] - 35s 195us/sample - loss: 0.1429 - acc: 0.9303\n",
            "Epoch 7/10\n",
            "180371/180371 [==============================] - 35s 195us/sample - loss: 0.1419 - acc: 0.9312\n",
            "Epoch 8/10\n",
            "180371/180371 [==============================] - 35s 195us/sample - loss: 0.1409 - acc: 0.9319\n",
            "Epoch 9/10\n",
            "180371/180371 [==============================] - 35s 195us/sample - loss: 0.1399 - acc: 0.9324\n",
            "Epoch 10/10\n",
            "180371/180371 [==============================] - 35s 195us/sample - loss: 0.1399 - acc: 0.9327\n"
          ],
          "name": "stdout"
        },
        {
          "output_type": "execute_result",
          "data": {
            "text/plain": [
              "<tensorflow.python.keras.callbacks.History at 0x7f586cbc5fd0>"
            ]
          },
          "metadata": {
            "tags": []
          },
          "execution_count": 389
        }
      ]
    },
    {
      "cell_type": "code",
      "metadata": {
        "id": "4HHXZ24w2nyo",
        "colab_type": "code",
        "outputId": "af31df59-9ac5-40a9-d5b4-6d8f59e9a3ba",
        "colab": {
          "base_uri": "https://localhost:8080/",
          "height": 697
        }
      },
      "source": [
        "model.summary()"
      ],
      "execution_count": 0,
      "outputs": [
        {
          "output_type": "stream",
          "text": [
            "Model: \"sequential\"\n",
            "_________________________________________________________________\n",
            "Layer (type)                 Output Shape              Param #   \n",
            "=================================================================\n",
            "conv2d (Conv2D)              (None, 7, 6, 32)          320       \n",
            "_________________________________________________________________\n",
            "activation (Activation)      (None, 7, 6, 32)          0         \n",
            "_________________________________________________________________\n",
            "conv2d_1 (Conv2D)            (None, 5, 4, 32)          9248      \n",
            "_________________________________________________________________\n",
            "activation_1 (Activation)    (None, 5, 4, 32)          0         \n",
            "_________________________________________________________________\n",
            "dropout (Dropout)            (None, 5, 4, 32)          0         \n",
            "_________________________________________________________________\n",
            "conv2d_2 (Conv2D)            (None, 5, 4, 64)          18496     \n",
            "_________________________________________________________________\n",
            "activation_2 (Activation)    (None, 5, 4, 64)          0         \n",
            "_________________________________________________________________\n",
            "conv2d_3 (Conv2D)            (None, 3, 2, 64)          36928     \n",
            "_________________________________________________________________\n",
            "activation_3 (Activation)    (None, 3, 2, 64)          0         \n",
            "_________________________________________________________________\n",
            "dropout_1 (Dropout)          (None, 3, 2, 64)          0         \n",
            "_________________________________________________________________\n",
            "flatten (Flatten)            (None, 384)               0         \n",
            "_________________________________________________________________\n",
            "dense (Dense)                (None, 512)               197120    \n",
            "_________________________________________________________________\n",
            "activation_4 (Activation)    (None, 512)               0         \n",
            "_________________________________________________________________\n",
            "dropout_2 (Dropout)          (None, 512)               0         \n",
            "_________________________________________________________________\n",
            "dense_1 (Dense)              (None, 2)                 1026      \n",
            "_________________________________________________________________\n",
            "activation_5 (Activation)    (None, 2)                 0         \n",
            "=================================================================\n",
            "Total params: 263,138\n",
            "Trainable params: 263,138\n",
            "Non-trainable params: 0\n",
            "_________________________________________________________________\n"
          ],
          "name": "stdout"
        }
      ]
    },
    {
      "cell_type": "code",
      "metadata": {
        "id": "UuBYWOJR42Qm",
        "colab_type": "code",
        "outputId": "2a574c62-142c-4fd6-f09d-80a0cba0a162",
        "colab": {
          "base_uri": "https://localhost:8080/",
          "height": 51
        }
      },
      "source": [
        "  model.evaluate(cnn_test_x, test_y)"
      ],
      "execution_count": 0,
      "outputs": [
        {
          "output_type": "stream",
          "text": [
            "77302/77302 [==============================] - 7s 91us/sample - loss: 0.1356 - acc: 0.9337\n"
          ],
          "name": "stdout"
        },
        {
          "output_type": "execute_result",
          "data": {
            "text/plain": [
              "[0.13562935059771358, 0.9337404]"
            ]
          },
          "metadata": {
            "tags": []
          },
          "execution_count": 391
        }
      ]
    },
    {
      "cell_type": "code",
      "metadata": {
        "id": "RKJN-cTddmQ6",
        "colab_type": "code",
        "colab": {}
      },
      "source": [
        ""
      ],
      "execution_count": 0,
      "outputs": []
    },
    {
      "cell_type": "markdown",
      "metadata": {
        "id": "a16aZj0uuoJ-",
        "colab_type": "text"
      },
      "source": [
        "### Auto-Encoders"
      ]
    },
    {
      "cell_type": "code",
      "metadata": {
        "id": "Rvdcj_ugvpJZ",
        "colab_type": "code",
        "colab": {}
      },
      "source": [
        "from tensorflow.keras.layers import Input, Dense\n",
        "from tensorflow.keras.models import Model\n"
      ],
      "execution_count": 0,
      "outputs": []
    },
    {
      "cell_type": "code",
      "metadata": {
        "id": "KCHOaa-Qw9JV",
        "colab_type": "code",
        "colab": {}
      },
      "source": [
        "auto_enc_x = []\n",
        "for i in range(len(train_x)):\n",
        "    if train_y[i]==0:\n",
        "        auto_enc_x.append(train_x[i])\n",
        "for i in range(int(len(test_x)/2)):\n",
        "    if test_y[i]==0:\n",
        "        auto_enc_x.append(test_x[i])\n",
        "auto_enc_x = np.array(auto_enc_x)\n"
      ],
      "execution_count": 0,
      "outputs": []
    },
    {
      "cell_type": "code",
      "metadata": {
        "id": "kKAqXAiq4hmr",
        "colab_type": "code",
        "colab": {}
      },
      "source": [
        "auto_enc_test_x = test_x[int(len(test_y)/2):]\n",
        "auto_enc_test_y = test_y[int(len(test_y)/2):]"
      ],
      "execution_count": 0,
      "outputs": []
    },
    {
      "cell_type": "code",
      "metadata": {
        "id": "CWc6WsImxq_y",
        "colab_type": "code",
        "outputId": "bb949b37-9f40-401d-c224-ca6bac75506e",
        "colab": {
          "base_uri": "https://localhost:8080/",
          "height": 34
        }
      },
      "source": [
        "auto_enc_x.shape"
      ],
      "execution_count": 0,
      "outputs": [
        {
          "output_type": "execute_result",
          "data": {
            "text/plain": [
              "(78929, 42)"
            ]
          },
          "metadata": {
            "tags": []
          },
          "execution_count": 640
        }
      ]
    },
    {
      "cell_type": "code",
      "metadata": {
        "id": "VyOKE28nveLw",
        "colab_type": "code",
        "colab": {}
      },
      "source": [
        "n_features = auto_enc_x.shape[1]\n",
        "\n",
        "# this is the size of our encoded representations\n",
        "encoding_dim = 42 # 32 floats -> compression of factor 24.5, assuming the input is 784 floats\n",
        "\n",
        "batch_size = 50\n",
        "epochs = 100"
      ],
      "execution_count": 0,
      "outputs": []
    },
    {
      "cell_type": "code",
      "metadata": {
        "id": "qxKMmRyZurRr",
        "colab_type": "code",
        "colab": {}
      },
      "source": [
        "\n",
        "# this is our input placeholder\n",
        "input_img = Input(shape=(n_features,))\n",
        "# \"encoded\" is the encoded representation of the input\n",
        "encoded = Dense(encoding_dim, activation='relu')(input_img)\n",
        "# \"decoded\" is the lossy reconstruction of the input\n",
        "decoded = Dense(n_features, activation='sigmoid')(encoded)\n",
        "\n",
        "# this model maps an input to its reconstruction\n",
        "autoencoder = Model(input_img, decoded)"
      ],
      "execution_count": 0,
      "outputs": []
    },
    {
      "cell_type": "code",
      "metadata": {
        "id": "KdcRaVi4u4AL",
        "colab_type": "code",
        "colab": {}
      },
      "source": [
        "# this model maps an input to its encoded representation\n",
        "encoder = Model(input_img, encoded)"
      ],
      "execution_count": 0,
      "outputs": []
    },
    {
      "cell_type": "code",
      "metadata": {
        "id": "0RohDw9_vvvY",
        "colab_type": "code",
        "colab": {}
      },
      "source": [
        "# create a placeholder for an encoded (32-dimensional) input\n",
        "encoded_input = Input(shape=(encoding_dim,))\n",
        "# retrieve the last layer of the autoencoder model\n",
        "decoder_layer = autoencoder.layers[-1]\n",
        "# create the decoder model\n",
        "decoder = Model(encoded_input, decoder_layer(encoded_input))"
      ],
      "execution_count": 0,
      "outputs": []
    },
    {
      "cell_type": "code",
      "metadata": {
        "id": "NogMLQN4vyfF",
        "colab_type": "code",
        "colab": {}
      },
      "source": [
        "autoencoder.compile(optimizer='adadelta', loss='binary_crossentropy')"
      ],
      "execution_count": 0,
      "outputs": []
    },
    {
      "cell_type": "code",
      "metadata": {
        "id": "19lqRYs3v0_Q",
        "colab_type": "code",
        "outputId": "79144218-2707-41b3-a087-30cfcd1bd791",
        "colab": {
          "base_uri": "https://localhost:8080/",
          "height": 1000
        }
      },
      "source": [
        "autoencoder.fit(auto_enc_x, auto_enc_x,\n",
        "                epochs= epochs,\n",
        "                batch_size= batch_size,\n",
        "                shuffle=True,\n",
        "                validation_data=(auto_enc_test_x, auto_enc_test_x))\n"
      ],
      "execution_count": 0,
      "outputs": [
        {
          "output_type": "stream",
          "text": [
            "Train on 78929 samples, validate on 38651 samples\n",
            "Epoch 1/100\n",
            "78929/78929 [==============================] - 7s 87us/sample - loss: 0.7069 - val_loss: 0.7016\n",
            "Epoch 2/100\n",
            "78929/78929 [==============================] - 6s 81us/sample - loss: 0.6924 - val_loss: 0.6871\n",
            "Epoch 3/100\n",
            "78929/78929 [==============================] - 6s 79us/sample - loss: 0.6756 - val_loss: 0.6711\n",
            "Epoch 4/100\n",
            "78929/78929 [==============================] - 6s 79us/sample - loss: 0.6573 - val_loss: 0.6540\n",
            "Epoch 5/100\n",
            "78929/78929 [==============================] - 6s 81us/sample - loss: 0.6376 - val_loss: 0.6354\n",
            "Epoch 6/100\n",
            "78929/78929 [==============================] - 7s 83us/sample - loss: 0.6162 - val_loss: 0.6152\n",
            "Epoch 7/100\n",
            "78929/78929 [==============================] - 6s 80us/sample - loss: 0.5928 - val_loss: 0.5932\n",
            "Epoch 8/100\n",
            "78929/78929 [==============================] - 6s 82us/sample - loss: 0.5674 - val_loss: 0.5693\n",
            "Epoch 9/100\n",
            "78929/78929 [==============================] - 6s 80us/sample - loss: 0.5402 - val_loss: 0.5439\n",
            "Epoch 10/100\n",
            "78929/78929 [==============================] - 7s 85us/sample - loss: 0.5115 - val_loss: 0.5173\n",
            "Epoch 11/100\n",
            "78929/78929 [==============================] - 7s 94us/sample - loss: 0.4819 - val_loss: 0.4903\n",
            "Epoch 12/100\n",
            "78929/78929 [==============================] - 7s 86us/sample - loss: 0.4523 - val_loss: 0.4635\n",
            "Epoch 13/100\n",
            "78929/78929 [==============================] - 7s 84us/sample - loss: 0.4236 - val_loss: 0.4378\n",
            "Epoch 14/100\n",
            "78929/78929 [==============================] - 7s 89us/sample - loss: 0.3965 - val_loss: 0.4138\n",
            "Epoch 15/100\n",
            "78929/78929 [==============================] - 7s 87us/sample - loss: 0.3715 - val_loss: 0.3920\n",
            "Epoch 16/100\n",
            "78929/78929 [==============================] - 7s 87us/sample - loss: 0.3491 - val_loss: 0.3725\n",
            "Epoch 17/100\n",
            "78929/78929 [==============================] - 7s 91us/sample - loss: 0.3295 - val_loss: 0.3555\n",
            "Epoch 18/100\n",
            "78929/78929 [==============================] - 7s 89us/sample - loss: 0.3125 - val_loss: 0.3409\n",
            "Epoch 19/100\n",
            "78929/78929 [==============================] - 7s 84us/sample - loss: 0.2980 - val_loss: 0.3284\n",
            "Epoch 20/100\n",
            "78929/78929 [==============================] - 7s 87us/sample - loss: 0.2856 - val_loss: 0.3178\n",
            "Epoch 21/100\n",
            "78929/78929 [==============================] - 7s 83us/sample - loss: 0.2752 - val_loss: 0.3089\n",
            "Epoch 22/100\n",
            "78929/78929 [==============================] - 7s 84us/sample - loss: 0.2665 - val_loss: 0.3014\n",
            "Epoch 23/100\n",
            "78929/78929 [==============================] - 7s 86us/sample - loss: 0.2591 - val_loss: 0.2950\n",
            "Epoch 24/100\n",
            "78929/78929 [==============================] - 7s 85us/sample - loss: 0.2529 - val_loss: 0.2895\n",
            "Epoch 25/100\n",
            "78929/78929 [==============================] - 7s 87us/sample - loss: 0.2476 - val_loss: 0.2849\n",
            "Epoch 26/100\n",
            "78929/78929 [==============================] - 7s 87us/sample - loss: 0.2432 - val_loss: 0.2809\n",
            "Epoch 27/100\n",
            "78929/78929 [==============================] - 7s 87us/sample - loss: 0.2393 - val_loss: 0.2775\n",
            "Epoch 28/100\n",
            "78929/78929 [==============================] - 7s 87us/sample - loss: 0.2360 - val_loss: 0.2744\n",
            "Epoch 29/100\n",
            "78929/78929 [==============================] - 7s 83us/sample - loss: 0.2331 - val_loss: 0.2718\n",
            "Epoch 30/100\n",
            "78929/78929 [==============================] - 7s 85us/sample - loss: 0.2305 - val_loss: 0.2694\n",
            "Epoch 31/100\n",
            "78929/78929 [==============================] - 7s 84us/sample - loss: 0.2282 - val_loss: 0.2673\n",
            "Epoch 32/100\n",
            "78929/78929 [==============================] - 7s 85us/sample - loss: 0.2262 - val_loss: 0.2653\n",
            "Epoch 33/100\n",
            "78929/78929 [==============================] - 7s 85us/sample - loss: 0.2244 - val_loss: 0.2636\n",
            "Epoch 34/100\n",
            "78929/78929 [==============================] - 7s 84us/sample - loss: 0.2228 - val_loss: 0.2620\n",
            "Epoch 35/100\n",
            "78929/78929 [==============================] - 6s 82us/sample - loss: 0.2213 - val_loss: 0.2605\n",
            "Epoch 36/100\n",
            "78929/78929 [==============================] - 6s 82us/sample - loss: 0.2199 - val_loss: 0.2591\n",
            "Epoch 37/100\n",
            "78929/78929 [==============================] - 7s 85us/sample - loss: 0.2187 - val_loss: 0.2579\n",
            "Epoch 38/100\n",
            "78929/78929 [==============================] - 7s 83us/sample - loss: 0.2175 - val_loss: 0.2567\n",
            "Epoch 39/100\n",
            "78929/78929 [==============================] - 7s 82us/sample - loss: 0.2164 - val_loss: 0.2555\n",
            "Epoch 40/100\n",
            "78929/78929 [==============================] - 7s 82us/sample - loss: 0.2154 - val_loss: 0.2545\n",
            "Epoch 41/100\n",
            "78929/78929 [==============================] - 6s 82us/sample - loss: 0.2145 - val_loss: 0.2535\n",
            "Epoch 42/100\n",
            "78929/78929 [==============================] - 6s 82us/sample - loss: 0.2136 - val_loss: 0.2525\n",
            "Epoch 43/100\n",
            "78929/78929 [==============================] - 7s 85us/sample - loss: 0.2128 - val_loss: 0.2516\n",
            "Epoch 44/100\n",
            "78929/78929 [==============================] - 7s 85us/sample - loss: 0.2120 - val_loss: 0.2507\n",
            "Epoch 45/100\n",
            "78929/78929 [==============================] - 7s 85us/sample - loss: 0.2112 - val_loss: 0.2498\n",
            "Epoch 46/100\n",
            "78929/78929 [==============================] - 7s 86us/sample - loss: 0.2105 - val_loss: 0.2490\n",
            "Epoch 47/100\n",
            "78929/78929 [==============================] - 7s 86us/sample - loss: 0.2098 - val_loss: 0.2482\n",
            "Epoch 48/100\n",
            "78929/78929 [==============================] - 7s 86us/sample - loss: 0.2091 - val_loss: 0.2474\n",
            "Epoch 49/100\n",
            "78929/78929 [==============================] - 7s 86us/sample - loss: 0.2085 - val_loss: 0.2466\n",
            "Epoch 50/100\n",
            "78929/78929 [==============================] - 7s 85us/sample - loss: 0.2079 - val_loss: 0.2459\n",
            "Epoch 51/100\n",
            "78929/78929 [==============================] - 7s 85us/sample - loss: 0.2073 - val_loss: 0.2452\n",
            "Epoch 52/100\n",
            "78929/78929 [==============================] - 7s 86us/sample - loss: 0.2067 - val_loss: 0.2445\n",
            "Epoch 53/100\n",
            "78929/78929 [==============================] - 7s 92us/sample - loss: 0.2062 - val_loss: 0.2438\n",
            "Epoch 54/100\n",
            "78929/78929 [==============================] - 7s 83us/sample - loss: 0.2056 - val_loss: 0.2431\n",
            "Epoch 55/100\n",
            "78929/78929 [==============================] - 7s 86us/sample - loss: 0.2051 - val_loss: 0.2425\n",
            "Epoch 56/100\n",
            "78929/78929 [==============================] - 7s 89us/sample - loss: 0.2046 - val_loss: 0.2418\n",
            "Epoch 57/100\n",
            "78929/78929 [==============================] - 8s 95us/sample - loss: 0.2041 - val_loss: 0.2412\n",
            "Epoch 58/100\n",
            "78929/78929 [==============================] - 7s 89us/sample - loss: 0.2036 - val_loss: 0.2406\n",
            "Epoch 59/100\n",
            "78929/78929 [==============================] - 7s 89us/sample - loss: 0.2031 - val_loss: 0.2400\n",
            "Epoch 60/100\n",
            "78929/78929 [==============================] - 7s 94us/sample - loss: 0.2026 - val_loss: 0.2394\n",
            "Epoch 61/100\n",
            "78929/78929 [==============================] - 7s 86us/sample - loss: 0.2021 - val_loss: 0.2388\n",
            "Epoch 62/100\n",
            "78929/78929 [==============================] - 7s 86us/sample - loss: 0.2017 - val_loss: 0.2382\n",
            "Epoch 63/100\n",
            "78929/78929 [==============================] - 7s 87us/sample - loss: 0.2012 - val_loss: 0.2376\n",
            "Epoch 64/100\n",
            "78929/78929 [==============================] - 7s 89us/sample - loss: 0.2008 - val_loss: 0.2370\n",
            "Epoch 65/100\n",
            "78929/78929 [==============================] - 8s 107us/sample - loss: 0.2003 - val_loss: 0.2364\n",
            "Epoch 66/100\n",
            "78929/78929 [==============================] - 7s 89us/sample - loss: 0.1999 - val_loss: 0.2359\n",
            "Epoch 67/100\n",
            "78929/78929 [==============================] - 7s 86us/sample - loss: 0.1995 - val_loss: 0.2353\n",
            "Epoch 68/100\n",
            "78929/78929 [==============================] - 7s 90us/sample - loss: 0.1991 - val_loss: 0.2347\n",
            "Epoch 69/100\n",
            "78929/78929 [==============================] - 7s 93us/sample - loss: 0.1986 - val_loss: 0.2342\n",
            "Epoch 70/100\n",
            "78929/78929 [==============================] - 7s 88us/sample - loss: 0.1982 - val_loss: 0.2337\n",
            "Epoch 71/100\n",
            "78929/78929 [==============================] - 7s 86us/sample - loss: 0.1978 - val_loss: 0.2331\n",
            "Epoch 72/100\n",
            "78929/78929 [==============================] - 7s 86us/sample - loss: 0.1974 - val_loss: 0.2326\n",
            "Epoch 73/100\n",
            "78929/78929 [==============================] - 7s 95us/sample - loss: 0.1970 - val_loss: 0.2320\n",
            "Epoch 74/100\n",
            "78929/78929 [==============================] - 7s 88us/sample - loss: 0.1966 - val_loss: 0.2315\n",
            "Epoch 75/100\n",
            "78929/78929 [==============================] - 7s 91us/sample - loss: 0.1962 - val_loss: 0.2310\n",
            "Epoch 76/100\n",
            "78929/78929 [==============================] - 7s 87us/sample - loss: 0.1958 - val_loss: 0.2304\n",
            "Epoch 77/100\n",
            "78929/78929 [==============================] - 7s 86us/sample - loss: 0.1954 - val_loss: 0.2299\n",
            "Epoch 78/100\n",
            "78929/78929 [==============================] - 7s 88us/sample - loss: 0.1950 - val_loss: 0.2294\n",
            "Epoch 79/100\n",
            "78929/78929 [==============================] - 7s 92us/sample - loss: 0.1946 - val_loss: 0.2289\n",
            "Epoch 80/100\n",
            "78929/78929 [==============================] - 7s 86us/sample - loss: 0.1942 - val_loss: 0.2283\n",
            "Epoch 81/100\n",
            "78929/78929 [==============================] - 7s 95us/sample - loss: 0.1939 - val_loss: 0.2278\n",
            "Epoch 82/100\n",
            "78929/78929 [==============================] - 7s 87us/sample - loss: 0.1935 - val_loss: 0.2273\n",
            "Epoch 83/100\n",
            "78929/78929 [==============================] - 7s 85us/sample - loss: 0.1931 - val_loss: 0.2268\n",
            "Epoch 84/100\n",
            "78929/78929 [==============================] - 7s 84us/sample - loss: 0.1927 - val_loss: 0.2263\n",
            "Epoch 85/100\n",
            "78929/78929 [==============================] - 7s 87us/sample - loss: 0.1923 - val_loss: 0.2258\n",
            "Epoch 86/100\n",
            "78929/78929 [==============================] - 7s 90us/sample - loss: 0.1919 - val_loss: 0.2252\n",
            "Epoch 87/100\n",
            "78929/78929 [==============================] - 8s 105us/sample - loss: 0.1916 - val_loss: 0.2247\n",
            "Epoch 88/100\n",
            "78929/78929 [==============================] - 7s 87us/sample - loss: 0.1912 - val_loss: 0.2242\n",
            "Epoch 89/100\n",
            "78929/78929 [==============================] - 7s 89us/sample - loss: 0.1908 - val_loss: 0.2237\n",
            "Epoch 90/100\n",
            "78929/78929 [==============================] - 7s 87us/sample - loss: 0.1904 - val_loss: 0.2232\n",
            "Epoch 91/100\n",
            "78929/78929 [==============================] - 8s 95us/sample - loss: 0.1900 - val_loss: 0.2227\n",
            "Epoch 92/100\n",
            "78929/78929 [==============================] - 7s 88us/sample - loss: 0.1897 - val_loss: 0.2222\n",
            "Epoch 93/100\n",
            "78929/78929 [==============================] - 7s 87us/sample - loss: 0.1893 - val_loss: 0.2217\n",
            "Epoch 94/100\n",
            "78929/78929 [==============================] - 7s 87us/sample - loss: 0.1889 - val_loss: 0.2212\n",
            "Epoch 95/100\n",
            "78929/78929 [==============================] - 7s 90us/sample - loss: 0.1885 - val_loss: 0.2207\n",
            "Epoch 96/100\n",
            "78929/78929 [==============================] - 8s 102us/sample - loss: 0.1882 - val_loss: 0.2202\n",
            "Epoch 97/100\n",
            "78929/78929 [==============================] - 7s 93us/sample - loss: 0.1878 - val_loss: 0.2198\n",
            "Epoch 98/100\n",
            "78929/78929 [==============================] - 7s 88us/sample - loss: 0.1874 - val_loss: 0.2193\n",
            "Epoch 99/100\n",
            "78929/78929 [==============================] - 7s 88us/sample - loss: 0.1871 - val_loss: 0.2188\n",
            "Epoch 100/100\n",
            "78929/78929 [==============================] - 7s 92us/sample - loss: 0.1867 - val_loss: 0.2183\n"
          ],
          "name": "stdout"
        },
        {
          "output_type": "execute_result",
          "data": {
            "text/plain": [
              "<tensorflow.python.keras.callbacks.History at 0x7f584b4f1dd8>"
            ]
          },
          "metadata": {
            "tags": []
          },
          "execution_count": 646
        }
      ]
    },
    {
      "cell_type": "code",
      "metadata": {
        "id": "X8H6XcnjwDIQ",
        "colab_type": "code",
        "colab": {}
      },
      "source": [
        "# encode and decode some digits\n",
        "# note that we take them from the *test* set\n",
        "encoded_imgs = encoder.predict(auto_enc_test_x)\n",
        "decoded_imgs = decoder.predict(encoded_imgs)"
      ],
      "execution_count": 0,
      "outputs": []
    },
    {
      "cell_type": "code",
      "metadata": {
        "id": "GxS3uFLNwXqe",
        "colab_type": "code",
        "colab": {}
      },
      "source": [
        "error = abs(encoded_imgs - decoded_imgs)\n",
        "error = np.mean(error, axis=1)"
      ],
      "execution_count": 0,
      "outputs": []
    },
    {
      "cell_type": "code",
      "metadata": {
        "id": "s049S75A7hWs",
        "colab_type": "code",
        "outputId": "4463345d-bf36-4adc-974c-b6fffab8cf10",
        "colab": {
          "base_uri": "https://localhost:8080/",
          "height": 85
        }
      },
      "source": [
        "error[:19]"
      ],
      "execution_count": 0,
      "outputs": [
        {
          "output_type": "execute_result",
          "data": {
            "text/plain": [
              "array([0.43838778, 0.6759939 , 0.28431553, 0.4389659 , 0.56080866,\n",
              "       0.5712089 , 0.42715177, 0.6785251 , 0.46099526, 0.6571073 ,\n",
              "       0.6879336 , 0.29038253, 0.43683097, 0.44519678, 0.6766341 ,\n",
              "       0.34276676, 0.59471583, 0.61420316, 0.591522  ], dtype=float32)"
            ]
          },
          "metadata": {
            "tags": []
          },
          "execution_count": 649
        }
      ]
    },
    {
      "cell_type": "code",
      "metadata": {
        "id": "UjwhEclk6JOR",
        "colab_type": "code",
        "colab": {}
      },
      "source": [
        "threshold = 0.33\n",
        "pred_y = [0 if x < threshold else 1 for x in error]"
      ],
      "execution_count": 0,
      "outputs": []
    },
    {
      "cell_type": "code",
      "metadata": {
        "id": "bPKF6l5r7b2L",
        "colab_type": "code",
        "outputId": "98c1824e-4343-49f8-ff34-3629c444732b",
        "colab": {
          "base_uri": "https://localhost:8080/",
          "height": 34
        }
      },
      "source": [
        "pred_y[:19]"
      ],
      "execution_count": 0,
      "outputs": [
        {
          "output_type": "execute_result",
          "data": {
            "text/plain": [
              "[1, 1, 0, 1, 1, 1, 1, 1, 1, 1, 1, 0, 1, 1, 1, 1, 1, 1, 1]"
            ]
          },
          "metadata": {
            "tags": []
          },
          "execution_count": 651
        }
      ]
    },
    {
      "cell_type": "code",
      "metadata": {
        "id": "okii2UGT4Rr8",
        "colab_type": "code",
        "colab": {}
      },
      "source": [
        "from sklearn.metrics import confusion_matrix "
      ],
      "execution_count": 0,
      "outputs": []
    },
    {
      "cell_type": "code",
      "metadata": {
        "id": "DLFq_YoNzATj",
        "colab_type": "code",
        "outputId": "40b4f48a-cf33-4c8d-ed45-bce920611b4e",
        "colab": {
          "base_uri": "https://localhost:8080/",
          "height": 51
        }
      },
      "source": [
        "cm = confusion_matrix(auto_enc_test_y, pred_y) \n",
        "\n",
        "cm "
      ],
      "execution_count": 0,
      "outputs": [
        {
          "output_type": "execute_result",
          "data": {
            "text/plain": [
              "array([[  601, 13470],\n",
              "       [ 1100, 23480]])"
            ]
          },
          "metadata": {
            "tags": []
          },
          "execution_count": 654
        }
      ]
    },
    {
      "cell_type": "code",
      "metadata": {
        "id": "Kt3wVI1G4TuR",
        "colab_type": "code",
        "colab": {}
      },
      "source": [
        ""
      ],
      "execution_count": 0,
      "outputs": []
    }
  ]
}